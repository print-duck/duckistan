{
 "cells": [
  {
   "cell_type": "code",
   "execution_count": 1,
   "metadata": {},
   "outputs": [],
   "source": [
    "import numpy as np\n",
    "import pandas as pd\n",
    "import matplotlib.pyplot as plt\n",
    "import seaborn as sns\n",
    "%matplotlib inline"
   ]
  },
  {
   "cell_type": "code",
   "execution_count": 2,
   "metadata": {},
   "outputs": [],
   "source": [
    "data=pd.read_csv(\"train_dataset.csv\")"
   ]
  },
  {
   "cell_type": "code",
   "execution_count": 3,
   "metadata": {},
   "outputs": [
    {
     "name": "stdout",
     "output_type": "stream",
     "text": [
      "<class 'pandas.core.frame.DataFrame'>\n",
      "RangeIndex: 54808 entries, 0 to 54807\n",
      "Data columns (total 14 columns):\n",
      " #   Column                Non-Null Count  Dtype  \n",
      "---  ------                --------------  -----  \n",
      " 0   employee_id           54808 non-null  int64  \n",
      " 1   department            54808 non-null  object \n",
      " 2   region                54808 non-null  object \n",
      " 3   education             52399 non-null  object \n",
      " 4   gender                54808 non-null  object \n",
      " 5   recruitment_channel   54808 non-null  object \n",
      " 6   no_of_trainings       54808 non-null  int64  \n",
      " 7   age                   54808 non-null  int64  \n",
      " 8   previous_year_rating  50684 non-null  float64\n",
      " 9   length_of_service     54808 non-null  int64  \n",
      " 10  KPIs_met >80%         54808 non-null  int64  \n",
      " 11  awards_won?           54808 non-null  int64  \n",
      " 12  avg_training_score    54808 non-null  int64  \n",
      " 13  is_promoted           54808 non-null  int64  \n",
      "dtypes: float64(1), int64(8), object(5)\n",
      "memory usage: 5.9+ MB\n"
     ]
    }
   ],
   "source": [
    "data.info()"
   ]
  },
  {
   "cell_type": "code",
   "execution_count": 4,
   "metadata": {},
   "outputs": [
    {
     "data": {
      "text/html": [
       "<div>\n",
       "<style scoped>\n",
       "    .dataframe tbody tr th:only-of-type {\n",
       "        vertical-align: middle;\n",
       "    }\n",
       "\n",
       "    .dataframe tbody tr th {\n",
       "        vertical-align: top;\n",
       "    }\n",
       "\n",
       "    .dataframe thead th {\n",
       "        text-align: right;\n",
       "    }\n",
       "</style>\n",
       "<table border=\"1\" class=\"dataframe\">\n",
       "  <thead>\n",
       "    <tr style=\"text-align: right;\">\n",
       "      <th></th>\n",
       "      <th>employee_id</th>\n",
       "      <th>department</th>\n",
       "      <th>region</th>\n",
       "      <th>education</th>\n",
       "      <th>gender</th>\n",
       "      <th>recruitment_channel</th>\n",
       "      <th>no_of_trainings</th>\n",
       "      <th>age</th>\n",
       "      <th>previous_year_rating</th>\n",
       "      <th>length_of_service</th>\n",
       "      <th>KPIs_met &gt;80%</th>\n",
       "      <th>awards_won?</th>\n",
       "      <th>avg_training_score</th>\n",
       "      <th>is_promoted</th>\n",
       "    </tr>\n",
       "  </thead>\n",
       "  <tbody>\n",
       "    <tr>\n",
       "      <th>0</th>\n",
       "      <td>65438</td>\n",
       "      <td>Sales &amp; Marketing</td>\n",
       "      <td>region_7</td>\n",
       "      <td>Master's &amp; above</td>\n",
       "      <td>f</td>\n",
       "      <td>sourcing</td>\n",
       "      <td>1</td>\n",
       "      <td>35</td>\n",
       "      <td>5.0</td>\n",
       "      <td>8</td>\n",
       "      <td>1</td>\n",
       "      <td>0</td>\n",
       "      <td>49</td>\n",
       "      <td>0</td>\n",
       "    </tr>\n",
       "    <tr>\n",
       "      <th>1</th>\n",
       "      <td>65141</td>\n",
       "      <td>Operations</td>\n",
       "      <td>region_22</td>\n",
       "      <td>Bachelor's</td>\n",
       "      <td>m</td>\n",
       "      <td>other</td>\n",
       "      <td>1</td>\n",
       "      <td>30</td>\n",
       "      <td>5.0</td>\n",
       "      <td>4</td>\n",
       "      <td>0</td>\n",
       "      <td>0</td>\n",
       "      <td>60</td>\n",
       "      <td>0</td>\n",
       "    </tr>\n",
       "    <tr>\n",
       "      <th>2</th>\n",
       "      <td>7513</td>\n",
       "      <td>Sales &amp; Marketing</td>\n",
       "      <td>region_19</td>\n",
       "      <td>Bachelor's</td>\n",
       "      <td>m</td>\n",
       "      <td>sourcing</td>\n",
       "      <td>1</td>\n",
       "      <td>34</td>\n",
       "      <td>3.0</td>\n",
       "      <td>7</td>\n",
       "      <td>0</td>\n",
       "      <td>0</td>\n",
       "      <td>50</td>\n",
       "      <td>0</td>\n",
       "    </tr>\n",
       "    <tr>\n",
       "      <th>3</th>\n",
       "      <td>2542</td>\n",
       "      <td>Sales &amp; Marketing</td>\n",
       "      <td>region_23</td>\n",
       "      <td>Bachelor's</td>\n",
       "      <td>m</td>\n",
       "      <td>other</td>\n",
       "      <td>2</td>\n",
       "      <td>39</td>\n",
       "      <td>1.0</td>\n",
       "      <td>10</td>\n",
       "      <td>0</td>\n",
       "      <td>0</td>\n",
       "      <td>50</td>\n",
       "      <td>0</td>\n",
       "    </tr>\n",
       "    <tr>\n",
       "      <th>4</th>\n",
       "      <td>48945</td>\n",
       "      <td>Technology</td>\n",
       "      <td>region_26</td>\n",
       "      <td>Bachelor's</td>\n",
       "      <td>m</td>\n",
       "      <td>other</td>\n",
       "      <td>1</td>\n",
       "      <td>45</td>\n",
       "      <td>3.0</td>\n",
       "      <td>2</td>\n",
       "      <td>0</td>\n",
       "      <td>0</td>\n",
       "      <td>73</td>\n",
       "      <td>0</td>\n",
       "    </tr>\n",
       "  </tbody>\n",
       "</table>\n",
       "</div>"
      ],
      "text/plain": [
       "   employee_id         department     region         education gender  \\\n",
       "0        65438  Sales & Marketing   region_7  Master's & above      f   \n",
       "1        65141         Operations  region_22        Bachelor's      m   \n",
       "2         7513  Sales & Marketing  region_19        Bachelor's      m   \n",
       "3         2542  Sales & Marketing  region_23        Bachelor's      m   \n",
       "4        48945         Technology  region_26        Bachelor's      m   \n",
       "\n",
       "  recruitment_channel  no_of_trainings  age  previous_year_rating  \\\n",
       "0            sourcing                1   35                   5.0   \n",
       "1               other                1   30                   5.0   \n",
       "2            sourcing                1   34                   3.0   \n",
       "3               other                2   39                   1.0   \n",
       "4               other                1   45                   3.0   \n",
       "\n",
       "   length_of_service  KPIs_met >80%  awards_won?  avg_training_score  \\\n",
       "0                  8              1            0                  49   \n",
       "1                  4              0            0                  60   \n",
       "2                  7              0            0                  50   \n",
       "3                 10              0            0                  50   \n",
       "4                  2              0            0                  73   \n",
       "\n",
       "   is_promoted  \n",
       "0            0  \n",
       "1            0  \n",
       "2            0  \n",
       "3            0  \n",
       "4            0  "
      ]
     },
     "execution_count": 4,
     "metadata": {},
     "output_type": "execute_result"
    }
   ],
   "source": [
    "data.head()"
   ]
  },
  {
   "cell_type": "code",
   "execution_count": 5,
   "metadata": {},
   "outputs": [
    {
     "data": {
      "text/html": [
       "<div>\n",
       "<style scoped>\n",
       "    .dataframe tbody tr th:only-of-type {\n",
       "        vertical-align: middle;\n",
       "    }\n",
       "\n",
       "    .dataframe tbody tr th {\n",
       "        vertical-align: top;\n",
       "    }\n",
       "\n",
       "    .dataframe thead th {\n",
       "        text-align: right;\n",
       "    }\n",
       "</style>\n",
       "<table border=\"1\" class=\"dataframe\">\n",
       "  <thead>\n",
       "    <tr style=\"text-align: right;\">\n",
       "      <th></th>\n",
       "      <th>employee_id</th>\n",
       "      <th>department</th>\n",
       "      <th>region</th>\n",
       "      <th>education</th>\n",
       "      <th>gender</th>\n",
       "      <th>recruitment_channel</th>\n",
       "      <th>no_of_trainings</th>\n",
       "      <th>age</th>\n",
       "      <th>previous_year_rating</th>\n",
       "      <th>length_of_service</th>\n",
       "      <th>KPIs_met &gt;80%</th>\n",
       "      <th>awards_won?</th>\n",
       "      <th>avg_training_score</th>\n",
       "      <th>is_promoted</th>\n",
       "    </tr>\n",
       "  </thead>\n",
       "  <tbody>\n",
       "    <tr>\n",
       "      <th>54803</th>\n",
       "      <td>3030</td>\n",
       "      <td>Technology</td>\n",
       "      <td>region_14</td>\n",
       "      <td>Bachelor's</td>\n",
       "      <td>m</td>\n",
       "      <td>sourcing</td>\n",
       "      <td>1</td>\n",
       "      <td>48</td>\n",
       "      <td>3.0</td>\n",
       "      <td>17</td>\n",
       "      <td>0</td>\n",
       "      <td>0</td>\n",
       "      <td>78</td>\n",
       "      <td>0</td>\n",
       "    </tr>\n",
       "    <tr>\n",
       "      <th>54804</th>\n",
       "      <td>74592</td>\n",
       "      <td>Operations</td>\n",
       "      <td>region_27</td>\n",
       "      <td>Master's &amp; above</td>\n",
       "      <td>f</td>\n",
       "      <td>other</td>\n",
       "      <td>1</td>\n",
       "      <td>37</td>\n",
       "      <td>2.0</td>\n",
       "      <td>6</td>\n",
       "      <td>0</td>\n",
       "      <td>0</td>\n",
       "      <td>56</td>\n",
       "      <td>0</td>\n",
       "    </tr>\n",
       "    <tr>\n",
       "      <th>54805</th>\n",
       "      <td>13918</td>\n",
       "      <td>Analytics</td>\n",
       "      <td>region_1</td>\n",
       "      <td>Bachelor's</td>\n",
       "      <td>m</td>\n",
       "      <td>other</td>\n",
       "      <td>1</td>\n",
       "      <td>27</td>\n",
       "      <td>5.0</td>\n",
       "      <td>3</td>\n",
       "      <td>1</td>\n",
       "      <td>0</td>\n",
       "      <td>79</td>\n",
       "      <td>0</td>\n",
       "    </tr>\n",
       "    <tr>\n",
       "      <th>54806</th>\n",
       "      <td>13614</td>\n",
       "      <td>Sales &amp; Marketing</td>\n",
       "      <td>region_9</td>\n",
       "      <td>NaN</td>\n",
       "      <td>m</td>\n",
       "      <td>sourcing</td>\n",
       "      <td>1</td>\n",
       "      <td>29</td>\n",
       "      <td>1.0</td>\n",
       "      <td>2</td>\n",
       "      <td>0</td>\n",
       "      <td>0</td>\n",
       "      <td>45</td>\n",
       "      <td>0</td>\n",
       "    </tr>\n",
       "    <tr>\n",
       "      <th>54807</th>\n",
       "      <td>51526</td>\n",
       "      <td>HR</td>\n",
       "      <td>region_22</td>\n",
       "      <td>Bachelor's</td>\n",
       "      <td>m</td>\n",
       "      <td>other</td>\n",
       "      <td>1</td>\n",
       "      <td>27</td>\n",
       "      <td>1.0</td>\n",
       "      <td>5</td>\n",
       "      <td>0</td>\n",
       "      <td>0</td>\n",
       "      <td>49</td>\n",
       "      <td>0</td>\n",
       "    </tr>\n",
       "  </tbody>\n",
       "</table>\n",
       "</div>"
      ],
      "text/plain": [
       "       employee_id         department     region         education gender  \\\n",
       "54803         3030         Technology  region_14        Bachelor's      m   \n",
       "54804        74592         Operations  region_27  Master's & above      f   \n",
       "54805        13918          Analytics   region_1        Bachelor's      m   \n",
       "54806        13614  Sales & Marketing   region_9               NaN      m   \n",
       "54807        51526                 HR  region_22        Bachelor's      m   \n",
       "\n",
       "      recruitment_channel  no_of_trainings  age  previous_year_rating  \\\n",
       "54803            sourcing                1   48                   3.0   \n",
       "54804               other                1   37                   2.0   \n",
       "54805               other                1   27                   5.0   \n",
       "54806            sourcing                1   29                   1.0   \n",
       "54807               other                1   27                   1.0   \n",
       "\n",
       "       length_of_service  KPIs_met >80%  awards_won?  avg_training_score  \\\n",
       "54803                 17              0            0                  78   \n",
       "54804                  6              0            0                  56   \n",
       "54805                  3              1            0                  79   \n",
       "54806                  2              0            0                  45   \n",
       "54807                  5              0            0                  49   \n",
       "\n",
       "       is_promoted  \n",
       "54803            0  \n",
       "54804            0  \n",
       "54805            0  \n",
       "54806            0  \n",
       "54807            0  "
      ]
     },
     "execution_count": 5,
     "metadata": {},
     "output_type": "execute_result"
    }
   ],
   "source": [
    "data.tail()"
   ]
  },
  {
   "cell_type": "code",
   "execution_count": 6,
   "metadata": {},
   "outputs": [
    {
     "data": {
      "text/plain": [
       "employee_id             False\n",
       "department              False\n",
       "region                  False\n",
       "education                True\n",
       "gender                  False\n",
       "recruitment_channel     False\n",
       "no_of_trainings         False\n",
       "age                     False\n",
       "previous_year_rating     True\n",
       "length_of_service       False\n",
       "KPIs_met >80%           False\n",
       "awards_won?             False\n",
       "avg_training_score      False\n",
       "is_promoted             False\n",
       "dtype: bool"
      ]
     },
     "execution_count": 6,
     "metadata": {},
     "output_type": "execute_result"
    }
   ],
   "source": [
    "data.isnull().any()"
   ]
  },
  {
   "cell_type": "code",
   "execution_count": 7,
   "metadata": {},
   "outputs": [
    {
     "data": {
      "text/plain": [
       "employee_id                0\n",
       "department                 0\n",
       "region                     0\n",
       "education               2409\n",
       "gender                     0\n",
       "recruitment_channel        0\n",
       "no_of_trainings            0\n",
       "age                        0\n",
       "previous_year_rating    4124\n",
       "length_of_service          0\n",
       "KPIs_met >80%              0\n",
       "awards_won?                0\n",
       "avg_training_score         0\n",
       "is_promoted                0\n",
       "dtype: int64"
      ]
     },
     "execution_count": 7,
     "metadata": {},
     "output_type": "execute_result"
    }
   ],
   "source": [
    "data.isnull().sum()"
   ]
  },
  {
   "cell_type": "code",
   "execution_count": 8,
   "metadata": {},
   "outputs": [
    {
     "data": {
      "text/plain": [
       "(54808, 14)"
      ]
     },
     "execution_count": 8,
     "metadata": {},
     "output_type": "execute_result"
    }
   ],
   "source": [
    "data.shape"
   ]
  },
  {
   "cell_type": "code",
   "execution_count": 9,
   "metadata": {},
   "outputs": [],
   "source": [
    "data.dropna(inplace=True)"
   ]
  },
  {
   "cell_type": "code",
   "execution_count": 10,
   "metadata": {},
   "outputs": [
    {
     "data": {
      "text/plain": [
       "employee_id             False\n",
       "department              False\n",
       "region                  False\n",
       "education               False\n",
       "gender                  False\n",
       "recruitment_channel     False\n",
       "no_of_trainings         False\n",
       "age                     False\n",
       "previous_year_rating    False\n",
       "length_of_service       False\n",
       "KPIs_met >80%           False\n",
       "awards_won?             False\n",
       "avg_training_score      False\n",
       "is_promoted             False\n",
       "dtype: bool"
      ]
     },
     "execution_count": 10,
     "metadata": {},
     "output_type": "execute_result"
    }
   ],
   "source": [
    "data.isnull().any()"
   ]
  },
  {
   "cell_type": "code",
   "execution_count": 11,
   "metadata": {},
   "outputs": [
    {
     "data": {
      "text/plain": [
       "employee_id             0\n",
       "department              0\n",
       "region                  0\n",
       "education               0\n",
       "gender                  0\n",
       "recruitment_channel     0\n",
       "no_of_trainings         0\n",
       "age                     0\n",
       "previous_year_rating    0\n",
       "length_of_service       0\n",
       "KPIs_met >80%           0\n",
       "awards_won?             0\n",
       "avg_training_score      0\n",
       "is_promoted             0\n",
       "dtype: int64"
      ]
     },
     "execution_count": 11,
     "metadata": {},
     "output_type": "execute_result"
    }
   ],
   "source": [
    "data.isnull().sum()"
   ]
  },
  {
   "cell_type": "code",
   "execution_count": 12,
   "metadata": {},
   "outputs": [
    {
     "name": "stdout",
     "output_type": "stream",
     "text": [
      "<class 'pandas.core.frame.DataFrame'>\n",
      "Int64Index: 48660 entries, 0 to 54807\n",
      "Data columns (total 14 columns):\n",
      " #   Column                Non-Null Count  Dtype  \n",
      "---  ------                --------------  -----  \n",
      " 0   employee_id           48660 non-null  int64  \n",
      " 1   department            48660 non-null  object \n",
      " 2   region                48660 non-null  object \n",
      " 3   education             48660 non-null  object \n",
      " 4   gender                48660 non-null  object \n",
      " 5   recruitment_channel   48660 non-null  object \n",
      " 6   no_of_trainings       48660 non-null  int64  \n",
      " 7   age                   48660 non-null  int64  \n",
      " 8   previous_year_rating  48660 non-null  float64\n",
      " 9   length_of_service     48660 non-null  int64  \n",
      " 10  KPIs_met >80%         48660 non-null  int64  \n",
      " 11  awards_won?           48660 non-null  int64  \n",
      " 12  avg_training_score    48660 non-null  int64  \n",
      " 13  is_promoted           48660 non-null  int64  \n",
      "dtypes: float64(1), int64(8), object(5)\n",
      "memory usage: 5.6+ MB\n"
     ]
    }
   ],
   "source": [
    "data.info()"
   ]
  },
  {
   "cell_type": "code",
   "execution_count": 13,
   "metadata": {},
   "outputs": [
    {
     "data": {
      "text/plain": [
       "(48660, 14)"
      ]
     },
     "execution_count": 13,
     "metadata": {},
     "output_type": "execute_result"
    }
   ],
   "source": [
    "data.shape"
   ]
  },
  {
   "cell_type": "code",
   "execution_count": 14,
   "metadata": {},
   "outputs": [
    {
     "data": {
      "text/html": [
       "<div>\n",
       "<style scoped>\n",
       "    .dataframe tbody tr th:only-of-type {\n",
       "        vertical-align: middle;\n",
       "    }\n",
       "\n",
       "    .dataframe tbody tr th {\n",
       "        vertical-align: top;\n",
       "    }\n",
       "\n",
       "    .dataframe thead th {\n",
       "        text-align: right;\n",
       "    }\n",
       "</style>\n",
       "<table border=\"1\" class=\"dataframe\">\n",
       "  <thead>\n",
       "    <tr style=\"text-align: right;\">\n",
       "      <th></th>\n",
       "      <th>employee_id</th>\n",
       "      <th>department</th>\n",
       "      <th>region</th>\n",
       "      <th>education</th>\n",
       "      <th>gender</th>\n",
       "      <th>recruitment_channel</th>\n",
       "      <th>no_of_trainings</th>\n",
       "      <th>age</th>\n",
       "      <th>previous_year_rating</th>\n",
       "      <th>length_of_service</th>\n",
       "      <th>KPIs_met &gt;80%</th>\n",
       "      <th>awards_won?</th>\n",
       "      <th>avg_training_score</th>\n",
       "      <th>is_promoted</th>\n",
       "    </tr>\n",
       "  </thead>\n",
       "  <tbody>\n",
       "    <tr>\n",
       "      <th>0</th>\n",
       "      <td>65438</td>\n",
       "      <td>Sales &amp; Marketing</td>\n",
       "      <td>region_7</td>\n",
       "      <td>Master's &amp; above</td>\n",
       "      <td>f</td>\n",
       "      <td>sourcing</td>\n",
       "      <td>1</td>\n",
       "      <td>35</td>\n",
       "      <td>5.0</td>\n",
       "      <td>8</td>\n",
       "      <td>1</td>\n",
       "      <td>0</td>\n",
       "      <td>49</td>\n",
       "      <td>0</td>\n",
       "    </tr>\n",
       "    <tr>\n",
       "      <th>1</th>\n",
       "      <td>65141</td>\n",
       "      <td>Operations</td>\n",
       "      <td>region_22</td>\n",
       "      <td>Bachelor's</td>\n",
       "      <td>m</td>\n",
       "      <td>other</td>\n",
       "      <td>1</td>\n",
       "      <td>30</td>\n",
       "      <td>5.0</td>\n",
       "      <td>4</td>\n",
       "      <td>0</td>\n",
       "      <td>0</td>\n",
       "      <td>60</td>\n",
       "      <td>0</td>\n",
       "    </tr>\n",
       "    <tr>\n",
       "      <th>2</th>\n",
       "      <td>7513</td>\n",
       "      <td>Sales &amp; Marketing</td>\n",
       "      <td>region_19</td>\n",
       "      <td>Bachelor's</td>\n",
       "      <td>m</td>\n",
       "      <td>sourcing</td>\n",
       "      <td>1</td>\n",
       "      <td>34</td>\n",
       "      <td>3.0</td>\n",
       "      <td>7</td>\n",
       "      <td>0</td>\n",
       "      <td>0</td>\n",
       "      <td>50</td>\n",
       "      <td>0</td>\n",
       "    </tr>\n",
       "    <tr>\n",
       "      <th>3</th>\n",
       "      <td>2542</td>\n",
       "      <td>Sales &amp; Marketing</td>\n",
       "      <td>region_23</td>\n",
       "      <td>Bachelor's</td>\n",
       "      <td>m</td>\n",
       "      <td>other</td>\n",
       "      <td>2</td>\n",
       "      <td>39</td>\n",
       "      <td>1.0</td>\n",
       "      <td>10</td>\n",
       "      <td>0</td>\n",
       "      <td>0</td>\n",
       "      <td>50</td>\n",
       "      <td>0</td>\n",
       "    </tr>\n",
       "    <tr>\n",
       "      <th>4</th>\n",
       "      <td>48945</td>\n",
       "      <td>Technology</td>\n",
       "      <td>region_26</td>\n",
       "      <td>Bachelor's</td>\n",
       "      <td>m</td>\n",
       "      <td>other</td>\n",
       "      <td>1</td>\n",
       "      <td>45</td>\n",
       "      <td>3.0</td>\n",
       "      <td>2</td>\n",
       "      <td>0</td>\n",
       "      <td>0</td>\n",
       "      <td>73</td>\n",
       "      <td>0</td>\n",
       "    </tr>\n",
       "  </tbody>\n",
       "</table>\n",
       "</div>"
      ],
      "text/plain": [
       "   employee_id         department     region         education gender  \\\n",
       "0        65438  Sales & Marketing   region_7  Master's & above      f   \n",
       "1        65141         Operations  region_22        Bachelor's      m   \n",
       "2         7513  Sales & Marketing  region_19        Bachelor's      m   \n",
       "3         2542  Sales & Marketing  region_23        Bachelor's      m   \n",
       "4        48945         Technology  region_26        Bachelor's      m   \n",
       "\n",
       "  recruitment_channel  no_of_trainings  age  previous_year_rating  \\\n",
       "0            sourcing                1   35                   5.0   \n",
       "1               other                1   30                   5.0   \n",
       "2            sourcing                1   34                   3.0   \n",
       "3               other                2   39                   1.0   \n",
       "4               other                1   45                   3.0   \n",
       "\n",
       "   length_of_service  KPIs_met >80%  awards_won?  avg_training_score  \\\n",
       "0                  8              1            0                  49   \n",
       "1                  4              0            0                  60   \n",
       "2                  7              0            0                  50   \n",
       "3                 10              0            0                  50   \n",
       "4                  2              0            0                  73   \n",
       "\n",
       "   is_promoted  \n",
       "0            0  \n",
       "1            0  \n",
       "2            0  \n",
       "3            0  \n",
       "4            0  "
      ]
     },
     "execution_count": 14,
     "metadata": {},
     "output_type": "execute_result"
    }
   ],
   "source": [
    "data.head()"
   ]
  },
  {
   "cell_type": "code",
   "execution_count": 15,
   "metadata": {},
   "outputs": [
    {
     "data": {
      "image/png": "[encoded data removed]",
      "text/plain": [
       "<Figure size 1152x432 with 1 Axes>"
      ]
     },
     "metadata": {
      "needs_background": "light"
     },
     "output_type": "display_data"
    }
   ],
   "source": [
    "plt.figure(figsize=(16,6))\n",
    "pd.value_counts(data['age']).sort_index().plot.bar()\n",
    "plt.title(\"employee data\")\n",
    "plt.xlabel(\"\\n\\nAge\")\n",
    "plt.ylabel(\"no of rows\")\n",
    "\n",
    "plt.xticks(rotation=0)\n",
    "plt.show()"
   ]
  },
  {
   "cell_type": "code",
   "execution_count": 16,
   "metadata": {},
   "outputs": [
    {
     "data": {
      "image/png": "[encoded data removed]",
      "text/plain": [
       "<Figure size 1152x432 with 1 Axes>"
      ]
     },
     "metadata": {
      "needs_background": "light"
     },
     "output_type": "display_data"
    }
   ],
   "source": [
    "plt.figure(figsize=(16,6))\n",
    "data['age'].hist(rwidth=0.7)\n",
    "plt.title(\"employee data\")\n",
    "plt.xlabel(\"\\n\\nAge\")\n",
    "plt.ylabel(\"no of rows\")\n",
    "\n",
    "plt.xticks(rotation=0)\n",
    "plt.show()"
   ]
  },
  {
   "cell_type": "code",
   "execution_count": 17,
   "metadata": {},
   "outputs": [
    {
     "data": {
      "image/png": "[encoded data removed]",
      "text/plain": [
       "<Figure size 1152x432 with 1 Axes>"
      ]
     },
     "metadata": {
      "needs_background": "light"
     },
     "output_type": "display_data"
    }
   ],
   "source": [
    "plt.figure(figsize=(16,6))\n",
    "pd.value_counts(data['education']).sort_index().plot.bar()\n",
    "plt.title(\"employee data\")\n",
    "plt.xlabel(\"\\n\\neducation\")\n",
    "plt.ylabel(\"no of rows\")\n",
    "\n",
    "plt.xticks(rotation=0)\n",
    "plt.show()"
   ]
  },
  {
   "cell_type": "code",
   "execution_count": 18,
   "metadata": {},
   "outputs": [
    {
     "data": {
      "image/png": "[encoded data removed]",
      "text/plain": [
       "<Figure size 1152x432 with 1 Axes>"
      ]
     },
     "metadata": {
      "needs_background": "light"
     },
     "output_type": "display_data"
    }
   ],
   "source": [
    "plt.figure(figsize=(16,6))\n",
    "pd.value_counts(data['department']).sort_index().plot.bar()\n",
    "plt.title(\"employee data\")\n",
    "plt.xlabel(\"\\n\\ndepartment\")\n",
    "plt.ylabel(\"no of rows\")\n",
    "\n",
    "plt.xticks(rotation=0)\n",
    "plt.show()"
   ]
  },
  {
   "cell_type": "code",
   "execution_count": 19,
   "metadata": {},
   "outputs": [
    {
     "data": {
      "image/png": "[encoded data removed]",
      "text/plain": [
       "<Figure size 1152x432 with 1 Axes>"
      ]
     },
     "metadata": {
      "needs_background": "light"
     },
     "output_type": "display_data"
    }
   ],
   "source": [
    "plt.figure(figsize=(16,6))\n",
    "pd.value_counts(data['gender']).sort_index().plot.bar()\n",
    "plt.title(\"employee data\")\n",
    "plt.xlabel(\"\\n\\ngender\")\n",
    "plt.ylabel(\"no of rows\")\n",
    "\n",
    "plt.xticks([0,1],[\"Female\",\"Male\"],rotation=0)\n",
    "plt.show()"
   ]
  },
  {
   "cell_type": "code",
   "execution_count": 20,
   "metadata": {},
   "outputs": [
    {
     "data": {
      "image/png": "[encoded data removed]",
      "text/plain": [
       "<Figure size 1080x432 with 1 Axes>"
      ]
     },
     "metadata": {
      "needs_background": "light"
     },
     "output_type": "display_data"
    }
   ],
   "source": [
    "plt.figure(figsize=(15,6))\n",
    "pd.value_counts(data['recruitment_channel']).sort_index().plot.bar()\n",
    "plt.title(\"employee data\")\n",
    "plt.xlabel(\"\\n\\n recruitment channel\")\n",
    "plt.ylabel(\"no of rows\")\n",
    "\n",
    "plt.xticks(rotation=0)\n",
    "plt.show()"
   ]
  },
  {
   "cell_type": "code",
   "execution_count": 21,
   "metadata": {},
   "outputs": [
    {
     "data": {
      "image/png": "[encoded data removed]",
      "text/plain": [
       "<Figure size 720x720 with 1 Axes>"
      ]
     },
     "metadata": {},
     "output_type": "display_data"
    }
   ],
   "source": [
    "plt.figure(figsize=(10,10))\n",
    "pd.value_counts(data['no_of_trainings']).sort_index().plot.pie(shadow=False,explode=(0.4,0.4,0.4,0.4,0.4,0.4,0.4,0.4,0.4,0.4),autopct=\"%1.2f%%\")\n",
    "plt.title(\"employee data\")\n",
    "plt.xlabel(\"\\n\\n no of trainings\")\n",
    "plt.ylabel(\"no of rows\")\n",
    "\n",
    "#plt.xticks(rotation=0)\n",
    "plt.show()"
   ]
  },
  {
   "cell_type": "code",
   "execution_count": 22,
   "metadata": {},
   "outputs": [
    {
     "data": {
      "image/png": "[encoded data removed]",
      "text/plain": [
       "<Figure size 1152x432 with 1 Axes>"
      ]
     },
     "metadata": {
      "needs_background": "light"
     },
     "output_type": "display_data"
    }
   ],
   "source": [
    "plt.figure(figsize=(16,6))\n",
    "pd.value_counts(data['previous_year_rating']).sort_index().plot.bar()\n",
    "plt.title(\"employee data\")\n",
    "plt.xlabel(\"\\n\\n previous_year_rating\")\n",
    "plt.ylabel(\"no of rows\")\n",
    "\n",
    "plt.xticks(rotation=0)\n",
    "plt.show()"
   ]
  },
  {
   "cell_type": "code",
   "execution_count": 23,
   "metadata": {},
   "outputs": [
    {
     "data": {
      "image/png": "[encoded data removed]",
      "text/plain": [
       "<Figure size 1152x432 with 1 Axes>"
      ]
     },
     "metadata": {
      "needs_background": "light"
     },
     "output_type": "display_data"
    }
   ],
   "source": [
    "plt.figure(figsize=(16,6))\n",
    "pd.value_counts(data['length_of_service']).sort_index().plot.bar()\n",
    "plt.title(\"employee data\")\n",
    "plt.xlabel(\"\\n\\nlength_of_service\")\n",
    "plt.ylabel(\"no of rows\")\n",
    "\n",
    "plt.xticks(rotation=0)\n",
    "plt.show()"
   ]
  },
  {
   "cell_type": "code",
   "execution_count": 24,
   "metadata": {},
   "outputs": [
    {
     "data": {
      "image/png": "[encoded data removed]",
      "text/plain": [
       "<Figure size 1152x432 with 1 Axes>"
      ]
     },
     "metadata": {
      "needs_background": "light"
     },
     "output_type": "display_data"
    }
   ],
   "source": [
    "plt.figure(figsize=(16,6))\n",
    "pd.value_counts(data['KPIs_met >80%']).sort_index().plot.bar()\n",
    "plt.title(\"employee data\")\n",
    "plt.xlabel(\"\\n\\nKey performance Indicators\")\n",
    "plt.ylabel(\"no of rows\")\n",
    "\n",
    "plt.xticks([0,1],[\"80% or below Key performance\",\"Above 80% Key performance\"],rotation=0)\n",
    "plt.show()"
   ]
  },
  {
   "cell_type": "code",
   "execution_count": 25,
   "metadata": {},
   "outputs": [
    {
     "data": {
      "image/png": "[encoded data removed]",
      "text/plain": [
       "<Figure size 1152x432 with 1 Axes>"
      ]
     },
     "metadata": {
      "needs_background": "light"
     },
     "output_type": "display_data"
    }
   ],
   "source": [
    "plt.figure(figsize=(16,6))\n",
    "pd.value_counts(data['awards_won?']).sort_index().plot.bar()\n",
    "plt.title(\"employee data\")\n",
    "plt.xlabel(\"\\n\\nawards\")\n",
    "plt.ylabel(\"no of rows\")\n",
    "\n",
    "plt.xticks([0,1],[\"Not Won\",\"Won\"],rotation=0)\n",
    "plt.show()"
   ]
  },
  {
   "cell_type": "code",
   "execution_count": 26,
   "metadata": {},
   "outputs": [
    {
     "data": {
      "image/png": "[encoded data removed]",
      "text/plain": [
       "<Figure size 1152x432 with 1 Axes>"
      ]
     },
     "metadata": {
      "needs_background": "light"
     },
     "output_type": "display_data"
    }
   ],
   "source": [
    "plt.figure(figsize=(16,6))\n",
    "pd.value_counts(data['avg_training_score']).sort_index().plot.bar()\n",
    "plt.title(\"employee data\")\n",
    "plt.xlabel(\"\\n\\navgerage training score\")\n",
    "plt.ylabel(\"no of rows\")\n",
    "\n",
    "plt.xticks(rotation=0)\n",
    "plt.show()"
   ]
  },
  {
   "cell_type": "code",
   "execution_count": 27,
   "metadata": {},
   "outputs": [
    {
     "data": {
      "image/png": "[encoded data removed]",
      "text/plain": [
       "<Figure size 1152x432 with 1 Axes>"
      ]
     },
     "metadata": {
      "needs_background": "light"
     },
     "output_type": "display_data"
    }
   ],
   "source": [
    "plt.figure(figsize=(16,6))\n",
    "pd.value_counts(data['is_promoted']).sort_index().plot.bar(color=['orange','green'])\n",
    "plt.title(\"employee data\")\n",
    "plt.xlabel(\"\\n\\nis_promoted\")\n",
    "plt.ylabel(\"no of rows\")\n",
    "\n",
    "plt.xticks([0,1],[\"Not Promoted\",\"Promoted\"],rotation=0)\n",
    "plt.show()"
   ]
  },
  {
   "cell_type": "code",
   "execution_count": 28,
   "metadata": {},
   "outputs": [
    {
     "data": {
      "text/plain": [
       "<matplotlib.collections.PathCollection at 0x185b2993d48>"
      ]
     },
     "execution_count": 28,
     "metadata": {},
     "output_type": "execute_result"
    },
    {
     "data": {
      "image/png": "[encoded data removed]",
      "text/plain": [
       "<Figure size 432x288 with 1 Axes>"
      ]
     },
     "metadata": {
      "needs_background": "light"
     },
     "output_type": "display_data"
    }
   ],
   "source": [
    "plt.scatter(data['employee_id'],data['age'])"
   ]
  },
  {
   "cell_type": "code",
   "execution_count": 29,
   "metadata": {},
   "outputs": [
    {
     "data": {
      "text/plain": [
       "['region_1',\n",
       " 'region_10',\n",
       " 'region_11',\n",
       " 'region_12',\n",
       " 'region_13',\n",
       " 'region_14',\n",
       " 'region_15',\n",
       " 'region_16',\n",
       " 'region_17',\n",
       " 'region_18',\n",
       " 'region_19',\n",
       " 'region_2',\n",
       " 'region_20',\n",
       " 'region_21',\n",
       " 'region_22',\n",
       " 'region_23',\n",
       " 'region_24',\n",
       " 'region_25',\n",
       " 'region_26',\n",
       " 'region_27',\n",
       " 'region_28',\n",
       " 'region_29',\n",
       " 'region_3',\n",
       " 'region_30',\n",
       " 'region_31',\n",
       " 'region_32',\n",
       " 'region_33',\n",
       " 'region_34',\n",
       " 'region_4',\n",
       " 'region_5',\n",
       " 'region_6',\n",
       " 'region_7',\n",
       " 'region_8',\n",
       " 'region_9']"
      ]
     },
     "execution_count": 29,
     "metadata": {},
     "output_type": "execute_result"
    }
   ],
   "source": [
    "sorted(data['region'].unique())"
   ]
  },
  {
   "cell_type": "code",
   "execution_count": 30,
   "metadata": {},
   "outputs": [],
   "source": [
    "region_data1=data['region']"
   ]
  },
  {
   "cell_type": "code",
   "execution_count": 31,
   "metadata": {},
   "outputs": [],
   "source": [
    "region_data2=[]\n",
    "for s in region_data1:\n",
    "    region_data2.append(int(s[7:]))"
   ]
  },
  {
   "cell_type": "code",
   "execution_count": 32,
   "metadata": {},
   "outputs": [
    {
     "data": {
      "text/plain": [
       "[7,\n",
       " 22,\n",
       " 19,\n",
       " 23,\n",
       " 26,\n",
       " 2,\n",
       " 20,\n",
       " 34,\n",
       " 20,\n",
       " 1,\n",
       " 7,\n",
       " 4,\n",
       " 29,\n",
       " 2,\n",
       " 7,\n",
       " 2,\n",
       " 31,\n",
       " 31,\n",
       " 15,\n",
       " 14,\n",
       " 11,\n",
       " 22,\n",
       " 22,\n",
       " 26,\n",
       " 26,\n",
       " 5,\n",
       " 15,\n",
       " 31,\n",
       " 2,\n",
       " 22,\n",
       " 22,\n",
       " 28,\n",
       " 7,\n",
       " 1,\n",
       " 28,\n",
       " 15,\n",
       " 2,\n",
       " 2,\n",
       " 2,\n",
       " 17,\n",
       " 13,\n",
       " 16,\n",
       " 20,\n",
       " 2,\n",
       " 2,\n",
       " 25,\n",
       " 15,\n",
       " 22,\n",
       " 22,\n",
       " 31,\n",
       " 22,\n",
       " 19,\n",
       " 4,\n",
       " 29,\n",
       " 1,\n",
       " 26,\n",
       " 13,\n",
       " 10,\n",
       " 31,\n",
       " 22,\n",
       " 22,\n",
       " 2,\n",
       " 16,\n",
       " 7,\n",
       " 2,\n",
       " 27,\n",
       " 30,\n",
       " 2,\n",
       " 22,\n",
       " 2,\n",
       " 4,\n",
       " 22,\n",
       " 11,\n",
       " 20,\n",
       " 7,\n",
       " 12,\n",
       " 2,\n",
       " 2,\n",
       " 2,\n",
       " 14,\n",
       " 2,\n",
       " 31,\n",
       " 2,\n",
       " 15,\n",
       " 26,\n",
       " 7,\n",
       " 7,\n",
       " 28,\n",
       " 13,\n",
       " 13,\n",
       " 2,\n",
       " 16,\n",
       " 22,\n",
       " 22,\n",
       " 2,\n",
       " 7,\n",
       " 2,\n",
       " 4,\n",
       " 2,\n",
       " 21,\n",
       " 23,\n",
       " 15,\n",
       " 2,\n",
       " 25,\n",
       " 34,\n",
       " 2,\n",
       " 27,\n",
       " 1,\n",
       " 25,\n",
       " 11,\n",
       " 22,\n",
       " 29,\n",
       " 22,\n",
       " 26,\n",
       " 15,\n",
       " 28,\n",
       " 14,\n",
       " 27,\n",
       " 29,\n",
       " 25,\n",
       " 22,\n",
       " 2,\n",
       " 15,\n",
       " 22,\n",
       " 29,\n",
       " 5,\n",
       " 4,\n",
       " 7,\n",
       " 5,\n",
       " 2,\n",
       " 22,\n",
       " 13,\n",
       " 13,\n",
       " 29,\n",
       " 13,\n",
       " 25,\n",
       " 16,\n",
       " 26,\n",
       " 5,\n",
       " 2,\n",
       " 22,\n",
       " 2,\n",
       " 16,\n",
       " 23,\n",
       " 22,\n",
       " 7,\n",
       " 12,\n",
       " 2,\n",
       " 7,\n",
       " 2,\n",
       " 2,\n",
       " 2,\n",
       " 22,\n",
       " 2,\n",
       " 25,\n",
       " 14,\n",
       " 2,\n",
       " 27,\n",
       " 13,\n",
       " 7,\n",
       " 15,\n",
       " 2,\n",
       " 2,\n",
       " 17,\n",
       " 23,\n",
       " 7,\n",
       " 31,\n",
       " 7,\n",
       " 27,\n",
       " 22,\n",
       " 32,\n",
       " 20,\n",
       " 15,\n",
       " 2,\n",
       " 23,\n",
       " 2,\n",
       " 25,\n",
       " 31,\n",
       " 2,\n",
       " 1,\n",
       " 26,\n",
       " 2,\n",
       " 19,\n",
       " 2,\n",
       " 7,\n",
       " 27,\n",
       " 28,\n",
       " 1,\n",
       " 12,\n",
       " 6,\n",
       " 13,\n",
       " 26,\n",
       " 2,\n",
       " 22,\n",
       " 17,\n",
       " 2,\n",
       " 4,\n",
       " 5,\n",
       " 2,\n",
       " 17,\n",
       " 27,\n",
       " 13,\n",
       " 14,\n",
       " 2,\n",
       " 11,\n",
       " 6,\n",
       " 29,\n",
       " 12,\n",
       " 31,\n",
       " 22,\n",
       " 7,\n",
       " 20,\n",
       " 22,\n",
       " 22,\n",
       " 7,\n",
       " 14,\n",
       " 13,\n",
       " 4,\n",
       " 15,\n",
       " 23,\n",
       " 2,\n",
       " 2,\n",
       " 22,\n",
       " 22,\n",
       " 27,\n",
       " 13,\n",
       " 15,\n",
       " 7,\n",
       " 7,\n",
       " 22,\n",
       " 7,\n",
       " 2,\n",
       " 2,\n",
       " 2,\n",
       " 2,\n",
       " 13,\n",
       " 2,\n",
       " 7,\n",
       " 33,\n",
       " 5,\n",
       " 7,\n",
       " 27,\n",
       " 34,\n",
       " 6,\n",
       " 2,\n",
       " 2,\n",
       " 28,\n",
       " 16,\n",
       " 17,\n",
       " 15,\n",
       " 16,\n",
       " 30,\n",
       " 5,\n",
       " 2,\n",
       " 2,\n",
       " 16,\n",
       " 7,\n",
       " 15,\n",
       " 7,\n",
       " 23,\n",
       " 2,\n",
       " 13,\n",
       " 7,\n",
       " 15,\n",
       " 32,\n",
       " 2,\n",
       " 7,\n",
       " 11,\n",
       " 19,\n",
       " 22,\n",
       " 27,\n",
       " 2,\n",
       " 31,\n",
       " 2,\n",
       " 16,\n",
       " 22,\n",
       " 13,\n",
       " 2,\n",
       " 26,\n",
       " 20,\n",
       " 2,\n",
       " 13,\n",
       " 7,\n",
       " 22,\n",
       " 8,\n",
       " 2,\n",
       " 2,\n",
       " 2,\n",
       " 25,\n",
       " 19,\n",
       " 2,\n",
       " 2,\n",
       " 20,\n",
       " 12,\n",
       " 2,\n",
       " 12,\n",
       " 26,\n",
       " 2,\n",
       " 26,\n",
       " 29,\n",
       " 2,\n",
       " 13,\n",
       " 7,\n",
       " 22,\n",
       " 22,\n",
       " 27,\n",
       " 11,\n",
       " 2,\n",
       " 7,\n",
       " 26,\n",
       " 2,\n",
       " 24,\n",
       " 23,\n",
       " 23,\n",
       " 29,\n",
       " 2,\n",
       " 2,\n",
       " 22,\n",
       " 26,\n",
       " 19,\n",
       " 2,\n",
       " 22,\n",
       " 15,\n",
       " 15,\n",
       " 11,\n",
       " 15,\n",
       " 4,\n",
       " 15,\n",
       " 3,\n",
       " 10,\n",
       " 7,\n",
       " 4,\n",
       " 2,\n",
       " 22,\n",
       " 2,\n",
       " 28,\n",
       " 2,\n",
       " 2,\n",
       " 4,\n",
       " 7,\n",
       " 33,\n",
       " 1,\n",
       " 2,\n",
       " 2,\n",
       " 20,\n",
       " 20,\n",
       " 23,\n",
       " 15,\n",
       " 2,\n",
       " 26,\n",
       " 2,\n",
       " 32,\n",
       " 7,\n",
       " 7,\n",
       " 22,\n",
       " 2,\n",
       " 7,\n",
       " 22,\n",
       " 9,\n",
       " 30,\n",
       " 4,\n",
       " 27,\n",
       " 2,\n",
       " 29,\n",
       " 32,\n",
       " 7,\n",
       " 2,\n",
       " 7,\n",
       " 22,\n",
       " 2,\n",
       " 7,\n",
       " 7,\n",
       " 10,\n",
       " 22,\n",
       " 7,\n",
       " 22,\n",
       " 7,\n",
       " 14,\n",
       " 13,\n",
       " 2,\n",
       " 2,\n",
       " 2,\n",
       " 2,\n",
       " 11,\n",
       " 5,\n",
       " 22,\n",
       " 7,\n",
       " 7,\n",
       " 4,\n",
       " 2,\n",
       " 2,\n",
       " 15,\n",
       " 2,\n",
       " 7,\n",
       " 30,\n",
       " 27,\n",
       " 24,\n",
       " 31,\n",
       " 25,\n",
       " 22,\n",
       " 15,\n",
       " 1,\n",
       " 1,\n",
       " 15,\n",
       " 14,\n",
       " 9,\n",
       " 34,\n",
       " 13,\n",
       " 2,\n",
       " 27,\n",
       " 22,\n",
       " 22,\n",
       " 6,\n",
       " 22,\n",
       " 26,\n",
       " 7,\n",
       " 2,\n",
       " 2,\n",
       " 17,\n",
       " 1,\n",
       " 32,\n",
       " 2,\n",
       " 2,\n",
       " 13,\n",
       " 2,\n",
       " 11,\n",
       " 2,\n",
       " 22,\n",
       " 2,\n",
       " 15,\n",
       " 2,\n",
       " 22,\n",
       " 22,\n",
       " 4,\n",
       " 2,\n",
       " 22,\n",
       " 32,\n",
       " 17,\n",
       " 16,\n",
       " 16,\n",
       " 7,\n",
       " 7,\n",
       " 12,\n",
       " 7,\n",
       " 22,\n",
       " 7,\n",
       " 13,\n",
       " 24,\n",
       " 2,\n",
       " 31,\n",
       " 12,\n",
       " 26,\n",
       " 31,\n",
       " 7,\n",
       " 2,\n",
       " 17,\n",
       " 10,\n",
       " 7,\n",
       " 15,\n",
       " 14,\n",
       " 7,\n",
       " 19,\n",
       " 8,\n",
       " 31,\n",
       " 2,\n",
       " 28,\n",
       " 23,\n",
       " 22,\n",
       " 28,\n",
       " 28,\n",
       " 29,\n",
       " 2,\n",
       " 23,\n",
       " 11,\n",
       " 2,\n",
       " 19,\n",
       " 22,\n",
       " 3,\n",
       " 31,\n",
       " 15,\n",
       " 11,\n",
       " 2,\n",
       " 22,\n",
       " 12,\n",
       " 28,\n",
       " 15,\n",
       " 22,\n",
       " 2,\n",
       " 22,\n",
       " 14,\n",
       " 15,\n",
       " 26,\n",
       " 7,\n",
       " 30,\n",
       " 28,\n",
       " 6,\n",
       " 26,\n",
       " 2,\n",
       " 29,\n",
       " 4,\n",
       " 2,\n",
       " 31,\n",
       " 2,\n",
       " 4,\n",
       " 4,\n",
       " 1,\n",
       " 17,\n",
       " 15,\n",
       " 15,\n",
       " 6,\n",
       " 2,\n",
       " 2,\n",
       " 1,\n",
       " 8,\n",
       " 2,\n",
       " 2,\n",
       " 2,\n",
       " 22,\n",
       " 22,\n",
       " 4,\n",
       " 27,\n",
       " 22,\n",
       " 30,\n",
       " 7,\n",
       " 27,\n",
       " 2,\n",
       " 12,\n",
       " 14,\n",
       " 19,\n",
       " 22,\n",
       " 24,\n",
       " 8,\n",
       " 22,\n",
       " 22,\n",
       " 13,\n",
       " 16,\n",
       " 8,\n",
       " 14,\n",
       " 27,\n",
       " 11,\n",
       " 26,\n",
       " 32,\n",
       " 17,\n",
       " 22,\n",
       " 26,\n",
       " 2,\n",
       " 31,\n",
       " 34,\n",
       " 2,\n",
       " 8,\n",
       " 28,\n",
       " 21,\n",
       " 22,\n",
       " 14,\n",
       " 23,\n",
       " 2,\n",
       " 8,\n",
       " 29,\n",
       " 2,\n",
       " 2,\n",
       " 20,\n",
       " 7,\n",
       " 12,\n",
       " 2,\n",
       " 14,\n",
       " 4,\n",
       " 9,\n",
       " 31,\n",
       " 20,\n",
       " 11,\n",
       " 7,\n",
       " 19,\n",
       " 25,\n",
       " 16,\n",
       " 24,\n",
       " 33,\n",
       " 23,\n",
       " 25,\n",
       " 31,\n",
       " 2,\n",
       " 13,\n",
       " 11,\n",
       " 13,\n",
       " 24,\n",
       " 7,\n",
       " 7,\n",
       " 2,\n",
       " 2,\n",
       " 2,\n",
       " 2,\n",
       " 22,\n",
       " 2,\n",
       " 34,\n",
       " 8,\n",
       " 7,\n",
       " 7,\n",
       " 27,\n",
       " 2,\n",
       " 7,\n",
       " 11,\n",
       " 15,\n",
       " 9,\n",
       " 15,\n",
       " 16,\n",
       " 7,\n",
       " 22,\n",
       " 30,\n",
       " 13,\n",
       " 22,\n",
       " 11,\n",
       " 13,\n",
       " 14,\n",
       " 15,\n",
       " 31,\n",
       " 1,\n",
       " 22,\n",
       " 22,\n",
       " 16,\n",
       " 2,\n",
       " 28,\n",
       " 26,\n",
       " 2,\n",
       " 2,\n",
       " 32,\n",
       " 31,\n",
       " 23,\n",
       " 2,\n",
       " 11,\n",
       " 26,\n",
       " 2,\n",
       " 7,\n",
       " 14,\n",
       " 15,\n",
       " 26,\n",
       " 4,\n",
       " 20,\n",
       " 6,\n",
       " 2,\n",
       " 11,\n",
       " 2,\n",
       " 8,\n",
       " 8,\n",
       " 2,\n",
       " 28,\n",
       " 10,\n",
       " 19,\n",
       " 13,\n",
       " 3,\n",
       " 7,\n",
       " 2,\n",
       " 32,\n",
       " 27,\n",
       " 22,\n",
       " 26,\n",
       " 7,\n",
       " 2,\n",
       " 32,\n",
       " 23,\n",
       " 29,\n",
       " 31,\n",
       " 2,\n",
       " 22,\n",
       " 15,\n",
       " 17,\n",
       " 15,\n",
       " 26,\n",
       " 32,\n",
       " 12,\n",
       " 2,\n",
       " 7,\n",
       " 31,\n",
       " 22,\n",
       " 26,\n",
       " 2,\n",
       " 22,\n",
       " 22,\n",
       " 13,\n",
       " 2,\n",
       " 22,\n",
       " 17,\n",
       " 26,\n",
       " 2,\n",
       " 7,\n",
       " 22,\n",
       " 26,\n",
       " 9,\n",
       " 2,\n",
       " 2,\n",
       " 28,\n",
       " 28,\n",
       " 13,\n",
       " 6,\n",
       " 22,\n",
       " 27,\n",
       " 7,\n",
       " 31,\n",
       " 2,\n",
       " 2,\n",
       " 22,\n",
       " 29,\n",
       " 5,\n",
       " 7,\n",
       " 16,\n",
       " 27,\n",
       " 4,\n",
       " 32,\n",
       " 7,\n",
       " 20,\n",
       " 4,\n",
       " 22,\n",
       " 22,\n",
       " 26,\n",
       " 4,\n",
       " 27,\n",
       " 2,\n",
       " 7,\n",
       " 15,\n",
       " 2,\n",
       " 2,\n",
       " 27,\n",
       " 26,\n",
       " 34,\n",
       " 26,\n",
       " 27,\n",
       " 22,\n",
       " 2,\n",
       " 11,\n",
       " 8,\n",
       " 17,\n",
       " 22,\n",
       " 27,\n",
       " 4,\n",
       " 20,\n",
       " 28,\n",
       " 22,\n",
       " 4,\n",
       " 7,\n",
       " 2,\n",
       " 16,\n",
       " 26,\n",
       " 7,\n",
       " 4,\n",
       " 30,\n",
       " 2,\n",
       " 33,\n",
       " 16,\n",
       " 2,\n",
       " 2,\n",
       " 2,\n",
       " 26,\n",
       " 6,\n",
       " 17,\n",
       " 14,\n",
       " 13,\n",
       " 15,\n",
       " 2,\n",
       " 22,\n",
       " 22,\n",
       " 4,\n",
       " 2,\n",
       " 26,\n",
       " 7,\n",
       " 11,\n",
       " 22,\n",
       " 22,\n",
       " 4,\n",
       " 2,\n",
       " 29,\n",
       " 15,\n",
       " 21,\n",
       " 22,\n",
       " 2,\n",
       " 4,\n",
       " 7,\n",
       " 17,\n",
       " 2,\n",
       " 16,\n",
       " 15,\n",
       " 14,\n",
       " 2,\n",
       " 17,\n",
       " 18,\n",
       " 7,\n",
       " 22,\n",
       " 7,\n",
       " 13,\n",
       " 29,\n",
       " 30,\n",
       " 7,\n",
       " 16,\n",
       " 7,\n",
       " 15,\n",
       " 2,\n",
       " 34,\n",
       " 13,\n",
       " 4,\n",
       " 4,\n",
       " 7,\n",
       " 31,\n",
       " 7,\n",
       " 2,\n",
       " 17,\n",
       " 13,\n",
       " 2,\n",
       " 7,\n",
       " 10,\n",
       " 29,\n",
       " 22,\n",
       " 13,\n",
       " 13,\n",
       " 7,\n",
       " 14,\n",
       " 2,\n",
       " 2,\n",
       " 4,\n",
       " 15,\n",
       " 22,\n",
       " 13,\n",
       " 26,\n",
       " 34,\n",
       " 28,\n",
       " 2,\n",
       " 23,\n",
       " 22,\n",
       " 14,\n",
       " 29,\n",
       " 31,\n",
       " 29,\n",
       " 7,\n",
       " 2,\n",
       " 15,\n",
       " 26,\n",
       " 2,\n",
       " 1,\n",
       " 3,\n",
       " 13,\n",
       " 13,\n",
       " 30,\n",
       " 2,\n",
       " 32,\n",
       " 4,\n",
       " 15,\n",
       " 27,\n",
       " 34,\n",
       " 30,\n",
       " 2,\n",
       " 31,\n",
       " 15,\n",
       " 2,\n",
       " 29,\n",
       " 22,\n",
       " 5,\n",
       " 7,\n",
       " 2,\n",
       " 22,\n",
       " 2,\n",
       " 31,\n",
       " 7,\n",
       " 26,\n",
       " 2,\n",
       " 22,\n",
       " 2,\n",
       " 2,\n",
       " 7,\n",
       " 22,\n",
       " 13,\n",
       " 32,\n",
       " 22,\n",
       " 31,\n",
       " 7,\n",
       " 2,\n",
       " 2,\n",
       " 15,\n",
       " 23,\n",
       " 2,\n",
       " 13,\n",
       " 24,\n",
       " 2,\n",
       " 11,\n",
       " 16,\n",
       " 31,\n",
       " 7,\n",
       " 25,\n",
       " 25,\n",
       " 7,\n",
       " 14,\n",
       " 27,\n",
       " 29,\n",
       " 22,\n",
       " 7,\n",
       " 2,\n",
       " 31,\n",
       " 2,\n",
       " 13,\n",
       " 17,\n",
       " 17,\n",
       " 7,\n",
       " 29,\n",
       " 27,\n",
       " 7,\n",
       " 22,\n",
       " 8,\n",
       " 14,\n",
       " 4,\n",
       " 15,\n",
       " 7,\n",
       " 15,\n",
       " 2,\n",
       " 2,\n",
       " 6,\n",
       " 22,\n",
       " 2,\n",
       " 30,\n",
       " 22,\n",
       " 7,\n",
       " 4,\n",
       " 2,\n",
       " 15,\n",
       " 3,\n",
       " 2,\n",
       " 7,\n",
       " 28,\n",
       " 2,\n",
       " 11,\n",
       " 13,\n",
       " 4,\n",
       " 15,\n",
       " 22,\n",
       " 22,\n",
       " 2,\n",
       " 30,\n",
       " 26,\n",
       " 29,\n",
       " 2,\n",
       " 2,\n",
       " 2,\n",
       " 13,\n",
       " 7,\n",
       " 15,\n",
       " 7,\n",
       " 7,\n",
       " 29,\n",
       " 1,\n",
       " 22,\n",
       " 22,\n",
       " 4,\n",
       " 13,\n",
       " 2,\n",
       " 13,\n",
       " 31,\n",
       " 27,\n",
       " 2,\n",
       " 22,\n",
       " 22,\n",
       " 4,\n",
       " 7,\n",
       " 7,\n",
       " 30,\n",
       " 2,\n",
       " 2,\n",
       " 2,\n",
       " 2,\n",
       " 7,\n",
       " 22,\n",
       " 22,\n",
       " 22,\n",
       " 26,\n",
       " 15,\n",
       " 16,\n",
       " 20,\n",
       " 22,\n",
       " 27,\n",
       " 17,\n",
       " 10,\n",
       " 2,\n",
       " 29,\n",
       " 11,\n",
       " 2,\n",
       " 4,\n",
       " 22,\n",
       " 28,\n",
       " 1,\n",
       " 4,\n",
       " 22,\n",
       " 22,\n",
       " 2,\n",
       " 26,\n",
       " 2,\n",
       " 32,\n",
       " 24,\n",
       " 13,\n",
       " 7,\n",
       " 4,\n",
       " 4,\n",
       " 2,\n",
       " 33,\n",
       " 22,\n",
       " 2,\n",
       " 27,\n",
       " 2,\n",
       " ...]"
      ]
     },
     "execution_count": 32,
     "metadata": {},
     "output_type": "execute_result"
    }
   ],
   "source": [
    "region_data2"
   ]
  },
  {
   "cell_type": "code",
   "execution_count": 33,
   "metadata": {},
   "outputs": [],
   "source": [
    "data['region']=region_data2"
   ]
  },
  {
   "cell_type": "code",
   "execution_count": 34,
   "metadata": {},
   "outputs": [
    {
     "data": {
      "text/plain": [
       "[1,\n",
       " 2,\n",
       " 3,\n",
       " 4,\n",
       " 5,\n",
       " 6,\n",
       " 7,\n",
       " 8,\n",
       " 9,\n",
       " 10,\n",
       " 11,\n",
       " 12,\n",
       " 13,\n",
       " 14,\n",
       " 15,\n",
       " 16,\n",
       " 17,\n",
       " 18,\n",
       " 19,\n",
       " 20,\n",
       " 21,\n",
       " 22,\n",
       " 23,\n",
       " 24,\n",
       " 25,\n",
       " 26,\n",
       " 27,\n",
       " 28,\n",
       " 29,\n",
       " 30,\n",
       " 31,\n",
       " 32,\n",
       " 33,\n",
       " 34]"
      ]
     },
     "execution_count": 34,
     "metadata": {},
     "output_type": "execute_result"
    }
   ],
   "source": [
    "sorted(data['region'].unique())"
   ]
  },
  {
   "cell_type": "code",
   "execution_count": 35,
   "metadata": {},
   "outputs": [
    {
     "data": {
      "image/png": "[encoded data removed]",
      "text/plain": [
       "<Figure size 1152x432 with 1 Axes>"
      ]
     },
     "metadata": {
      "needs_background": "light"
     },
     "output_type": "display_data"
    }
   ],
   "source": [
    "plt.rcParams['figure.figsize'] = [16, 6]\n",
    "ct = pd.crosstab(data.department,data.is_promoted,normalize='index')\n",
    "ct.plot.bar(stacked=True)\n",
    "plt.legend(title='is_promoted',bbox_to_anchor=(1,0.5))\n",
    "plt.xticks(rotation=0)\n",
    "plt.show()"
   ]
  },
  {
   "cell_type": "code",
   "execution_count": 36,
   "metadata": {},
   "outputs": [
    {
     "data": {
      "image/png": "[encoded data removed]",
      "text/plain": [
       "<Figure size 1152x432 with 1 Axes>"
      ]
     },
     "metadata": {
      "needs_background": "light"
     },
     "output_type": "display_data"
    }
   ],
   "source": [
    "plt.rcParams['figure.figsize'] = [16, 6]\n",
    "reg = pd.crosstab(data.region,data.is_promoted,normalize='index')\n",
    "reg.sort_index().plot.bar(stacked=True)\n",
    "plt.legend(title='is_promoted',bbox_to_anchor=(1,0.5))\n",
    "plt.xticks(rotation=0)\n",
    "plt.show()"
   ]
  },
  {
   "cell_type": "code",
   "execution_count": 37,
   "metadata": {},
   "outputs": [
    {
     "data": {
      "image/png": "[encoded data removed]",
      "text/plain": [
       "<Figure size 360x360 with 1 Axes>"
      ]
     },
     "metadata": {
      "needs_background": "light"
     },
     "output_type": "display_data"
    }
   ],
   "source": [
    "plt.rcParams['figure.figsize'] = [5, 5]\n",
    "edu = pd.crosstab(data.education,data.is_promoted,normalize='index')\n",
    "edu.plot.bar(stacked=True)\n",
    "plt.rcParams['figure.figsize'] = [5, 5]\n",
    "plt.legend(title='is_promoted',bbox_to_anchor=(1,0.5))\n",
    "plt.xticks(rotation=0)\n",
    "plt.show()"
   ]
  },
  {
   "cell_type": "code",
   "execution_count": 38,
   "metadata": {},
   "outputs": [
    {
     "data": {
      "text/html": [
       "<div>\n",
       "<style scoped>\n",
       "    .dataframe tbody tr th:only-of-type {\n",
       "        vertical-align: middle;\n",
       "    }\n",
       "\n",
       "    .dataframe tbody tr th {\n",
       "        vertical-align: top;\n",
       "    }\n",
       "\n",
       "    .dataframe thead th {\n",
       "        text-align: right;\n",
       "    }\n",
       "</style>\n",
       "<table border=\"1\" class=\"dataframe\">\n",
       "  <thead>\n",
       "    <tr style=\"text-align: right;\">\n",
       "      <th>is_promoted</th>\n",
       "      <th>0</th>\n",
       "      <th>1</th>\n",
       "    </tr>\n",
       "    <tr>\n",
       "      <th>gender</th>\n",
       "      <th></th>\n",
       "      <th></th>\n",
       "    </tr>\n",
       "  </thead>\n",
       "  <tbody>\n",
       "    <tr>\n",
       "      <th>f</th>\n",
       "      <td>0.907955</td>\n",
       "      <td>0.092045</td>\n",
       "    </tr>\n",
       "    <tr>\n",
       "      <th>m</th>\n",
       "      <td>0.915249</td>\n",
       "      <td>0.084751</td>\n",
       "    </tr>\n",
       "  </tbody>\n",
       "</table>\n",
       "</div>"
      ],
      "text/plain": [
       "is_promoted         0         1\n",
       "gender                         \n",
       "f            0.907955  0.092045\n",
       "m            0.915249  0.084751"
      ]
     },
     "execution_count": 38,
     "metadata": {},
     "output_type": "execute_result"
    }
   ],
   "source": [
    "pd.crosstab(data.gender,data.is_promoted,normalize='index')"
   ]
  },
  {
   "cell_type": "code",
   "execution_count": 39,
   "metadata": {},
   "outputs": [
    {
     "data": {
      "text/html": [
       "<div>\n",
       "<style scoped>\n",
       "    .dataframe tbody tr th:only-of-type {\n",
       "        vertical-align: middle;\n",
       "    }\n",
       "\n",
       "    .dataframe tbody tr th {\n",
       "        vertical-align: top;\n",
       "    }\n",
       "\n",
       "    .dataframe thead th {\n",
       "        text-align: right;\n",
       "    }\n",
       "</style>\n",
       "<table border=\"1\" class=\"dataframe\">\n",
       "  <thead>\n",
       "    <tr style=\"text-align: right;\">\n",
       "      <th>is_promoted</th>\n",
       "      <th>0</th>\n",
       "      <th>1</th>\n",
       "    </tr>\n",
       "    <tr>\n",
       "      <th>recruitment_channel</th>\n",
       "      <th></th>\n",
       "      <th></th>\n",
       "    </tr>\n",
       "  </thead>\n",
       "  <tbody>\n",
       "    <tr>\n",
       "      <th>other</th>\n",
       "      <td>0.914757</td>\n",
       "      <td>0.085243</td>\n",
       "    </tr>\n",
       "    <tr>\n",
       "      <th>referred</th>\n",
       "      <td>0.872549</td>\n",
       "      <td>0.127451</td>\n",
       "    </tr>\n",
       "    <tr>\n",
       "      <th>sourcing</th>\n",
       "      <td>0.912767</td>\n",
       "      <td>0.087233</td>\n",
       "    </tr>\n",
       "  </tbody>\n",
       "</table>\n",
       "</div>"
      ],
      "text/plain": [
       "is_promoted                 0         1\n",
       "recruitment_channel                    \n",
       "other                0.914757  0.085243\n",
       "referred             0.872549  0.127451\n",
       "sourcing             0.912767  0.087233"
      ]
     },
     "execution_count": 39,
     "metadata": {},
     "output_type": "execute_result"
    }
   ],
   "source": [
    "pd.crosstab(data.recruitment_channel,data.is_promoted,normalize='index')"
   ]
  },
  {
   "cell_type": "code",
   "execution_count": 40,
   "metadata": {},
   "outputs": [
    {
     "data": {
      "text/html": [
       "<div>\n",
       "<style scoped>\n",
       "    .dataframe tbody tr th:only-of-type {\n",
       "        vertical-align: middle;\n",
       "    }\n",
       "\n",
       "    .dataframe tbody tr th {\n",
       "        vertical-align: top;\n",
       "    }\n",
       "\n",
       "    .dataframe thead th {\n",
       "        text-align: right;\n",
       "    }\n",
       "</style>\n",
       "<table border=\"1\" class=\"dataframe\">\n",
       "  <thead>\n",
       "    <tr style=\"text-align: right;\">\n",
       "      <th>is_promoted</th>\n",
       "      <th>0</th>\n",
       "      <th>1</th>\n",
       "    </tr>\n",
       "    <tr>\n",
       "      <th>KPIs_met &gt;80%</th>\n",
       "      <th></th>\n",
       "      <th></th>\n",
       "    </tr>\n",
       "  </thead>\n",
       "  <tbody>\n",
       "    <tr>\n",
       "      <th>0</th>\n",
       "      <td>0.959156</td>\n",
       "      <td>0.040844</td>\n",
       "    </tr>\n",
       "    <tr>\n",
       "      <th>1</th>\n",
       "      <td>0.829759</td>\n",
       "      <td>0.170241</td>\n",
       "    </tr>\n",
       "  </tbody>\n",
       "</table>\n",
       "</div>"
      ],
      "text/plain": [
       "is_promoted           0         1\n",
       "KPIs_met >80%                    \n",
       "0              0.959156  0.040844\n",
       "1              0.829759  0.170241"
      ]
     },
     "execution_count": 40,
     "metadata": {},
     "output_type": "execute_result"
    }
   ],
   "source": [
    "pd.crosstab(data['KPIs_met >80%'],data.is_promoted,normalize='index')"
   ]
  },
  {
   "cell_type": "code",
   "execution_count": 41,
   "metadata": {},
   "outputs": [
    {
     "data": {
      "image/png": "[encoded data removed]",
      "text/plain": [
       "<Figure size 1152x432 with 1 Axes>"
      ]
     },
     "metadata": {
      "needs_background": "light"
     },
     "output_type": "display_data"
    }
   ],
   "source": [
    "plt.rcParams['figure.figsize'] = [16, 6]\n",
    "rating = pd.crosstab(data.previous_year_rating,data.is_promoted,normalize='index')\n",
    "rating.plot.bar(stacked=True)\n",
    "plt.legend(title='is_promoted',loc='upper left',bbox_to_anchor=(1, 0.5))\n",
    "plt.xticks(rotation=0)\n",
    "plt.show()"
   ]
  },
  {
   "cell_type": "code",
   "execution_count": 42,
   "metadata": {},
   "outputs": [
    {
     "data": {
      "text/plain": [
       "50-60     14209\n",
       "40-50     10211\n",
       "60-70      9150\n",
       "80-90      7718\n",
       "70-80      6849\n",
       "90-100      517\n",
       "30-40         6\n",
       "Name: score_binned, dtype: int64"
      ]
     },
     "execution_count": 42,
     "metadata": {},
     "output_type": "execute_result"
    }
   ],
   "source": [
    "bins = [30,40,50,60,70,80,90,100]\n",
    "labels = ['30-40','40-50','50-60','60-70','70-80','80-90','90-100']\n",
    "data['score_binned'] = pd.cut(data['avg_training_score'], bins=bins, labels=labels)\n",
    "data['score_binned'].value_counts()"
   ]
  },
  {
   "cell_type": "code",
   "execution_count": 43,
   "metadata": {},
   "outputs": [
    {
     "data": {
      "image/png": "[encoded data removed]",
      "text/plain": [
       "<Figure size 1152x432 with 1 Axes>"
      ]
     },
     "metadata": {
      "needs_background": "light"
     },
     "output_type": "display_data"
    }
   ],
   "source": [
    "plt.rcParams['figure.figsize'] = [16, 6]\n",
    "score_bin = pd.crosstab(data.score_binned,data.is_promoted,normalize='index')\n",
    "score_bin.plot.bar(stacked=True)\n",
    "plt.legend(title='is_promoted',loc='upper left',bbox_to_anchor=(1, 0.5))\n",
    "plt.xticks(rotation=0)\n",
    "plt.show()"
   ]
  },
  {
   "cell_type": "code",
   "execution_count": 44,
   "metadata": {},
   "outputs": [
    {
     "data": {
      "image/png": "[encoded data removed]",
      "text/plain": [
       "<Figure size 360x360 with 1 Axes>"
      ]
     },
     "metadata": {
      "needs_background": "light"
     },
     "output_type": "display_data"
    }
   ],
   "source": [
    "plt.rcParams['figure.figsize'] = [5, 5]\n",
    "age_bins = [20,30,40,50,60]\n",
    "age_labels = ['20-30','30-40','40-50','50-60']\n",
    "data['age_binned'] = pd.cut(data['age'], bins=bins, labels=labels)\n",
    "data['age_binned'].value_counts()\n",
    "age_bin = pd.crosstab(data.age_binned,data.is_promoted,normalize='index')\n",
    "age_bin.plot.bar(stacked=True)\n",
    "plt.rcParams['figure.figsize'] = [5, 5]\n",
    "plt.legend(title='is_promoted',loc='upper left',bbox_to_anchor=(1, 0.5))\n",
    "plt.xticks(rotation=0)\n",
    "plt.show()"
   ]
  },
  {
   "cell_type": "code",
   "execution_count": 45,
   "metadata": {},
   "outputs": [
    {
     "data": {
      "image/png": "[encoded data removed]",
      "text/plain": [
       "<Figure size 1008x360 with 1 Axes>"
      ]
     },
     "metadata": {
      "needs_background": "light"
     },
     "output_type": "display_data"
    }
   ],
   "source": [
    "plt.rcParams['figure.figsize'] = [14, 5]\n",
    "sns.scatterplot(x='age',y='avg_training_score',hue='is_promoted',data=data)\n",
    "plt.xticks(rotation=0)\n",
    "plt.legend(title='is_promoted',bbox_to_anchor=(1,0.5))\n",
    "plt.show()"
   ]
  },
  {
   "cell_type": "code",
   "execution_count": 46,
   "metadata": {},
   "outputs": [
    {
     "data": {
      "text/plain": [
       "education\n",
       "Bachelor's          63.402167\n",
       "Below Secondary     64.812227\n",
       "Master's & above    64.019935\n",
       "Name: avg_training_score, dtype: float64"
      ]
     },
     "execution_count": 46,
     "metadata": {},
     "output_type": "execute_result"
    }
   ],
   "source": [
    "data.groupby([\"education\"])['avg_training_score'].mean()"
   ]
  },
  {
   "cell_type": "code",
   "execution_count": 47,
   "metadata": {},
   "outputs": [
    {
     "data": {
      "text/plain": [
       "Index(['employee_id', 'department', 'region', 'education', 'gender',\n",
       "       'recruitment_channel', 'no_of_trainings', 'age', 'previous_year_rating',\n",
       "       'length_of_service', 'KPIs_met >80%', 'awards_won?',\n",
       "       'avg_training_score', 'is_promoted', 'score_binned', 'age_binned'],\n",
       "      dtype='object')"
      ]
     },
     "execution_count": 47,
     "metadata": {},
     "output_type": "execute_result"
    }
   ],
   "source": [
    "data.columns"
   ]
  },
  {
   "cell_type": "code",
   "execution_count": 48,
   "metadata": {},
   "outputs": [
    {
     "data": {
      "text/plain": [
       "[\"Bachelor's\", 'Below Secondary', \"Master's & above\"]"
      ]
     },
     "execution_count": 48,
     "metadata": {},
     "output_type": "execute_result"
    }
   ],
   "source": [
    "sorted(data['education'].unique())"
   ]
  },
  {
   "cell_type": "code",
   "execution_count": 49,
   "metadata": {},
   "outputs": [
    {
     "data": {
      "text/plain": [
       "['other', 'referred', 'sourcing']"
      ]
     },
     "execution_count": 49,
     "metadata": {},
     "output_type": "execute_result"
    }
   ],
   "source": [
    "sorted(data['recruitment_channel'].unique())"
   ]
  },
  {
   "cell_type": "code",
   "execution_count": 50,
   "metadata": {},
   "outputs": [
    {
     "data": {
      "text/plain": [
       "[0, 1]"
      ]
     },
     "execution_count": 50,
     "metadata": {},
     "output_type": "execute_result"
    }
   ],
   "source": [
    "sorted(data['awards_won?'].unique())"
   ]
  },
  {
   "cell_type": "code",
   "execution_count": 51,
   "metadata": {},
   "outputs": [
    {
     "data": {
      "text/plain": [
       "['f', 'm']"
      ]
     },
     "execution_count": 51,
     "metadata": {},
     "output_type": "execute_result"
    }
   ],
   "source": [
    "sorted(data['gender'].unique())"
   ]
  },
  {
   "cell_type": "code",
   "execution_count": 52,
   "metadata": {},
   "outputs": [],
   "source": [
    "from sklearn.preprocessing import LabelEncoder\n",
    "lb=LabelEncoder()"
   ]
  },
  {
   "cell_type": "code",
   "execution_count": 53,
   "metadata": {},
   "outputs": [],
   "source": [
    "data[\"department\"]=lb.fit_transform(data[\"department\"])"
   ]
  },
  {
   "cell_type": "code",
   "execution_count": 54,
   "metadata": {},
   "outputs": [
    {
     "data": {
      "text/plain": [
       "[0, 1, 2, 3, 4, 5, 6, 7, 8]"
      ]
     },
     "execution_count": 54,
     "metadata": {},
     "output_type": "execute_result"
    }
   ],
   "source": [
    "sorted(data['department'].unique())"
   ]
  },
  {
   "cell_type": "code",
   "execution_count": 55,
   "metadata": {},
   "outputs": [
    {
     "data": {
      "text/plain": [
       "[\"Bachelor's\", 'Below Secondary', \"Master's & above\"]"
      ]
     },
     "execution_count": 55,
     "metadata": {},
     "output_type": "execute_result"
    }
   ],
   "source": [
    "sorted(data['education'].unique())"
   ]
  },
  {
   "cell_type": "code",
   "execution_count": 56,
   "metadata": {},
   "outputs": [],
   "source": [
    "data[\"education\"]=lb.fit_transform(data[\"education\"])"
   ]
  },
  {
   "cell_type": "code",
   "execution_count": 57,
   "metadata": {},
   "outputs": [
    {
     "data": {
      "text/plain": [
       "[0, 1, 2]"
      ]
     },
     "execution_count": 57,
     "metadata": {},
     "output_type": "execute_result"
    }
   ],
   "source": [
    "sorted(data['education'].unique())"
   ]
  },
  {
   "cell_type": "code",
   "execution_count": 58,
   "metadata": {},
   "outputs": [
    {
     "data": {
      "text/plain": [
       "['f', 'm']"
      ]
     },
     "execution_count": 58,
     "metadata": {},
     "output_type": "execute_result"
    }
   ],
   "source": [
    "sorted(data['gender'].unique())"
   ]
  },
  {
   "cell_type": "code",
   "execution_count": 59,
   "metadata": {},
   "outputs": [],
   "source": [
    "data[\"gender\"]=lb.fit_transform(data[\"gender\"])"
   ]
  },
  {
   "cell_type": "code",
   "execution_count": 60,
   "metadata": {},
   "outputs": [
    {
     "data": {
      "text/plain": [
       "[0, 1]"
      ]
     },
     "execution_count": 60,
     "metadata": {},
     "output_type": "execute_result"
    }
   ],
   "source": [
    "sorted(data['gender'].unique())"
   ]
  },
  {
   "cell_type": "code",
   "execution_count": 61,
   "metadata": {},
   "outputs": [
    {
     "data": {
      "text/plain": [
       "['other', 'referred', 'sourcing']"
      ]
     },
     "execution_count": 61,
     "metadata": {},
     "output_type": "execute_result"
    }
   ],
   "source": [
    "sorted(data['recruitment_channel'].unique())"
   ]
  },
  {
   "cell_type": "code",
   "execution_count": 62,
   "metadata": {},
   "outputs": [],
   "source": [
    "data[\"recruitment_channel\"]=lb.fit_transform(data[\"recruitment_channel\"])"
   ]
  },
  {
   "cell_type": "code",
   "execution_count": 63,
   "metadata": {},
   "outputs": [
    {
     "data": {
      "text/plain": [
       "[0, 1, 2]"
      ]
     },
     "execution_count": 63,
     "metadata": {},
     "output_type": "execute_result"
    }
   ],
   "source": [
    "sorted(data['recruitment_channel'].unique())"
   ]
  },
  {
   "cell_type": "code",
   "execution_count": 64,
   "metadata": {},
   "outputs": [
    {
     "name": "stdout",
     "output_type": "stream",
     "text": [
      "<class 'pandas.core.frame.DataFrame'>\n",
      "Int64Index: 48660 entries, 0 to 54807\n",
      "Data columns (total 16 columns):\n",
      " #   Column                Non-Null Count  Dtype   \n",
      "---  ------                --------------  -----   \n",
      " 0   employee_id           48660 non-null  int64   \n",
      " 1   department            48660 non-null  int32   \n",
      " 2   region                48660 non-null  int64   \n",
      " 3   education             48660 non-null  int32   \n",
      " 4   gender                48660 non-null  int32   \n",
      " 5   recruitment_channel   48660 non-null  int32   \n",
      " 6   no_of_trainings       48660 non-null  int64   \n",
      " 7   age                   48660 non-null  int64   \n",
      " 8   previous_year_rating  48660 non-null  float64 \n",
      " 9   length_of_service     48660 non-null  int64   \n",
      " 10  KPIs_met >80%         48660 non-null  int64   \n",
      " 11  awards_won?           48660 non-null  int64   \n",
      " 12  avg_training_score    48660 non-null  int64   \n",
      " 13  is_promoted           48660 non-null  int64   \n",
      " 14  score_binned          48660 non-null  category\n",
      " 15  age_binned            35485 non-null  category\n",
      "dtypes: category(2), float64(1), int32(4), int64(9)\n",
      "memory usage: 4.9 MB\n"
     ]
    }
   ],
   "source": [
    "data.info()"
   ]
  },
  {
   "cell_type": "code",
   "execution_count": 65,
   "metadata": {},
   "outputs": [
    {
     "data": {
      "text/html": [
       "<div>\n",
       "<style scoped>\n",
       "    .dataframe tbody tr th:only-of-type {\n",
       "        vertical-align: middle;\n",
       "    }\n",
       "\n",
       "    .dataframe tbody tr th {\n",
       "        vertical-align: top;\n",
       "    }\n",
       "\n",
       "    .dataframe thead th {\n",
       "        text-align: right;\n",
       "    }\n",
       "</style>\n",
       "<table border=\"1\" class=\"dataframe\">\n",
       "  <thead>\n",
       "    <tr style=\"text-align: right;\">\n",
       "      <th></th>\n",
       "      <th>employee_id</th>\n",
       "      <th>department</th>\n",
       "      <th>region</th>\n",
       "      <th>education</th>\n",
       "      <th>gender</th>\n",
       "      <th>recruitment_channel</th>\n",
       "      <th>no_of_trainings</th>\n",
       "      <th>age</th>\n",
       "      <th>previous_year_rating</th>\n",
       "      <th>length_of_service</th>\n",
       "      <th>KPIs_met &gt;80%</th>\n",
       "      <th>awards_won?</th>\n",
       "      <th>avg_training_score</th>\n",
       "      <th>is_promoted</th>\n",
       "      <th>score_binned</th>\n",
       "      <th>age_binned</th>\n",
       "    </tr>\n",
       "  </thead>\n",
       "  <tbody>\n",
       "    <tr>\n",
       "      <th>0</th>\n",
       "      <td>65438</td>\n",
       "      <td>7</td>\n",
       "      <td>7</td>\n",
       "      <td>2</td>\n",
       "      <td>0</td>\n",
       "      <td>2</td>\n",
       "      <td>1</td>\n",
       "      <td>35</td>\n",
       "      <td>5.0</td>\n",
       "      <td>8</td>\n",
       "      <td>1</td>\n",
       "      <td>0</td>\n",
       "      <td>49</td>\n",
       "      <td>0</td>\n",
       "      <td>40-50</td>\n",
       "      <td>30-40</td>\n",
       "    </tr>\n",
       "    <tr>\n",
       "      <th>1</th>\n",
       "      <td>65141</td>\n",
       "      <td>4</td>\n",
       "      <td>22</td>\n",
       "      <td>0</td>\n",
       "      <td>1</td>\n",
       "      <td>0</td>\n",
       "      <td>1</td>\n",
       "      <td>30</td>\n",
       "      <td>5.0</td>\n",
       "      <td>4</td>\n",
       "      <td>0</td>\n",
       "      <td>0</td>\n",
       "      <td>60</td>\n",
       "      <td>0</td>\n",
       "      <td>50-60</td>\n",
       "      <td>NaN</td>\n",
       "    </tr>\n",
       "    <tr>\n",
       "      <th>2</th>\n",
       "      <td>7513</td>\n",
       "      <td>7</td>\n",
       "      <td>19</td>\n",
       "      <td>0</td>\n",
       "      <td>1</td>\n",
       "      <td>2</td>\n",
       "      <td>1</td>\n",
       "      <td>34</td>\n",
       "      <td>3.0</td>\n",
       "      <td>7</td>\n",
       "      <td>0</td>\n",
       "      <td>0</td>\n",
       "      <td>50</td>\n",
       "      <td>0</td>\n",
       "      <td>40-50</td>\n",
       "      <td>30-40</td>\n",
       "    </tr>\n",
       "    <tr>\n",
       "      <th>3</th>\n",
       "      <td>2542</td>\n",
       "      <td>7</td>\n",
       "      <td>23</td>\n",
       "      <td>0</td>\n",
       "      <td>1</td>\n",
       "      <td>0</td>\n",
       "      <td>2</td>\n",
       "      <td>39</td>\n",
       "      <td>1.0</td>\n",
       "      <td>10</td>\n",
       "      <td>0</td>\n",
       "      <td>0</td>\n",
       "      <td>50</td>\n",
       "      <td>0</td>\n",
       "      <td>40-50</td>\n",
       "      <td>30-40</td>\n",
       "    </tr>\n",
       "    <tr>\n",
       "      <th>4</th>\n",
       "      <td>48945</td>\n",
       "      <td>8</td>\n",
       "      <td>26</td>\n",
       "      <td>0</td>\n",
       "      <td>1</td>\n",
       "      <td>0</td>\n",
       "      <td>1</td>\n",
       "      <td>45</td>\n",
       "      <td>3.0</td>\n",
       "      <td>2</td>\n",
       "      <td>0</td>\n",
       "      <td>0</td>\n",
       "      <td>73</td>\n",
       "      <td>0</td>\n",
       "      <td>70-80</td>\n",
       "      <td>40-50</td>\n",
       "    </tr>\n",
       "  </tbody>\n",
       "</table>\n",
       "</div>"
      ],
      "text/plain": [
       "   employee_id  department  region  education  gender  recruitment_channel  \\\n",
       "0        65438           7       7          2       0                    2   \n",
       "1        65141           4      22          0       1                    0   \n",
       "2         7513           7      19          0       1                    2   \n",
       "3         2542           7      23          0       1                    0   \n",
       "4        48945           8      26          0       1                    0   \n",
       "\n",
       "   no_of_trainings  age  previous_year_rating  length_of_service  \\\n",
       "0                1   35                   5.0                  8   \n",
       "1                1   30                   5.0                  4   \n",
       "2                1   34                   3.0                  7   \n",
       "3                2   39                   1.0                 10   \n",
       "4                1   45                   3.0                  2   \n",
       "\n",
       "   KPIs_met >80%  awards_won?  avg_training_score  is_promoted score_binned  \\\n",
       "0              1            0                  49            0        40-50   \n",
       "1              0            0                  60            0        50-60   \n",
       "2              0            0                  50            0        40-50   \n",
       "3              0            0                  50            0        40-50   \n",
       "4              0            0                  73            0        70-80   \n",
       "\n",
       "  age_binned  \n",
       "0      30-40  \n",
       "1        NaN  \n",
       "2      30-40  \n",
       "3      30-40  \n",
       "4      40-50  "
      ]
     },
     "execution_count": 65,
     "metadata": {},
     "output_type": "execute_result"
    }
   ],
   "source": [
    "data.head()"
   ]
  },
  {
   "cell_type": "code",
   "execution_count": 66,
   "metadata": {},
   "outputs": [
    {
     "data": {
      "text/plain": [
       "Index(['employee_id', 'department', 'region', 'education', 'gender',\n",
       "       'recruitment_channel', 'no_of_trainings', 'age', 'previous_year_rating',\n",
       "       'length_of_service', 'KPIs_met >80%', 'awards_won?',\n",
       "       'avg_training_score', 'is_promoted', 'score_binned', 'age_binned'],\n",
       "      dtype='object')"
      ]
     },
     "execution_count": 66,
     "metadata": {},
     "output_type": "execute_result"
    }
   ],
   "source": [
    "data.columns"
   ]
  },
  {
   "cell_type": "code",
   "execution_count": 67,
   "metadata": {},
   "outputs": [],
   "source": [
    "from sklearn import preprocessing\n",
    "scaled_features = data.copy()\n",
    "col_names = ['no_of_trainings', 'age','previous_year_rating','length_of_service','awards_won?','avg_training_score']\n",
    "label_names = ['department','gender','education','recruitment_channel','region']\n",
    "features = scaled_features[col_names]\n",
    "scaler = preprocessing.StandardScaler().fit(features.values)\n",
    "features = scaler.transform(features.values)\n",
    "scaled_features = pd.get_dummies(scaled_features, columns=label_names)\n",
    "scaled_features[col_names] = features\n",
    "scaled_features.drop(columns=['employee_id','age','score_binned','age_binned'],inplace=True)"
   ]
  },
  {
   "cell_type": "code",
   "execution_count": 68,
   "metadata": {},
   "outputs": [
    {
     "name": "stdout",
     "output_type": "stream",
     "text": [
      "<class 'pandas.core.frame.DataFrame'>\n",
      "Int64Index: 48660 entries, 0 to 54807\n",
      "Data columns (total 58 columns):\n",
      " #   Column                 Non-Null Count  Dtype  \n",
      "---  ------                 --------------  -----  \n",
      " 0   no_of_trainings        48660 non-null  float64\n",
      " 1   previous_year_rating   48660 non-null  float64\n",
      " 2   length_of_service      48660 non-null  float64\n",
      " 3   KPIs_met >80%          48660 non-null  int64  \n",
      " 4   awards_won?            48660 non-null  float64\n",
      " 5   avg_training_score     48660 non-null  float64\n",
      " 6   is_promoted            48660 non-null  int64  \n",
      " 7   department_0           48660 non-null  uint8  \n",
      " 8   department_1           48660 non-null  uint8  \n",
      " 9   department_2           48660 non-null  uint8  \n",
      " 10  department_3           48660 non-null  uint8  \n",
      " 11  department_4           48660 non-null  uint8  \n",
      " 12  department_5           48660 non-null  uint8  \n",
      " 13  department_6           48660 non-null  uint8  \n",
      " 14  department_7           48660 non-null  uint8  \n",
      " 15  department_8           48660 non-null  uint8  \n",
      " 16  gender_0               48660 non-null  uint8  \n",
      " 17  gender_1               48660 non-null  uint8  \n",
      " 18  education_0            48660 non-null  uint8  \n",
      " 19  education_1            48660 non-null  uint8  \n",
      " 20  education_2            48660 non-null  uint8  \n",
      " 21  recruitment_channel_0  48660 non-null  uint8  \n",
      " 22  recruitment_channel_1  48660 non-null  uint8  \n",
      " 23  recruitment_channel_2  48660 non-null  uint8  \n",
      " 24  region_1               48660 non-null  uint8  \n",
      " 25  region_2               48660 non-null  uint8  \n",
      " 26  region_3               48660 non-null  uint8  \n",
      " 27  region_4               48660 non-null  uint8  \n",
      " 28  region_5               48660 non-null  uint8  \n",
      " 29  region_6               48660 non-null  uint8  \n",
      " 30  region_7               48660 non-null  uint8  \n",
      " 31  region_8               48660 non-null  uint8  \n",
      " 32  region_9               48660 non-null  uint8  \n",
      " 33  region_10              48660 non-null  uint8  \n",
      " 34  region_11              48660 non-null  uint8  \n",
      " 35  region_12              48660 non-null  uint8  \n",
      " 36  region_13              48660 non-null  uint8  \n",
      " 37  region_14              48660 non-null  uint8  \n",
      " 38  region_15              48660 non-null  uint8  \n",
      " 39  region_16              48660 non-null  uint8  \n",
      " 40  region_17              48660 non-null  uint8  \n",
      " 41  region_18              48660 non-null  uint8  \n",
      " 42  region_19              48660 non-null  uint8  \n",
      " 43  region_20              48660 non-null  uint8  \n",
      " 44  region_21              48660 non-null  uint8  \n",
      " 45  region_22              48660 non-null  uint8  \n",
      " 46  region_23              48660 non-null  uint8  \n",
      " 47  region_24              48660 non-null  uint8  \n",
      " 48  region_25              48660 non-null  uint8  \n",
      " 49  region_26              48660 non-null  uint8  \n",
      " 50  region_27              48660 non-null  uint8  \n",
      " 51  region_28              48660 non-null  uint8  \n",
      " 52  region_29              48660 non-null  uint8  \n",
      " 53  region_30              48660 non-null  uint8  \n",
      " 54  region_31              48660 non-null  uint8  \n",
      " 55  region_32              48660 non-null  uint8  \n",
      " 56  region_33              48660 non-null  uint8  \n",
      " 57  region_34              48660 non-null  uint8  \n",
      "dtypes: float64(5), int64(2), uint8(51)\n",
      "memory usage: 5.3 MB\n"
     ]
    }
   ],
   "source": [
    "scaled_features.info()"
   ]
  },
  {
   "cell_type": "code",
   "execution_count": 69,
   "metadata": {},
   "outputs": [
    {
     "data": {
      "text/plain": [
       "Index(['no_of_trainings', 'previous_year_rating', 'length_of_service',\n",
       "       'KPIs_met >80%', 'awards_won?', 'avg_training_score', 'is_promoted',\n",
       "       'department_0', 'department_1', 'department_2', 'department_3',\n",
       "       'department_4', 'department_5', 'department_6', 'department_7',\n",
       "       'department_8', 'gender_0', 'gender_1', 'education_0', 'education_1',\n",
       "       'education_2', 'recruitment_channel_0', 'recruitment_channel_1',\n",
       "       'recruitment_channel_2', 'region_1', 'region_2', 'region_3', 'region_4',\n",
       "       'region_5', 'region_6', 'region_7', 'region_8', 'region_9', 'region_10',\n",
       "       'region_11', 'region_12', 'region_13', 'region_14', 'region_15',\n",
       "       'region_16', 'region_17', 'region_18', 'region_19', 'region_20',\n",
       "       'region_21', 'region_22', 'region_23', 'region_24', 'region_25',\n",
       "       'region_26', 'region_27', 'region_28', 'region_29', 'region_30',\n",
       "       'region_31', 'region_32', 'region_33', 'region_34'],\n",
       "      dtype='object')"
      ]
     },
     "execution_count": 69,
     "metadata": {},
     "output_type": "execute_result"
    }
   ],
   "source": [
    "scaled_features.columns"
   ]
  },
  {
   "cell_type": "code",
   "execution_count": 70,
   "metadata": {},
   "outputs": [],
   "source": [
    "scaled_features.drop(columns=['no_of_trainings', 'previous_year_rating', 'length_of_service',\n",
    "       'KPIs_met >80%', 'awards_won?', 'avg_training_score', 'is_promoted'],inplace=True)"
   ]
  },
  {
   "cell_type": "code",
   "execution_count": 71,
   "metadata": {},
   "outputs": [
    {
     "data": {
      "text/html": [
       "<div>\n",
       "<style scoped>\n",
       "    .dataframe tbody tr th:only-of-type {\n",
       "        vertical-align: middle;\n",
       "    }\n",
       "\n",
       "    .dataframe tbody tr th {\n",
       "        vertical-align: top;\n",
       "    }\n",
       "\n",
       "    .dataframe thead th {\n",
       "        text-align: right;\n",
       "    }\n",
       "</style>\n",
       "<table border=\"1\" class=\"dataframe\">\n",
       "  <thead>\n",
       "    <tr style=\"text-align: right;\">\n",
       "      <th></th>\n",
       "      <th>department_0</th>\n",
       "      <th>department_1</th>\n",
       "      <th>department_2</th>\n",
       "      <th>department_3</th>\n",
       "      <th>department_4</th>\n",
       "      <th>department_5</th>\n",
       "      <th>department_6</th>\n",
       "      <th>department_7</th>\n",
       "      <th>department_8</th>\n",
       "      <th>gender_0</th>\n",
       "      <th>...</th>\n",
       "      <th>region_25</th>\n",
       "      <th>region_26</th>\n",
       "      <th>region_27</th>\n",
       "      <th>region_28</th>\n",
       "      <th>region_29</th>\n",
       "      <th>region_30</th>\n",
       "      <th>region_31</th>\n",
       "      <th>region_32</th>\n",
       "      <th>region_33</th>\n",
       "      <th>region_34</th>\n",
       "    </tr>\n",
       "  </thead>\n",
       "  <tbody>\n",
       "    <tr>\n",
       "      <th>0</th>\n",
       "      <td>0</td>\n",
       "      <td>0</td>\n",
       "      <td>0</td>\n",
       "      <td>0</td>\n",
       "      <td>0</td>\n",
       "      <td>0</td>\n",
       "      <td>0</td>\n",
       "      <td>1</td>\n",
       "      <td>0</td>\n",
       "      <td>1</td>\n",
       "      <td>...</td>\n",
       "      <td>0</td>\n",
       "      <td>0</td>\n",
       "      <td>0</td>\n",
       "      <td>0</td>\n",
       "      <td>0</td>\n",
       "      <td>0</td>\n",
       "      <td>0</td>\n",
       "      <td>0</td>\n",
       "      <td>0</td>\n",
       "      <td>0</td>\n",
       "    </tr>\n",
       "    <tr>\n",
       "      <th>1</th>\n",
       "      <td>0</td>\n",
       "      <td>0</td>\n",
       "      <td>0</td>\n",
       "      <td>0</td>\n",
       "      <td>1</td>\n",
       "      <td>0</td>\n",
       "      <td>0</td>\n",
       "      <td>0</td>\n",
       "      <td>0</td>\n",
       "      <td>0</td>\n",
       "      <td>...</td>\n",
       "      <td>0</td>\n",
       "      <td>0</td>\n",
       "      <td>0</td>\n",
       "      <td>0</td>\n",
       "      <td>0</td>\n",
       "      <td>0</td>\n",
       "      <td>0</td>\n",
       "      <td>0</td>\n",
       "      <td>0</td>\n",
       "      <td>0</td>\n",
       "    </tr>\n",
       "    <tr>\n",
       "      <th>2</th>\n",
       "      <td>0</td>\n",
       "      <td>0</td>\n",
       "      <td>0</td>\n",
       "      <td>0</td>\n",
       "      <td>0</td>\n",
       "      <td>0</td>\n",
       "      <td>0</td>\n",
       "      <td>1</td>\n",
       "      <td>0</td>\n",
       "      <td>0</td>\n",
       "      <td>...</td>\n",
       "      <td>0</td>\n",
       "      <td>0</td>\n",
       "      <td>0</td>\n",
       "      <td>0</td>\n",
       "      <td>0</td>\n",
       "      <td>0</td>\n",
       "      <td>0</td>\n",
       "      <td>0</td>\n",
       "      <td>0</td>\n",
       "      <td>0</td>\n",
       "    </tr>\n",
       "    <tr>\n",
       "      <th>3</th>\n",
       "      <td>0</td>\n",
       "      <td>0</td>\n",
       "      <td>0</td>\n",
       "      <td>0</td>\n",
       "      <td>0</td>\n",
       "      <td>0</td>\n",
       "      <td>0</td>\n",
       "      <td>1</td>\n",
       "      <td>0</td>\n",
       "      <td>0</td>\n",
       "      <td>...</td>\n",
       "      <td>0</td>\n",
       "      <td>0</td>\n",
       "      <td>0</td>\n",
       "      <td>0</td>\n",
       "      <td>0</td>\n",
       "      <td>0</td>\n",
       "      <td>0</td>\n",
       "      <td>0</td>\n",
       "      <td>0</td>\n",
       "      <td>0</td>\n",
       "    </tr>\n",
       "    <tr>\n",
       "      <th>4</th>\n",
       "      <td>0</td>\n",
       "      <td>0</td>\n",
       "      <td>0</td>\n",
       "      <td>0</td>\n",
       "      <td>0</td>\n",
       "      <td>0</td>\n",
       "      <td>0</td>\n",
       "      <td>0</td>\n",
       "      <td>1</td>\n",
       "      <td>0</td>\n",
       "      <td>...</td>\n",
       "      <td>0</td>\n",
       "      <td>1</td>\n",
       "      <td>0</td>\n",
       "      <td>0</td>\n",
       "      <td>0</td>\n",
       "      <td>0</td>\n",
       "      <td>0</td>\n",
       "      <td>0</td>\n",
       "      <td>0</td>\n",
       "      <td>0</td>\n",
       "    </tr>\n",
       "    <tr>\n",
       "      <th>...</th>\n",
       "      <td>...</td>\n",
       "      <td>...</td>\n",
       "      <td>...</td>\n",
       "      <td>...</td>\n",
       "      <td>...</td>\n",
       "      <td>...</td>\n",
       "      <td>...</td>\n",
       "      <td>...</td>\n",
       "      <td>...</td>\n",
       "      <td>...</td>\n",
       "      <td>...</td>\n",
       "      <td>...</td>\n",
       "      <td>...</td>\n",
       "      <td>...</td>\n",
       "      <td>...</td>\n",
       "      <td>...</td>\n",
       "      <td>...</td>\n",
       "      <td>...</td>\n",
       "      <td>...</td>\n",
       "      <td>...</td>\n",
       "      <td>...</td>\n",
       "    </tr>\n",
       "    <tr>\n",
       "      <th>54802</th>\n",
       "      <td>0</td>\n",
       "      <td>0</td>\n",
       "      <td>0</td>\n",
       "      <td>0</td>\n",
       "      <td>0</td>\n",
       "      <td>0</td>\n",
       "      <td>0</td>\n",
       "      <td>1</td>\n",
       "      <td>0</td>\n",
       "      <td>0</td>\n",
       "      <td>...</td>\n",
       "      <td>0</td>\n",
       "      <td>0</td>\n",
       "      <td>0</td>\n",
       "      <td>0</td>\n",
       "      <td>0</td>\n",
       "      <td>0</td>\n",
       "      <td>0</td>\n",
       "      <td>0</td>\n",
       "      <td>0</td>\n",
       "      <td>0</td>\n",
       "    </tr>\n",
       "    <tr>\n",
       "      <th>54803</th>\n",
       "      <td>0</td>\n",
       "      <td>0</td>\n",
       "      <td>0</td>\n",
       "      <td>0</td>\n",
       "      <td>0</td>\n",
       "      <td>0</td>\n",
       "      <td>0</td>\n",
       "      <td>0</td>\n",
       "      <td>1</td>\n",
       "      <td>0</td>\n",
       "      <td>...</td>\n",
       "      <td>0</td>\n",
       "      <td>0</td>\n",
       "      <td>0</td>\n",
       "      <td>0</td>\n",
       "      <td>0</td>\n",
       "      <td>0</td>\n",
       "      <td>0</td>\n",
       "      <td>0</td>\n",
       "      <td>0</td>\n",
       "      <td>0</td>\n",
       "    </tr>\n",
       "    <tr>\n",
       "      <th>54804</th>\n",
       "      <td>0</td>\n",
       "      <td>0</td>\n",
       "      <td>0</td>\n",
       "      <td>0</td>\n",
       "      <td>1</td>\n",
       "      <td>0</td>\n",
       "      <td>0</td>\n",
       "      <td>0</td>\n",
       "      <td>0</td>\n",
       "      <td>1</td>\n",
       "      <td>...</td>\n",
       "      <td>0</td>\n",
       "      <td>0</td>\n",
       "      <td>1</td>\n",
       "      <td>0</td>\n",
       "      <td>0</td>\n",
       "      <td>0</td>\n",
       "      <td>0</td>\n",
       "      <td>0</td>\n",
       "      <td>0</td>\n",
       "      <td>0</td>\n",
       "    </tr>\n",
       "    <tr>\n",
       "      <th>54805</th>\n",
       "      <td>1</td>\n",
       "      <td>0</td>\n",
       "      <td>0</td>\n",
       "      <td>0</td>\n",
       "      <td>0</td>\n",
       "      <td>0</td>\n",
       "      <td>0</td>\n",
       "      <td>0</td>\n",
       "      <td>0</td>\n",
       "      <td>0</td>\n",
       "      <td>...</td>\n",
       "      <td>0</td>\n",
       "      <td>0</td>\n",
       "      <td>0</td>\n",
       "      <td>0</td>\n",
       "      <td>0</td>\n",
       "      <td>0</td>\n",
       "      <td>0</td>\n",
       "      <td>0</td>\n",
       "      <td>0</td>\n",
       "      <td>0</td>\n",
       "    </tr>\n",
       "    <tr>\n",
       "      <th>54807</th>\n",
       "      <td>0</td>\n",
       "      <td>0</td>\n",
       "      <td>1</td>\n",
       "      <td>0</td>\n",
       "      <td>0</td>\n",
       "      <td>0</td>\n",
       "      <td>0</td>\n",
       "      <td>0</td>\n",
       "      <td>0</td>\n",
       "      <td>0</td>\n",
       "      <td>...</td>\n",
       "      <td>0</td>\n",
       "      <td>0</td>\n",
       "      <td>0</td>\n",
       "      <td>0</td>\n",
       "      <td>0</td>\n",
       "      <td>0</td>\n",
       "      <td>0</td>\n",
       "      <td>0</td>\n",
       "      <td>0</td>\n",
       "      <td>0</td>\n",
       "    </tr>\n",
       "  </tbody>\n",
       "</table>\n",
       "<p>48660 rows × 51 columns</p>\n",
       "</div>"
      ],
      "text/plain": [
       "       department_0  department_1  department_2  department_3  department_4  \\\n",
       "0                 0             0             0             0             0   \n",
       "1                 0             0             0             0             1   \n",
       "2                 0             0             0             0             0   \n",
       "3                 0             0             0             0             0   \n",
       "4                 0             0             0             0             0   \n",
       "...             ...           ...           ...           ...           ...   \n",
       "54802             0             0             0             0             0   \n",
       "54803             0             0             0             0             0   \n",
       "54804             0             0             0             0             1   \n",
       "54805             1             0             0             0             0   \n",
       "54807             0             0             1             0             0   \n",
       "\n",
       "       department_5  department_6  department_7  department_8  gender_0  ...  \\\n",
       "0                 0             0             1             0         1  ...   \n",
       "1                 0             0             0             0         0  ...   \n",
       "2                 0             0             1             0         0  ...   \n",
       "3                 0             0             1             0         0  ...   \n",
       "4                 0             0             0             1         0  ...   \n",
       "...             ...           ...           ...           ...       ...  ...   \n",
       "54802             0             0             1             0         0  ...   \n",
       "54803             0             0             0             1         0  ...   \n",
       "54804             0             0             0             0         1  ...   \n",
       "54805             0             0             0             0         0  ...   \n",
       "54807             0             0             0             0         0  ...   \n",
       "\n",
       "       region_25  region_26  region_27  region_28  region_29  region_30  \\\n",
       "0              0          0          0          0          0          0   \n",
       "1              0          0          0          0          0          0   \n",
       "2              0          0          0          0          0          0   \n",
       "3              0          0          0          0          0          0   \n",
       "4              0          1          0          0          0          0   \n",
       "...          ...        ...        ...        ...        ...        ...   \n",
       "54802          0          0          0          0          0          0   \n",
       "54803          0          0          0          0          0          0   \n",
       "54804          0          0          1          0          0          0   \n",
       "54805          0          0          0          0          0          0   \n",
       "54807          0          0          0          0          0          0   \n",
       "\n",
       "       region_31  region_32  region_33  region_34  \n",
       "0              0          0          0          0  \n",
       "1              0          0          0          0  \n",
       "2              0          0          0          0  \n",
       "3              0          0          0          0  \n",
       "4              0          0          0          0  \n",
       "...          ...        ...        ...        ...  \n",
       "54802          0          0          0          0  \n",
       "54803          0          0          0          0  \n",
       "54804          0          0          0          0  \n",
       "54805          0          0          0          0  \n",
       "54807          0          0          0          0  \n",
       "\n",
       "[48660 rows x 51 columns]"
      ]
     },
     "execution_count": 71,
     "metadata": {},
     "output_type": "execute_result"
    }
   ],
   "source": [
    "scaled_features"
   ]
  },
  {
   "cell_type": "code",
   "execution_count": 72,
   "metadata": {},
   "outputs": [
    {
     "data": {
      "text/html": [
       "<div>\n",
       "<style scoped>\n",
       "    .dataframe tbody tr th:only-of-type {\n",
       "        vertical-align: middle;\n",
       "    }\n",
       "\n",
       "    .dataframe tbody tr th {\n",
       "        vertical-align: top;\n",
       "    }\n",
       "\n",
       "    .dataframe thead th {\n",
       "        text-align: right;\n",
       "    }\n",
       "</style>\n",
       "<table border=\"1\" class=\"dataframe\">\n",
       "  <thead>\n",
       "    <tr style=\"text-align: right;\">\n",
       "      <th></th>\n",
       "      <th>employee_id</th>\n",
       "      <th>department</th>\n",
       "      <th>region</th>\n",
       "      <th>education</th>\n",
       "      <th>gender</th>\n",
       "      <th>recruitment_channel</th>\n",
       "      <th>no_of_trainings</th>\n",
       "      <th>age</th>\n",
       "      <th>previous_year_rating</th>\n",
       "      <th>length_of_service</th>\n",
       "      <th>KPIs_met &gt;80%</th>\n",
       "      <th>awards_won?</th>\n",
       "      <th>avg_training_score</th>\n",
       "      <th>is_promoted</th>\n",
       "      <th>score_binned</th>\n",
       "      <th>age_binned</th>\n",
       "    </tr>\n",
       "  </thead>\n",
       "  <tbody>\n",
       "    <tr>\n",
       "      <th>0</th>\n",
       "      <td>65438</td>\n",
       "      <td>7</td>\n",
       "      <td>7</td>\n",
       "      <td>2</td>\n",
       "      <td>0</td>\n",
       "      <td>2</td>\n",
       "      <td>1</td>\n",
       "      <td>35</td>\n",
       "      <td>5.0</td>\n",
       "      <td>8</td>\n",
       "      <td>1</td>\n",
       "      <td>0</td>\n",
       "      <td>49</td>\n",
       "      <td>0</td>\n",
       "      <td>40-50</td>\n",
       "      <td>30-40</td>\n",
       "    </tr>\n",
       "    <tr>\n",
       "      <th>1</th>\n",
       "      <td>65141</td>\n",
       "      <td>4</td>\n",
       "      <td>22</td>\n",
       "      <td>0</td>\n",
       "      <td>1</td>\n",
       "      <td>0</td>\n",
       "      <td>1</td>\n",
       "      <td>30</td>\n",
       "      <td>5.0</td>\n",
       "      <td>4</td>\n",
       "      <td>0</td>\n",
       "      <td>0</td>\n",
       "      <td>60</td>\n",
       "      <td>0</td>\n",
       "      <td>50-60</td>\n",
       "      <td>NaN</td>\n",
       "    </tr>\n",
       "    <tr>\n",
       "      <th>2</th>\n",
       "      <td>7513</td>\n",
       "      <td>7</td>\n",
       "      <td>19</td>\n",
       "      <td>0</td>\n",
       "      <td>1</td>\n",
       "      <td>2</td>\n",
       "      <td>1</td>\n",
       "      <td>34</td>\n",
       "      <td>3.0</td>\n",
       "      <td>7</td>\n",
       "      <td>0</td>\n",
       "      <td>0</td>\n",
       "      <td>50</td>\n",
       "      <td>0</td>\n",
       "      <td>40-50</td>\n",
       "      <td>30-40</td>\n",
       "    </tr>\n",
       "    <tr>\n",
       "      <th>3</th>\n",
       "      <td>2542</td>\n",
       "      <td>7</td>\n",
       "      <td>23</td>\n",
       "      <td>0</td>\n",
       "      <td>1</td>\n",
       "      <td>0</td>\n",
       "      <td>2</td>\n",
       "      <td>39</td>\n",
       "      <td>1.0</td>\n",
       "      <td>10</td>\n",
       "      <td>0</td>\n",
       "      <td>0</td>\n",
       "      <td>50</td>\n",
       "      <td>0</td>\n",
       "      <td>40-50</td>\n",
       "      <td>30-40</td>\n",
       "    </tr>\n",
       "    <tr>\n",
       "      <th>4</th>\n",
       "      <td>48945</td>\n",
       "      <td>8</td>\n",
       "      <td>26</td>\n",
       "      <td>0</td>\n",
       "      <td>1</td>\n",
       "      <td>0</td>\n",
       "      <td>1</td>\n",
       "      <td>45</td>\n",
       "      <td>3.0</td>\n",
       "      <td>2</td>\n",
       "      <td>0</td>\n",
       "      <td>0</td>\n",
       "      <td>73</td>\n",
       "      <td>0</td>\n",
       "      <td>70-80</td>\n",
       "      <td>40-50</td>\n",
       "    </tr>\n",
       "    <tr>\n",
       "      <th>...</th>\n",
       "      <td>...</td>\n",
       "      <td>...</td>\n",
       "      <td>...</td>\n",
       "      <td>...</td>\n",
       "      <td>...</td>\n",
       "      <td>...</td>\n",
       "      <td>...</td>\n",
       "      <td>...</td>\n",
       "      <td>...</td>\n",
       "      <td>...</td>\n",
       "      <td>...</td>\n",
       "      <td>...</td>\n",
       "      <td>...</td>\n",
       "      <td>...</td>\n",
       "      <td>...</td>\n",
       "      <td>...</td>\n",
       "    </tr>\n",
       "    <tr>\n",
       "      <th>54802</th>\n",
       "      <td>6915</td>\n",
       "      <td>7</td>\n",
       "      <td>14</td>\n",
       "      <td>0</td>\n",
       "      <td>1</td>\n",
       "      <td>0</td>\n",
       "      <td>2</td>\n",
       "      <td>31</td>\n",
       "      <td>1.0</td>\n",
       "      <td>2</td>\n",
       "      <td>0</td>\n",
       "      <td>0</td>\n",
       "      <td>49</td>\n",
       "      <td>0</td>\n",
       "      <td>40-50</td>\n",
       "      <td>30-40</td>\n",
       "    </tr>\n",
       "    <tr>\n",
       "      <th>54803</th>\n",
       "      <td>3030</td>\n",
       "      <td>8</td>\n",
       "      <td>14</td>\n",
       "      <td>0</td>\n",
       "      <td>1</td>\n",
       "      <td>2</td>\n",
       "      <td>1</td>\n",
       "      <td>48</td>\n",
       "      <td>3.0</td>\n",
       "      <td>17</td>\n",
       "      <td>0</td>\n",
       "      <td>0</td>\n",
       "      <td>78</td>\n",
       "      <td>0</td>\n",
       "      <td>70-80</td>\n",
       "      <td>40-50</td>\n",
       "    </tr>\n",
       "    <tr>\n",
       "      <th>54804</th>\n",
       "      <td>74592</td>\n",
       "      <td>4</td>\n",
       "      <td>27</td>\n",
       "      <td>2</td>\n",
       "      <td>0</td>\n",
       "      <td>0</td>\n",
       "      <td>1</td>\n",
       "      <td>37</td>\n",
       "      <td>2.0</td>\n",
       "      <td>6</td>\n",
       "      <td>0</td>\n",
       "      <td>0</td>\n",
       "      <td>56</td>\n",
       "      <td>0</td>\n",
       "      <td>50-60</td>\n",
       "      <td>30-40</td>\n",
       "    </tr>\n",
       "    <tr>\n",
       "      <th>54805</th>\n",
       "      <td>13918</td>\n",
       "      <td>0</td>\n",
       "      <td>1</td>\n",
       "      <td>0</td>\n",
       "      <td>1</td>\n",
       "      <td>0</td>\n",
       "      <td>1</td>\n",
       "      <td>27</td>\n",
       "      <td>5.0</td>\n",
       "      <td>3</td>\n",
       "      <td>1</td>\n",
       "      <td>0</td>\n",
       "      <td>79</td>\n",
       "      <td>0</td>\n",
       "      <td>70-80</td>\n",
       "      <td>NaN</td>\n",
       "    </tr>\n",
       "    <tr>\n",
       "      <th>54807</th>\n",
       "      <td>51526</td>\n",
       "      <td>2</td>\n",
       "      <td>22</td>\n",
       "      <td>0</td>\n",
       "      <td>1</td>\n",
       "      <td>0</td>\n",
       "      <td>1</td>\n",
       "      <td>27</td>\n",
       "      <td>1.0</td>\n",
       "      <td>5</td>\n",
       "      <td>0</td>\n",
       "      <td>0</td>\n",
       "      <td>49</td>\n",
       "      <td>0</td>\n",
       "      <td>40-50</td>\n",
       "      <td>NaN</td>\n",
       "    </tr>\n",
       "  </tbody>\n",
       "</table>\n",
       "<p>48660 rows × 16 columns</p>\n",
       "</div>"
      ],
      "text/plain": [
       "       employee_id  department  region  education  gender  \\\n",
       "0            65438           7       7          2       0   \n",
       "1            65141           4      22          0       1   \n",
       "2             7513           7      19          0       1   \n",
       "3             2542           7      23          0       1   \n",
       "4            48945           8      26          0       1   \n",
       "...            ...         ...     ...        ...     ...   \n",
       "54802         6915           7      14          0       1   \n",
       "54803         3030           8      14          0       1   \n",
       "54804        74592           4      27          2       0   \n",
       "54805        13918           0       1          0       1   \n",
       "54807        51526           2      22          0       1   \n",
       "\n",
       "       recruitment_channel  no_of_trainings  age  previous_year_rating  \\\n",
       "0                        2                1   35                   5.0   \n",
       "1                        0                1   30                   5.0   \n",
       "2                        2                1   34                   3.0   \n",
       "3                        0                2   39                   1.0   \n",
       "4                        0                1   45                   3.0   \n",
       "...                    ...              ...  ...                   ...   \n",
       "54802                    0                2   31                   1.0   \n",
       "54803                    2                1   48                   3.0   \n",
       "54804                    0                1   37                   2.0   \n",
       "54805                    0                1   27                   5.0   \n",
       "54807                    0                1   27                   1.0   \n",
       "\n",
       "       length_of_service  KPIs_met >80%  awards_won?  avg_training_score  \\\n",
       "0                      8              1            0                  49   \n",
       "1                      4              0            0                  60   \n",
       "2                      7              0            0                  50   \n",
       "3                     10              0            0                  50   \n",
       "4                      2              0            0                  73   \n",
       "...                  ...            ...          ...                 ...   \n",
       "54802                  2              0            0                  49   \n",
       "54803                 17              0            0                  78   \n",
       "54804                  6              0            0                  56   \n",
       "54805                  3              1            0                  79   \n",
       "54807                  5              0            0                  49   \n",
       "\n",
       "       is_promoted score_binned age_binned  \n",
       "0                0        40-50      30-40  \n",
       "1                0        50-60        NaN  \n",
       "2                0        40-50      30-40  \n",
       "3                0        40-50      30-40  \n",
       "4                0        70-80      40-50  \n",
       "...            ...          ...        ...  \n",
       "54802            0        40-50      30-40  \n",
       "54803            0        70-80      40-50  \n",
       "54804            0        50-60      30-40  \n",
       "54805            0        70-80        NaN  \n",
       "54807            0        40-50        NaN  \n",
       "\n",
       "[48660 rows x 16 columns]"
      ]
     },
     "execution_count": 72,
     "metadata": {},
     "output_type": "execute_result"
    }
   ],
   "source": [
    "data"
   ]
  },
  {
   "cell_type": "code",
   "execution_count": 73,
   "metadata": {},
   "outputs": [],
   "source": [
    "The_recorrected_data=data.join(scaled_features)"
   ]
  },
  {
   "cell_type": "code",
   "execution_count": 74,
   "metadata": {},
   "outputs": [
    {
     "name": "stdout",
     "output_type": "stream",
     "text": [
      "<class 'pandas.core.frame.DataFrame'>\n",
      "Int64Index: 48660 entries, 0 to 54807\n",
      "Data columns (total 67 columns):\n",
      " #   Column                 Non-Null Count  Dtype   \n",
      "---  ------                 --------------  -----   \n",
      " 0   employee_id            48660 non-null  int64   \n",
      " 1   department             48660 non-null  int32   \n",
      " 2   region                 48660 non-null  int64   \n",
      " 3   education              48660 non-null  int32   \n",
      " 4   gender                 48660 non-null  int32   \n",
      " 5   recruitment_channel    48660 non-null  int32   \n",
      " 6   no_of_trainings        48660 non-null  int64   \n",
      " 7   age                    48660 non-null  int64   \n",
      " 8   previous_year_rating   48660 non-null  float64 \n",
      " 9   length_of_service      48660 non-null  int64   \n",
      " 10  KPIs_met >80%          48660 non-null  int64   \n",
      " 11  awards_won?            48660 non-null  int64   \n",
      " 12  avg_training_score     48660 non-null  int64   \n",
      " 13  is_promoted            48660 non-null  int64   \n",
      " 14  score_binned           48660 non-null  category\n",
      " 15  age_binned             35485 non-null  category\n",
      " 16  department_0           48660 non-null  uint8   \n",
      " 17  department_1           48660 non-null  uint8   \n",
      " 18  department_2           48660 non-null  uint8   \n",
      " 19  department_3           48660 non-null  uint8   \n",
      " 20  department_4           48660 non-null  uint8   \n",
      " 21  department_5           48660 non-null  uint8   \n",
      " 22  department_6           48660 non-null  uint8   \n",
      " 23  department_7           48660 non-null  uint8   \n",
      " 24  department_8           48660 non-null  uint8   \n",
      " 25  gender_0               48660 non-null  uint8   \n",
      " 26  gender_1               48660 non-null  uint8   \n",
      " 27  education_0            48660 non-null  uint8   \n",
      " 28  education_1            48660 non-null  uint8   \n",
      " 29  education_2            48660 non-null  uint8   \n",
      " 30  recruitment_channel_0  48660 non-null  uint8   \n",
      " 31  recruitment_channel_1  48660 non-null  uint8   \n",
      " 32  recruitment_channel_2  48660 non-null  uint8   \n",
      " 33  region_1               48660 non-null  uint8   \n",
      " 34  region_2               48660 non-null  uint8   \n",
      " 35  region_3               48660 non-null  uint8   \n",
      " 36  region_4               48660 non-null  uint8   \n",
      " 37  region_5               48660 non-null  uint8   \n",
      " 38  region_6               48660 non-null  uint8   \n",
      " 39  region_7               48660 non-null  uint8   \n",
      " 40  region_8               48660 non-null  uint8   \n",
      " 41  region_9               48660 non-null  uint8   \n",
      " 42  region_10              48660 non-null  uint8   \n",
      " 43  region_11              48660 non-null  uint8   \n",
      " 44  region_12              48660 non-null  uint8   \n",
      " 45  region_13              48660 non-null  uint8   \n",
      " 46  region_14              48660 non-null  uint8   \n",
      " 47  region_15              48660 non-null  uint8   \n",
      " 48  region_16              48660 non-null  uint8   \n",
      " 49  region_17              48660 non-null  uint8   \n",
      " 50  region_18              48660 non-null  uint8   \n",
      " 51  region_19              48660 non-null  uint8   \n",
      " 52  region_20              48660 non-null  uint8   \n",
      " 53  region_21              48660 non-null  uint8   \n",
      " 54  region_22              48660 non-null  uint8   \n",
      " 55  region_23              48660 non-null  uint8   \n",
      " 56  region_24              48660 non-null  uint8   \n",
      " 57  region_25              48660 non-null  uint8   \n",
      " 58  region_26              48660 non-null  uint8   \n",
      " 59  region_27              48660 non-null  uint8   \n",
      " 60  region_28              48660 non-null  uint8   \n",
      " 61  region_29              48660 non-null  uint8   \n",
      " 62  region_30              48660 non-null  uint8   \n",
      " 63  region_31              48660 non-null  uint8   \n",
      " 64  region_32              48660 non-null  uint8   \n",
      " 65  region_33              48660 non-null  uint8   \n",
      " 66  region_34              48660 non-null  uint8   \n",
      "dtypes: category(2), float64(1), int32(4), int64(9), uint8(51)\n",
      "memory usage: 8.5 MB\n"
     ]
    }
   ],
   "source": [
    "The_recorrected_data.info()"
   ]
  },
  {
   "cell_type": "code",
   "execution_count": 75,
   "metadata": {},
   "outputs": [
    {
     "data": {
      "text/plain": [
       "Index(['employee_id', 'department', 'region', 'education', 'gender',\n",
       "       'recruitment_channel', 'no_of_trainings', 'age', 'previous_year_rating',\n",
       "       'length_of_service', 'KPIs_met >80%', 'awards_won?',\n",
       "       'avg_training_score', 'is_promoted', 'score_binned', 'age_binned',\n",
       "       'department_0', 'department_1', 'department_2', 'department_3',\n",
       "       'department_4', 'department_5', 'department_6', 'department_7',\n",
       "       'department_8', 'gender_0', 'gender_1', 'education_0', 'education_1',\n",
       "       'education_2', 'recruitment_channel_0', 'recruitment_channel_1',\n",
       "       'recruitment_channel_2', 'region_1', 'region_2', 'region_3', 'region_4',\n",
       "       'region_5', 'region_6', 'region_7', 'region_8', 'region_9', 'region_10',\n",
       "       'region_11', 'region_12', 'region_13', 'region_14', 'region_15',\n",
       "       'region_16', 'region_17', 'region_18', 'region_19', 'region_20',\n",
       "       'region_21', 'region_22', 'region_23', 'region_24', 'region_25',\n",
       "       'region_26', 'region_27', 'region_28', 'region_29', 'region_30',\n",
       "       'region_31', 'region_32', 'region_33', 'region_34'],\n",
       "      dtype='object')"
      ]
     },
     "execution_count": 75,
     "metadata": {},
     "output_type": "execute_result"
    }
   ],
   "source": [
    "The_recorrected_data.columns"
   ]
  },
  {
   "cell_type": "code",
   "execution_count": 76,
   "metadata": {},
   "outputs": [],
   "source": [
    "The_recorrected_data.drop(columns=['department', 'region', 'education', 'gender',\n",
    "       'recruitment_channel','score_binned', 'age_binned'],inplace=True)"
   ]
  },
  {
   "cell_type": "code",
   "execution_count": 77,
   "metadata": {},
   "outputs": [
    {
     "name": "stdout",
     "output_type": "stream",
     "text": [
      "<class 'pandas.core.frame.DataFrame'>\n",
      "Int64Index: 48660 entries, 0 to 54807\n",
      "Data columns (total 60 columns):\n",
      " #   Column                 Non-Null Count  Dtype  \n",
      "---  ------                 --------------  -----  \n",
      " 0   employee_id            48660 non-null  int64  \n",
      " 1   no_of_trainings        48660 non-null  int64  \n",
      " 2   age                    48660 non-null  int64  \n",
      " 3   previous_year_rating   48660 non-null  float64\n",
      " 4   length_of_service      48660 non-null  int64  \n",
      " 5   KPIs_met >80%          48660 non-null  int64  \n",
      " 6   awards_won?            48660 non-null  int64  \n",
      " 7   avg_training_score     48660 non-null  int64  \n",
      " 8   is_promoted            48660 non-null  int64  \n",
      " 9   department_0           48660 non-null  uint8  \n",
      " 10  department_1           48660 non-null  uint8  \n",
      " 11  department_2           48660 non-null  uint8  \n",
      " 12  department_3           48660 non-null  uint8  \n",
      " 13  department_4           48660 non-null  uint8  \n",
      " 14  department_5           48660 non-null  uint8  \n",
      " 15  department_6           48660 non-null  uint8  \n",
      " 16  department_7           48660 non-null  uint8  \n",
      " 17  department_8           48660 non-null  uint8  \n",
      " 18  gender_0               48660 non-null  uint8  \n",
      " 19  gender_1               48660 non-null  uint8  \n",
      " 20  education_0            48660 non-null  uint8  \n",
      " 21  education_1            48660 non-null  uint8  \n",
      " 22  education_2            48660 non-null  uint8  \n",
      " 23  recruitment_channel_0  48660 non-null  uint8  \n",
      " 24  recruitment_channel_1  48660 non-null  uint8  \n",
      " 25  recruitment_channel_2  48660 non-null  uint8  \n",
      " 26  region_1               48660 non-null  uint8  \n",
      " 27  region_2               48660 non-null  uint8  \n",
      " 28  region_3               48660 non-null  uint8  \n",
      " 29  region_4               48660 non-null  uint8  \n",
      " 30  region_5               48660 non-null  uint8  \n",
      " 31  region_6               48660 non-null  uint8  \n",
      " 32  region_7               48660 non-null  uint8  \n",
      " 33  region_8               48660 non-null  uint8  \n",
      " 34  region_9               48660 non-null  uint8  \n",
      " 35  region_10              48660 non-null  uint8  \n",
      " 36  region_11              48660 non-null  uint8  \n",
      " 37  region_12              48660 non-null  uint8  \n",
      " 38  region_13              48660 non-null  uint8  \n",
      " 39  region_14              48660 non-null  uint8  \n",
      " 40  region_15              48660 non-null  uint8  \n",
      " 41  region_16              48660 non-null  uint8  \n",
      " 42  region_17              48660 non-null  uint8  \n",
      " 43  region_18              48660 non-null  uint8  \n",
      " 44  region_19              48660 non-null  uint8  \n",
      " 45  region_20              48660 non-null  uint8  \n",
      " 46  region_21              48660 non-null  uint8  \n",
      " 47  region_22              48660 non-null  uint8  \n",
      " 48  region_23              48660 non-null  uint8  \n",
      " 49  region_24              48660 non-null  uint8  \n",
      " 50  region_25              48660 non-null  uint8  \n",
      " 51  region_26              48660 non-null  uint8  \n",
      " 52  region_27              48660 non-null  uint8  \n",
      " 53  region_28              48660 non-null  uint8  \n",
      " 54  region_29              48660 non-null  uint8  \n",
      " 55  region_30              48660 non-null  uint8  \n",
      " 56  region_31              48660 non-null  uint8  \n",
      " 57  region_32              48660 non-null  uint8  \n",
      " 58  region_33              48660 non-null  uint8  \n",
      " 59  region_34              48660 non-null  uint8  \n",
      "dtypes: float64(1), int64(8), uint8(51)\n",
      "memory usage: 7.3 MB\n"
     ]
    }
   ],
   "source": [
    "The_recorrected_data.info()"
   ]
  },
  {
   "cell_type": "code",
   "execution_count": 78,
   "metadata": {},
   "outputs": [
    {
     "data": {
      "text/html": [
       "<div>\n",
       "<style scoped>\n",
       "    .dataframe tbody tr th:only-of-type {\n",
       "        vertical-align: middle;\n",
       "    }\n",
       "\n",
       "    .dataframe tbody tr th {\n",
       "        vertical-align: top;\n",
       "    }\n",
       "\n",
       "    .dataframe thead th {\n",
       "        text-align: right;\n",
       "    }\n",
       "</style>\n",
       "<table border=\"1\" class=\"dataframe\">\n",
       "  <thead>\n",
       "    <tr style=\"text-align: right;\">\n",
       "      <th></th>\n",
       "      <th>employee_id</th>\n",
       "      <th>no_of_trainings</th>\n",
       "      <th>age</th>\n",
       "      <th>previous_year_rating</th>\n",
       "      <th>length_of_service</th>\n",
       "      <th>KPIs_met &gt;80%</th>\n",
       "      <th>awards_won?</th>\n",
       "      <th>avg_training_score</th>\n",
       "      <th>is_promoted</th>\n",
       "      <th>department_0</th>\n",
       "      <th>...</th>\n",
       "      <th>region_25</th>\n",
       "      <th>region_26</th>\n",
       "      <th>region_27</th>\n",
       "      <th>region_28</th>\n",
       "      <th>region_29</th>\n",
       "      <th>region_30</th>\n",
       "      <th>region_31</th>\n",
       "      <th>region_32</th>\n",
       "      <th>region_33</th>\n",
       "      <th>region_34</th>\n",
       "    </tr>\n",
       "  </thead>\n",
       "  <tbody>\n",
       "    <tr>\n",
       "      <th>0</th>\n",
       "      <td>65438</td>\n",
       "      <td>1</td>\n",
       "      <td>35</td>\n",
       "      <td>5.0</td>\n",
       "      <td>8</td>\n",
       "      <td>1</td>\n",
       "      <td>0</td>\n",
       "      <td>49</td>\n",
       "      <td>0</td>\n",
       "      <td>0</td>\n",
       "      <td>...</td>\n",
       "      <td>0</td>\n",
       "      <td>0</td>\n",
       "      <td>0</td>\n",
       "      <td>0</td>\n",
       "      <td>0</td>\n",
       "      <td>0</td>\n",
       "      <td>0</td>\n",
       "      <td>0</td>\n",
       "      <td>0</td>\n",
       "      <td>0</td>\n",
       "    </tr>\n",
       "    <tr>\n",
       "      <th>1</th>\n",
       "      <td>65141</td>\n",
       "      <td>1</td>\n",
       "      <td>30</td>\n",
       "      <td>5.0</td>\n",
       "      <td>4</td>\n",
       "      <td>0</td>\n",
       "      <td>0</td>\n",
       "      <td>60</td>\n",
       "      <td>0</td>\n",
       "      <td>0</td>\n",
       "      <td>...</td>\n",
       "      <td>0</td>\n",
       "      <td>0</td>\n",
       "      <td>0</td>\n",
       "      <td>0</td>\n",
       "      <td>0</td>\n",
       "      <td>0</td>\n",
       "      <td>0</td>\n",
       "      <td>0</td>\n",
       "      <td>0</td>\n",
       "      <td>0</td>\n",
       "    </tr>\n",
       "    <tr>\n",
       "      <th>2</th>\n",
       "      <td>7513</td>\n",
       "      <td>1</td>\n",
       "      <td>34</td>\n",
       "      <td>3.0</td>\n",
       "      <td>7</td>\n",
       "      <td>0</td>\n",
       "      <td>0</td>\n",
       "      <td>50</td>\n",
       "      <td>0</td>\n",
       "      <td>0</td>\n",
       "      <td>...</td>\n",
       "      <td>0</td>\n",
       "      <td>0</td>\n",
       "      <td>0</td>\n",
       "      <td>0</td>\n",
       "      <td>0</td>\n",
       "      <td>0</td>\n",
       "      <td>0</td>\n",
       "      <td>0</td>\n",
       "      <td>0</td>\n",
       "      <td>0</td>\n",
       "    </tr>\n",
       "    <tr>\n",
       "      <th>3</th>\n",
       "      <td>2542</td>\n",
       "      <td>2</td>\n",
       "      <td>39</td>\n",
       "      <td>1.0</td>\n",
       "      <td>10</td>\n",
       "      <td>0</td>\n",
       "      <td>0</td>\n",
       "      <td>50</td>\n",
       "      <td>0</td>\n",
       "      <td>0</td>\n",
       "      <td>...</td>\n",
       "      <td>0</td>\n",
       "      <td>0</td>\n",
       "      <td>0</td>\n",
       "      <td>0</td>\n",
       "      <td>0</td>\n",
       "      <td>0</td>\n",
       "      <td>0</td>\n",
       "      <td>0</td>\n",
       "      <td>0</td>\n",
       "      <td>0</td>\n",
       "    </tr>\n",
       "    <tr>\n",
       "      <th>4</th>\n",
       "      <td>48945</td>\n",
       "      <td>1</td>\n",
       "      <td>45</td>\n",
       "      <td>3.0</td>\n",
       "      <td>2</td>\n",
       "      <td>0</td>\n",
       "      <td>0</td>\n",
       "      <td>73</td>\n",
       "      <td>0</td>\n",
       "      <td>0</td>\n",
       "      <td>...</td>\n",
       "      <td>0</td>\n",
       "      <td>1</td>\n",
       "      <td>0</td>\n",
       "      <td>0</td>\n",
       "      <td>0</td>\n",
       "      <td>0</td>\n",
       "      <td>0</td>\n",
       "      <td>0</td>\n",
       "      <td>0</td>\n",
       "      <td>0</td>\n",
       "    </tr>\n",
       "    <tr>\n",
       "      <th>...</th>\n",
       "      <td>...</td>\n",
       "      <td>...</td>\n",
       "      <td>...</td>\n",
       "      <td>...</td>\n",
       "      <td>...</td>\n",
       "      <td>...</td>\n",
       "      <td>...</td>\n",
       "      <td>...</td>\n",
       "      <td>...</td>\n",
       "      <td>...</td>\n",
       "      <td>...</td>\n",
       "      <td>...</td>\n",
       "      <td>...</td>\n",
       "      <td>...</td>\n",
       "      <td>...</td>\n",
       "      <td>...</td>\n",
       "      <td>...</td>\n",
       "      <td>...</td>\n",
       "      <td>...</td>\n",
       "      <td>...</td>\n",
       "      <td>...</td>\n",
       "    </tr>\n",
       "    <tr>\n",
       "      <th>54802</th>\n",
       "      <td>6915</td>\n",
       "      <td>2</td>\n",
       "      <td>31</td>\n",
       "      <td>1.0</td>\n",
       "      <td>2</td>\n",
       "      <td>0</td>\n",
       "      <td>0</td>\n",
       "      <td>49</td>\n",
       "      <td>0</td>\n",
       "      <td>0</td>\n",
       "      <td>...</td>\n",
       "      <td>0</td>\n",
       "      <td>0</td>\n",
       "      <td>0</td>\n",
       "      <td>0</td>\n",
       "      <td>0</td>\n",
       "      <td>0</td>\n",
       "      <td>0</td>\n",
       "      <td>0</td>\n",
       "      <td>0</td>\n",
       "      <td>0</td>\n",
       "    </tr>\n",
       "    <tr>\n",
       "      <th>54803</th>\n",
       "      <td>3030</td>\n",
       "      <td>1</td>\n",
       "      <td>48</td>\n",
       "      <td>3.0</td>\n",
       "      <td>17</td>\n",
       "      <td>0</td>\n",
       "      <td>0</td>\n",
       "      <td>78</td>\n",
       "      <td>0</td>\n",
       "      <td>0</td>\n",
       "      <td>...</td>\n",
       "      <td>0</td>\n",
       "      <td>0</td>\n",
       "      <td>0</td>\n",
       "      <td>0</td>\n",
       "      <td>0</td>\n",
       "      <td>0</td>\n",
       "      <td>0</td>\n",
       "      <td>0</td>\n",
       "      <td>0</td>\n",
       "      <td>0</td>\n",
       "    </tr>\n",
       "    <tr>\n",
       "      <th>54804</th>\n",
       "      <td>74592</td>\n",
       "      <td>1</td>\n",
       "      <td>37</td>\n",
       "      <td>2.0</td>\n",
       "      <td>6</td>\n",
       "      <td>0</td>\n",
       "      <td>0</td>\n",
       "      <td>56</td>\n",
       "      <td>0</td>\n",
       "      <td>0</td>\n",
       "      <td>...</td>\n",
       "      <td>0</td>\n",
       "      <td>0</td>\n",
       "      <td>1</td>\n",
       "      <td>0</td>\n",
       "      <td>0</td>\n",
       "      <td>0</td>\n",
       "      <td>0</td>\n",
       "      <td>0</td>\n",
       "      <td>0</td>\n",
       "      <td>0</td>\n",
       "    </tr>\n",
       "    <tr>\n",
       "      <th>54805</th>\n",
       "      <td>13918</td>\n",
       "      <td>1</td>\n",
       "      <td>27</td>\n",
       "      <td>5.0</td>\n",
       "      <td>3</td>\n",
       "      <td>1</td>\n",
       "      <td>0</td>\n",
       "      <td>79</td>\n",
       "      <td>0</td>\n",
       "      <td>1</td>\n",
       "      <td>...</td>\n",
       "      <td>0</td>\n",
       "      <td>0</td>\n",
       "      <td>0</td>\n",
       "      <td>0</td>\n",
       "      <td>0</td>\n",
       "      <td>0</td>\n",
       "      <td>0</td>\n",
       "      <td>0</td>\n",
       "      <td>0</td>\n",
       "      <td>0</td>\n",
       "    </tr>\n",
       "    <tr>\n",
       "      <th>54807</th>\n",
       "      <td>51526</td>\n",
       "      <td>1</td>\n",
       "      <td>27</td>\n",
       "      <td>1.0</td>\n",
       "      <td>5</td>\n",
       "      <td>0</td>\n",
       "      <td>0</td>\n",
       "      <td>49</td>\n",
       "      <td>0</td>\n",
       "      <td>0</td>\n",
       "      <td>...</td>\n",
       "      <td>0</td>\n",
       "      <td>0</td>\n",
       "      <td>0</td>\n",
       "      <td>0</td>\n",
       "      <td>0</td>\n",
       "      <td>0</td>\n",
       "      <td>0</td>\n",
       "      <td>0</td>\n",
       "      <td>0</td>\n",
       "      <td>0</td>\n",
       "    </tr>\n",
       "  </tbody>\n",
       "</table>\n",
       "<p>48660 rows × 60 columns</p>\n",
       "</div>"
      ],
      "text/plain": [
       "       employee_id  no_of_trainings  age  previous_year_rating  \\\n",
       "0            65438                1   35                   5.0   \n",
       "1            65141                1   30                   5.0   \n",
       "2             7513                1   34                   3.0   \n",
       "3             2542                2   39                   1.0   \n",
       "4            48945                1   45                   3.0   \n",
       "...            ...              ...  ...                   ...   \n",
       "54802         6915                2   31                   1.0   \n",
       "54803         3030                1   48                   3.0   \n",
       "54804        74592                1   37                   2.0   \n",
       "54805        13918                1   27                   5.0   \n",
       "54807        51526                1   27                   1.0   \n",
       "\n",
       "       length_of_service  KPIs_met >80%  awards_won?  avg_training_score  \\\n",
       "0                      8              1            0                  49   \n",
       "1                      4              0            0                  60   \n",
       "2                      7              0            0                  50   \n",
       "3                     10              0            0                  50   \n",
       "4                      2              0            0                  73   \n",
       "...                  ...            ...          ...                 ...   \n",
       "54802                  2              0            0                  49   \n",
       "54803                 17              0            0                  78   \n",
       "54804                  6              0            0                  56   \n",
       "54805                  3              1            0                  79   \n",
       "54807                  5              0            0                  49   \n",
       "\n",
       "       is_promoted  department_0  ...  region_25  region_26  region_27  \\\n",
       "0                0             0  ...          0          0          0   \n",
       "1                0             0  ...          0          0          0   \n",
       "2                0             0  ...          0          0          0   \n",
       "3                0             0  ...          0          0          0   \n",
       "4                0             0  ...          0          1          0   \n",
       "...            ...           ...  ...        ...        ...        ...   \n",
       "54802            0             0  ...          0          0          0   \n",
       "54803            0             0  ...          0          0          0   \n",
       "54804            0             0  ...          0          0          1   \n",
       "54805            0             1  ...          0          0          0   \n",
       "54807            0             0  ...          0          0          0   \n",
       "\n",
       "       region_28  region_29  region_30  region_31  region_32  region_33  \\\n",
       "0              0          0          0          0          0          0   \n",
       "1              0          0          0          0          0          0   \n",
       "2              0          0          0          0          0          0   \n",
       "3              0          0          0          0          0          0   \n",
       "4              0          0          0          0          0          0   \n",
       "...          ...        ...        ...        ...        ...        ...   \n",
       "54802          0          0          0          0          0          0   \n",
       "54803          0          0          0          0          0          0   \n",
       "54804          0          0          0          0          0          0   \n",
       "54805          0          0          0          0          0          0   \n",
       "54807          0          0          0          0          0          0   \n",
       "\n",
       "       region_34  \n",
       "0              0  \n",
       "1              0  \n",
       "2              0  \n",
       "3              0  \n",
       "4              0  \n",
       "...          ...  \n",
       "54802          0  \n",
       "54803          0  \n",
       "54804          0  \n",
       "54805          0  \n",
       "54807          0  \n",
       "\n",
       "[48660 rows x 60 columns]"
      ]
     },
     "execution_count": 78,
     "metadata": {},
     "output_type": "execute_result"
    }
   ],
   "source": [
    "The_recorrected_data"
   ]
  },
  {
   "cell_type": "code",
   "execution_count": 79,
   "metadata": {},
   "outputs": [
    {
     "data": {
      "text/plain": [
       "Index(['employee_id', 'no_of_trainings', 'age', 'previous_year_rating',\n",
       "       'length_of_service', 'KPIs_met >80%', 'awards_won?',\n",
       "       'avg_training_score', 'is_promoted', 'department_0', 'department_1',\n",
       "       'department_2', 'department_3', 'department_4', 'department_5',\n",
       "       'department_6', 'department_7', 'department_8', 'gender_0', 'gender_1',\n",
       "       'education_0', 'education_1', 'education_2', 'recruitment_channel_0',\n",
       "       'recruitment_channel_1', 'recruitment_channel_2', 'region_1',\n",
       "       'region_2', 'region_3', 'region_4', 'region_5', 'region_6', 'region_7',\n",
       "       'region_8', 'region_9', 'region_10', 'region_11', 'region_12',\n",
       "       'region_13', 'region_14', 'region_15', 'region_16', 'region_17',\n",
       "       'region_18', 'region_19', 'region_20', 'region_21', 'region_22',\n",
       "       'region_23', 'region_24', 'region_25', 'region_26', 'region_27',\n",
       "       'region_28', 'region_29', 'region_30', 'region_31', 'region_32',\n",
       "       'region_33', 'region_34'],\n",
       "      dtype='object')"
      ]
     },
     "execution_count": 79,
     "metadata": {},
     "output_type": "execute_result"
    }
   ],
   "source": [
    "The_recorrected_data.columns"
   ]
  },
  {
   "cell_type": "code",
   "execution_count": 80,
   "metadata": {},
   "outputs": [],
   "source": [
    "convert_dict = {'department_0': int,'department_1': int,'department_2': int,'department_3': int,'department_4': int,'department_5': int,'department_6': int,'department_7': int,'department_8': int,'gender_0': int,'gender_1': int,'recruitment_channel_0': int,'recruitment_channel_1': int,'recruitment_channel_2': int,'region_1': int,'region_2': int,'region_3': int,'region_4': int,'region_5': int,'region_6': int,'region_7': int,'region_8': int,'region_9': int,'region_10': int,'region_11': int,'region_12': int,'region_13': int,'region_14': int,'region_15': int,'region_16': int,'region_17': int,'region_18': int,'region_19': int,'region_20': int,'region_21': int,'region_22': int,'region_23': int,'region_24': int,'region_25': int,'region_26': int,'region_27': int,'region_28': int,'region_29': int,'region_30': int,'region_31': int,'region_32': int,'region_33': int,'region_34': int}"
   ]
  },
  {
   "cell_type": "code",
   "execution_count": 81,
   "metadata": {},
   "outputs": [],
   "source": [
    "The_recorrected_data=The_recorrected_data.astype(convert_dict)  "
   ]
  },
  {
   "cell_type": "code",
   "execution_count": 82,
   "metadata": {},
   "outputs": [
    {
     "name": "stdout",
     "output_type": "stream",
     "text": [
      "<class 'pandas.core.frame.DataFrame'>\n",
      "Int64Index: 48660 entries, 0 to 54807\n",
      "Data columns (total 60 columns):\n",
      " #   Column                 Non-Null Count  Dtype  \n",
      "---  ------                 --------------  -----  \n",
      " 0   employee_id            48660 non-null  int64  \n",
      " 1   no_of_trainings        48660 non-null  int64  \n",
      " 2   age                    48660 non-null  int64  \n",
      " 3   previous_year_rating   48660 non-null  float64\n",
      " 4   length_of_service      48660 non-null  int64  \n",
      " 5   KPIs_met >80%          48660 non-null  int64  \n",
      " 6   awards_won?            48660 non-null  int64  \n",
      " 7   avg_training_score     48660 non-null  int64  \n",
      " 8   is_promoted            48660 non-null  int64  \n",
      " 9   department_0           48660 non-null  int32  \n",
      " 10  department_1           48660 non-null  int32  \n",
      " 11  department_2           48660 non-null  int32  \n",
      " 12  department_3           48660 non-null  int32  \n",
      " 13  department_4           48660 non-null  int32  \n",
      " 14  department_5           48660 non-null  int32  \n",
      " 15  department_6           48660 non-null  int32  \n",
      " 16  department_7           48660 non-null  int32  \n",
      " 17  department_8           48660 non-null  int32  \n",
      " 18  gender_0               48660 non-null  int32  \n",
      " 19  gender_1               48660 non-null  int32  \n",
      " 20  education_0            48660 non-null  uint8  \n",
      " 21  education_1            48660 non-null  uint8  \n",
      " 22  education_2            48660 non-null  uint8  \n",
      " 23  recruitment_channel_0  48660 non-null  int32  \n",
      " 24  recruitment_channel_1  48660 non-null  int32  \n",
      " 25  recruitment_channel_2  48660 non-null  int32  \n",
      " 26  region_1               48660 non-null  int32  \n",
      " 27  region_2               48660 non-null  int32  \n",
      " 28  region_3               48660 non-null  int32  \n",
      " 29  region_4               48660 non-null  int32  \n",
      " 30  region_5               48660 non-null  int32  \n",
      " 31  region_6               48660 non-null  int32  \n",
      " 32  region_7               48660 non-null  int32  \n",
      " 33  region_8               48660 non-null  int32  \n",
      " 34  region_9               48660 non-null  int32  \n",
      " 35  region_10              48660 non-null  int32  \n",
      " 36  region_11              48660 non-null  int32  \n",
      " 37  region_12              48660 non-null  int32  \n",
      " 38  region_13              48660 non-null  int32  \n",
      " 39  region_14              48660 non-null  int32  \n",
      " 40  region_15              48660 non-null  int32  \n",
      " 41  region_16              48660 non-null  int32  \n",
      " 42  region_17              48660 non-null  int32  \n",
      " 43  region_18              48660 non-null  int32  \n",
      " 44  region_19              48660 non-null  int32  \n",
      " 45  region_20              48660 non-null  int32  \n",
      " 46  region_21              48660 non-null  int32  \n",
      " 47  region_22              48660 non-null  int32  \n",
      " 48  region_23              48660 non-null  int32  \n",
      " 49  region_24              48660 non-null  int32  \n",
      " 50  region_25              48660 non-null  int32  \n",
      " 51  region_26              48660 non-null  int32  \n",
      " 52  region_27              48660 non-null  int32  \n",
      " 53  region_28              48660 non-null  int32  \n",
      " 54  region_29              48660 non-null  int32  \n",
      " 55  region_30              48660 non-null  int32  \n",
      " 56  region_31              48660 non-null  int32  \n",
      " 57  region_32              48660 non-null  int32  \n",
      " 58  region_33              48660 non-null  int32  \n",
      " 59  region_34              48660 non-null  int32  \n",
      "dtypes: float64(1), int32(48), int64(8), uint8(3)\n",
      "memory usage: 14.0 MB\n"
     ]
    }
   ],
   "source": [
    "The_recorrected_data.info()"
   ]
  },
  {
   "cell_type": "code",
   "execution_count": 83,
   "metadata": {},
   "outputs": [
    {
     "data": {
      "text/plain": [
       "employee_id              0\n",
       "no_of_trainings          0\n",
       "age                      0\n",
       "previous_year_rating     0\n",
       "length_of_service        0\n",
       "KPIs_met >80%            0\n",
       "awards_won?              0\n",
       "avg_training_score       0\n",
       "is_promoted              0\n",
       "department_0             0\n",
       "department_1             0\n",
       "department_2             0\n",
       "department_3             0\n",
       "department_4             0\n",
       "department_5             0\n",
       "department_6             0\n",
       "department_7             0\n",
       "department_8             0\n",
       "gender_0                 0\n",
       "gender_1                 0\n",
       "education_0              0\n",
       "education_1              0\n",
       "education_2              0\n",
       "recruitment_channel_0    0\n",
       "recruitment_channel_1    0\n",
       "recruitment_channel_2    0\n",
       "region_1                 0\n",
       "region_2                 0\n",
       "region_3                 0\n",
       "region_4                 0\n",
       "region_5                 0\n",
       "region_6                 0\n",
       "region_7                 0\n",
       "region_8                 0\n",
       "region_9                 0\n",
       "region_10                0\n",
       "region_11                0\n",
       "region_12                0\n",
       "region_13                0\n",
       "region_14                0\n",
       "region_15                0\n",
       "region_16                0\n",
       "region_17                0\n",
       "region_18                0\n",
       "region_19                0\n",
       "region_20                0\n",
       "region_21                0\n",
       "region_22                0\n",
       "region_23                0\n",
       "region_24                0\n",
       "region_25                0\n",
       "region_26                0\n",
       "region_27                0\n",
       "region_28                0\n",
       "region_29                0\n",
       "region_30                0\n",
       "region_31                0\n",
       "region_32                0\n",
       "region_33                0\n",
       "region_34                0\n",
       "dtype: int64"
      ]
     },
     "execution_count": 83,
     "metadata": {},
     "output_type": "execute_result"
    }
   ],
   "source": [
    "The_recorrected_data.isnull().sum()"
   ]
  },
  {
   "cell_type": "code",
   "execution_count": 84,
   "metadata": {},
   "outputs": [
    {
     "data": {
      "text/plain": [
       "Index(['employee_id', 'no_of_trainings', 'age', 'previous_year_rating',\n",
       "       'length_of_service', 'KPIs_met >80%', 'awards_won?',\n",
       "       'avg_training_score', 'is_promoted', 'department_0', 'department_1',\n",
       "       'department_2', 'department_3', 'department_4', 'department_5',\n",
       "       'department_6', 'department_7', 'department_8', 'gender_0', 'gender_1',\n",
       "       'education_0', 'education_1', 'education_2', 'recruitment_channel_0',\n",
       "       'recruitment_channel_1', 'recruitment_channel_2', 'region_1',\n",
       "       'region_2', 'region_3', 'region_4', 'region_5', 'region_6', 'region_7',\n",
       "       'region_8', 'region_9', 'region_10', 'region_11', 'region_12',\n",
       "       'region_13', 'region_14', 'region_15', 'region_16', 'region_17',\n",
       "       'region_18', 'region_19', 'region_20', 'region_21', 'region_22',\n",
       "       'region_23', 'region_24', 'region_25', 'region_26', 'region_27',\n",
       "       'region_28', 'region_29', 'region_30', 'region_31', 'region_32',\n",
       "       'region_33', 'region_34'],\n",
       "      dtype='object')"
      ]
     },
     "execution_count": 84,
     "metadata": {},
     "output_type": "execute_result"
    }
   ],
   "source": [
    "The_recorrected_data.columns"
   ]
  },
  {
   "cell_type": "code",
   "execution_count": 85,
   "metadata": {},
   "outputs": [],
   "source": [
    "X=The_recorrected_data[['no_of_trainings', 'age', 'previous_year_rating','length_of_service', 'KPIs_met >80%', 'awards_won?',\n",
    "       'avg_training_score', 'department_0', 'department_1','department_2', 'department_3', 'department_4', 'department_5',\n",
    "       'department_6', 'department_7', 'department_8', 'gender_0', 'gender_1','education_0', 'education_1', 'education_2', 'recruitment_channel_0',\n",
    "       'recruitment_channel_1', 'recruitment_channel_2', 'region_1','region_2', 'region_3', 'region_4', 'region_5', 'region_6', 'region_7',\n",
    "       'region_8', 'region_9', 'region_10', 'region_11', 'region_12','region_13', 'region_14', 'region_15', 'region_16', 'region_17',\n",
    "       'region_18', 'region_19', 'region_20', 'region_21', 'region_22','region_23', 'region_24', 'region_25', 'region_26', 'region_27',\n",
    "       'region_28', 'region_29', 'region_30', 'region_31', 'region_32','region_33', 'region_34']]"
   ]
  },
  {
   "cell_type": "code",
   "execution_count": 86,
   "metadata": {},
   "outputs": [
    {
     "data": {
      "text/html": [
       "<div>\n",
       "<style scoped>\n",
       "    .dataframe tbody tr th:only-of-type {\n",
       "        vertical-align: middle;\n",
       "    }\n",
       "\n",
       "    .dataframe tbody tr th {\n",
       "        vertical-align: top;\n",
       "    }\n",
       "\n",
       "    .dataframe thead th {\n",
       "        text-align: right;\n",
       "    }\n",
       "</style>\n",
       "<table border=\"1\" class=\"dataframe\">\n",
       "  <thead>\n",
       "    <tr style=\"text-align: right;\">\n",
       "      <th></th>\n",
       "      <th>no_of_trainings</th>\n",
       "      <th>age</th>\n",
       "      <th>previous_year_rating</th>\n",
       "      <th>length_of_service</th>\n",
       "      <th>KPIs_met &gt;80%</th>\n",
       "      <th>awards_won?</th>\n",
       "      <th>avg_training_score</th>\n",
       "      <th>department_0</th>\n",
       "      <th>department_1</th>\n",
       "      <th>department_2</th>\n",
       "      <th>...</th>\n",
       "      <th>region_25</th>\n",
       "      <th>region_26</th>\n",
       "      <th>region_27</th>\n",
       "      <th>region_28</th>\n",
       "      <th>region_29</th>\n",
       "      <th>region_30</th>\n",
       "      <th>region_31</th>\n",
       "      <th>region_32</th>\n",
       "      <th>region_33</th>\n",
       "      <th>region_34</th>\n",
       "    </tr>\n",
       "  </thead>\n",
       "  <tbody>\n",
       "    <tr>\n",
       "      <th>0</th>\n",
       "      <td>1</td>\n",
       "      <td>35</td>\n",
       "      <td>5.0</td>\n",
       "      <td>8</td>\n",
       "      <td>1</td>\n",
       "      <td>0</td>\n",
       "      <td>49</td>\n",
       "      <td>0</td>\n",
       "      <td>0</td>\n",
       "      <td>0</td>\n",
       "      <td>...</td>\n",
       "      <td>0</td>\n",
       "      <td>0</td>\n",
       "      <td>0</td>\n",
       "      <td>0</td>\n",
       "      <td>0</td>\n",
       "      <td>0</td>\n",
       "      <td>0</td>\n",
       "      <td>0</td>\n",
       "      <td>0</td>\n",
       "      <td>0</td>\n",
       "    </tr>\n",
       "    <tr>\n",
       "      <th>1</th>\n",
       "      <td>1</td>\n",
       "      <td>30</td>\n",
       "      <td>5.0</td>\n",
       "      <td>4</td>\n",
       "      <td>0</td>\n",
       "      <td>0</td>\n",
       "      <td>60</td>\n",
       "      <td>0</td>\n",
       "      <td>0</td>\n",
       "      <td>0</td>\n",
       "      <td>...</td>\n",
       "      <td>0</td>\n",
       "      <td>0</td>\n",
       "      <td>0</td>\n",
       "      <td>0</td>\n",
       "      <td>0</td>\n",
       "      <td>0</td>\n",
       "      <td>0</td>\n",
       "      <td>0</td>\n",
       "      <td>0</td>\n",
       "      <td>0</td>\n",
       "    </tr>\n",
       "    <tr>\n",
       "      <th>2</th>\n",
       "      <td>1</td>\n",
       "      <td>34</td>\n",
       "      <td>3.0</td>\n",
       "      <td>7</td>\n",
       "      <td>0</td>\n",
       "      <td>0</td>\n",
       "      <td>50</td>\n",
       "      <td>0</td>\n",
       "      <td>0</td>\n",
       "      <td>0</td>\n",
       "      <td>...</td>\n",
       "      <td>0</td>\n",
       "      <td>0</td>\n",
       "      <td>0</td>\n",
       "      <td>0</td>\n",
       "      <td>0</td>\n",
       "      <td>0</td>\n",
       "      <td>0</td>\n",
       "      <td>0</td>\n",
       "      <td>0</td>\n",
       "      <td>0</td>\n",
       "    </tr>\n",
       "    <tr>\n",
       "      <th>3</th>\n",
       "      <td>2</td>\n",
       "      <td>39</td>\n",
       "      <td>1.0</td>\n",
       "      <td>10</td>\n",
       "      <td>0</td>\n",
       "      <td>0</td>\n",
       "      <td>50</td>\n",
       "      <td>0</td>\n",
       "      <td>0</td>\n",
       "      <td>0</td>\n",
       "      <td>...</td>\n",
       "      <td>0</td>\n",
       "      <td>0</td>\n",
       "      <td>0</td>\n",
       "      <td>0</td>\n",
       "      <td>0</td>\n",
       "      <td>0</td>\n",
       "      <td>0</td>\n",
       "      <td>0</td>\n",
       "      <td>0</td>\n",
       "      <td>0</td>\n",
       "    </tr>\n",
       "    <tr>\n",
       "      <th>4</th>\n",
       "      <td>1</td>\n",
       "      <td>45</td>\n",
       "      <td>3.0</td>\n",
       "      <td>2</td>\n",
       "      <td>0</td>\n",
       "      <td>0</td>\n",
       "      <td>73</td>\n",
       "      <td>0</td>\n",
       "      <td>0</td>\n",
       "      <td>0</td>\n",
       "      <td>...</td>\n",
       "      <td>0</td>\n",
       "      <td>1</td>\n",
       "      <td>0</td>\n",
       "      <td>0</td>\n",
       "      <td>0</td>\n",
       "      <td>0</td>\n",
       "      <td>0</td>\n",
       "      <td>0</td>\n",
       "      <td>0</td>\n",
       "      <td>0</td>\n",
       "    </tr>\n",
       "  </tbody>\n",
       "</table>\n",
       "<p>5 rows × 58 columns</p>\n",
       "</div>"
      ],
      "text/plain": [
       "   no_of_trainings  age  previous_year_rating  length_of_service  \\\n",
       "0                1   35                   5.0                  8   \n",
       "1                1   30                   5.0                  4   \n",
       "2                1   34                   3.0                  7   \n",
       "3                2   39                   1.0                 10   \n",
       "4                1   45                   3.0                  2   \n",
       "\n",
       "   KPIs_met >80%  awards_won?  avg_training_score  department_0  department_1  \\\n",
       "0              1            0                  49             0             0   \n",
       "1              0            0                  60             0             0   \n",
       "2              0            0                  50             0             0   \n",
       "3              0            0                  50             0             0   \n",
       "4              0            0                  73             0             0   \n",
       "\n",
       "   department_2  ...  region_25  region_26  region_27  region_28  region_29  \\\n",
       "0             0  ...          0          0          0          0          0   \n",
       "1             0  ...          0          0          0          0          0   \n",
       "2             0  ...          0          0          0          0          0   \n",
       "3             0  ...          0          0          0          0          0   \n",
       "4             0  ...          0          1          0          0          0   \n",
       "\n",
       "   region_30  region_31  region_32  region_33  region_34  \n",
       "0          0          0          0          0          0  \n",
       "1          0          0          0          0          0  \n",
       "2          0          0          0          0          0  \n",
       "3          0          0          0          0          0  \n",
       "4          0          0          0          0          0  \n",
       "\n",
       "[5 rows x 58 columns]"
      ]
     },
     "execution_count": 86,
     "metadata": {},
     "output_type": "execute_result"
    }
   ],
   "source": [
    "X.head()"
   ]
  },
  {
   "cell_type": "code",
   "execution_count": 87,
   "metadata": {},
   "outputs": [],
   "source": [
    "y=The_recorrected_data['is_promoted']"
   ]
  },
  {
   "cell_type": "code",
   "execution_count": 88,
   "metadata": {},
   "outputs": [
    {
     "data": {
      "text/plain": [
       "0    0\n",
       "1    0\n",
       "2    0\n",
       "3    0\n",
       "4    0\n",
       "Name: is_promoted, dtype: int64"
      ]
     },
     "execution_count": 88,
     "metadata": {},
     "output_type": "execute_result"
    }
   ],
   "source": [
    "y.head()"
   ]
  },
  {
   "cell_type": "code",
   "execution_count": 89,
   "metadata": {},
   "outputs": [
    {
     "data": {
      "text/plain": [
       "[0, 1]"
      ]
     },
     "execution_count": 89,
     "metadata": {},
     "output_type": "execute_result"
    }
   ],
   "source": [
    "sorted(y.unique())"
   ]
  },
  {
   "cell_type": "code",
   "execution_count": 90,
   "metadata": {},
   "outputs": [],
   "source": [
    "from sklearn.model_selection import train_test_split"
   ]
  },
  {
   "cell_type": "code",
   "execution_count": 91,
   "metadata": {},
   "outputs": [],
   "source": [
    "X_train,X_test,y_train,y_test=train_test_split(X,y,test_size=0.2055)"
   ]
  },
  {
   "cell_type": "code",
   "execution_count": 92,
   "metadata": {},
   "outputs": [
    {
     "data": {
      "text/plain": [
       "(38660, 58)"
      ]
     },
     "execution_count": 92,
     "metadata": {},
     "output_type": "execute_result"
    }
   ],
   "source": [
    "X_train.shape"
   ]
  },
  {
   "cell_type": "code",
   "execution_count": 93,
   "metadata": {},
   "outputs": [
    {
     "data": {
      "text/plain": [
       "(10000, 58)"
      ]
     },
     "execution_count": 93,
     "metadata": {},
     "output_type": "execute_result"
    }
   ],
   "source": [
    "X_test.shape"
   ]
  },
  {
   "cell_type": "code",
   "execution_count": 94,
   "metadata": {},
   "outputs": [
    {
     "data": {
      "text/plain": [
       "(38660,)"
      ]
     },
     "execution_count": 94,
     "metadata": {},
     "output_type": "execute_result"
    }
   ],
   "source": [
    "y_train.shape"
   ]
  },
  {
   "cell_type": "code",
   "execution_count": 95,
   "metadata": {},
   "outputs": [
    {
     "data": {
      "text/plain": [
       "(10000,)"
      ]
     },
     "execution_count": 95,
     "metadata": {},
     "output_type": "execute_result"
    }
   ],
   "source": [
    "y_test.shape"
   ]
  },
  {
   "cell_type": "code",
   "execution_count": 96,
   "metadata": {},
   "outputs": [
    {
     "name": "stdout",
     "output_type": "stream",
     "text": [
      "93.01\n"
     ]
    }
   ],
   "source": [
    "from sklearn.linear_model import LogisticRegression\n",
    "LR=LogisticRegression(random_state=0,max_iter=3000)\n",
    "LR.fit(X_train, y_train)\n",
    "p1=LR.score(X_test,y_test)*100\n",
    "print(p1)"
   ]
  },
  {
   "cell_type": "code",
   "execution_count": 97,
   "metadata": {},
   "outputs": [
    {
     "name": "stdout",
     "output_type": "stream",
     "text": [
      "92.25\n"
     ]
    }
   ],
   "source": [
    "from sklearn.ensemble import AdaBoostClassifier\n",
    "ADA=AdaBoostClassifier()\n",
    "ADA.fit(X_train, y_train)\n",
    "p2=ADA.score(X_test,y_test)*100\n",
    "print(p2)"
   ]
  },
  {
   "cell_type": "code",
   "execution_count": 98,
   "metadata": {},
   "outputs": [
    {
     "name": "stdout",
     "output_type": "stream",
     "text": [
      "93.05\n"
     ]
    }
   ],
   "source": [
    "from sklearn.ensemble import RandomForestClassifier\n",
    "RF=RandomForestClassifier(max_features='auto', n_estimators=200)\n",
    "RF.fit(X_train, y_train)\n",
    "p3=RF.score(X_test,y_test)*100\n",
    "print(p3)"
   ]
  },
  {
   "cell_type": "code",
   "execution_count": 99,
   "metadata": {},
   "outputs": [
    {
     "name": "stdout",
     "output_type": "stream",
     "text": [
      "90.2\n"
     ]
    }
   ],
   "source": [
    "from sklearn.tree import DecisionTreeClassifier\n",
    "DC=DecisionTreeClassifier()\n",
    "DC.fit(X_train, y_train)\n",
    "p4=DC.score(X_test,y_test)*100\n",
    "print(p4)"
   ]
  },
  {
   "cell_type": "code",
   "execution_count": 100,
   "metadata": {},
   "outputs": [
    {
     "name": "stdout",
     "output_type": "stream",
     "text": [
      "55.410000000000004\n"
     ]
    }
   ],
   "source": [
    "from sklearn.naive_bayes import GaussianNB\n",
    "GB=GaussianNB()\n",
    "GB.fit(X_train,y_train)\n",
    "p5=GB.score(X_test,y_test)*100\n",
    "print(p5)"
   ]
  },
  {
   "cell_type": "code",
   "execution_count": 101,
   "metadata": {},
   "outputs": [
    {
     "data": {
      "image/png": "[encoded data removed]",
      "text/plain": [
       "<Figure size 1080x432 with 1 Axes>"
      ]
     },
     "metadata": {
      "needs_background": "light"
     },
     "output_type": "display_data"
    }
   ],
   "source": [
    "a=[\"LogisticRegression\",\"AdaBoostClassifier\",\"RandomForestClassifier\",\"DecisionTreeClassifier\",\"GaussianNB\"]\n",
    "b=[p1,p2,p3,p4,p5]\n",
    "plt.figure(figsize=(15,6))\n",
    "plt.bar(a,b)\n",
    "plt.title(\"Accuracy Graph\")\n",
    "plt.xlabel(\"Algorithm\")\n",
    "plt.ylabel(\"percentage\")\n",
    "plt.show()"
   ]
  },
  {
   "cell_type": "code",
   "execution_count": 102,
   "metadata": {},
   "outputs": [
    {
     "data": {
      "text/plain": [
       "array([0], dtype=int64)"
      ]
     },
     "execution_count": 102,
     "metadata": {},
     "output_type": "execute_result"
    }
   ],
   "source": [
    "RF.predict([list(X.loc[10000])])"
   ]
  },
  {
   "cell_type": "code",
   "execution_count": 103,
   "metadata": {},
   "outputs": [],
   "source": [
    "non_promoted_data=The_recorrected_data[The_recorrected_data['is_promoted']==0]"
   ]
  },
  {
   "cell_type": "code",
   "execution_count": 104,
   "metadata": {},
   "outputs": [
    {
     "data": {
      "text/plain": [
       "Index(['employee_id', 'no_of_trainings', 'age', 'previous_year_rating',\n",
       "       'length_of_service', 'KPIs_met >80%', 'awards_won?',\n",
       "       'avg_training_score', 'is_promoted', 'department_0', 'department_1',\n",
       "       'department_2', 'department_3', 'department_4', 'department_5',\n",
       "       'department_6', 'department_7', 'department_8', 'gender_0', 'gender_1',\n",
       "       'education_0', 'education_1', 'education_2', 'recruitment_channel_0',\n",
       "       'recruitment_channel_1', 'recruitment_channel_2', 'region_1',\n",
       "       'region_2', 'region_3', 'region_4', 'region_5', 'region_6', 'region_7',\n",
       "       'region_8', 'region_9', 'region_10', 'region_11', 'region_12',\n",
       "       'region_13', 'region_14', 'region_15', 'region_16', 'region_17',\n",
       "       'region_18', 'region_19', 'region_20', 'region_21', 'region_22',\n",
       "       'region_23', 'region_24', 'region_25', 'region_26', 'region_27',\n",
       "       'region_28', 'region_29', 'region_30', 'region_31', 'region_32',\n",
       "       'region_33', 'region_34'],\n",
       "      dtype='object')"
      ]
     },
     "execution_count": 104,
     "metadata": {},
     "output_type": "execute_result"
    }
   ],
   "source": [
    "non_promoted_data.columns"
   ]
  },
  {
   "cell_type": "code",
   "execution_count": 105,
   "metadata": {},
   "outputs": [
    {
     "data": {
      "text/plain": [
       "(44428, 60)"
      ]
     },
     "execution_count": 105,
     "metadata": {},
     "output_type": "execute_result"
    }
   ],
   "source": [
    "non_promoted_data.shape"
   ]
  },
  {
   "cell_type": "code",
   "execution_count": 106,
   "metadata": {},
   "outputs": [],
   "source": [
    "X_input_cluster=non_promoted_data[['no_of_trainings', 'age', 'previous_year_rating','length_of_service', 'KPIs_met >80%', 'awards_won?','avg_training_score', 'department_0', 'department_1','department_2', 'department_3', 'department_4', 'department_5','department_6', 'department_7', 'department_8', 'gender_0', 'gender_1','education_0', 'education_1', 'education_2', 'recruitment_channel_0','recruitment_channel_1', 'recruitment_channel_2', 'region_1','region_2', 'region_3', 'region_4', 'region_5', 'region_6', 'region_7','region_8', 'region_9', 'region_10', 'region_11', 'region_12','region_13', 'region_14', 'region_15', 'region_16', 'region_17','region_18', 'region_19', 'region_20', 'region_21', 'region_22','region_23', 'region_24', 'region_25', 'region_26', 'region_27','region_28', 'region_29', 'region_30', 'region_31', 'region_32','region_33', 'region_34']]"
   ]
  },
  {
   "cell_type": "code",
   "execution_count": 107,
   "metadata": {},
   "outputs": [
    {
     "name": "stdout",
     "output_type": "stream",
     "text": [
      "<class 'pandas.core.frame.DataFrame'>\n",
      "Int64Index: 44428 entries, 0 to 54807\n",
      "Data columns (total 58 columns):\n",
      " #   Column                 Non-Null Count  Dtype  \n",
      "---  ------                 --------------  -----  \n",
      " 0   no_of_trainings        44428 non-null  int64  \n",
      " 1   age                    44428 non-null  int64  \n",
      " 2   previous_year_rating   44428 non-null  float64\n",
      " 3   length_of_service      44428 non-null  int64  \n",
      " 4   KPIs_met >80%          44428 non-null  int64  \n",
      " 5   awards_won?            44428 non-null  int64  \n",
      " 6   avg_training_score     44428 non-null  int64  \n",
      " 7   department_0           44428 non-null  int32  \n",
      " 8   department_1           44428 non-null  int32  \n",
      " 9   department_2           44428 non-null  int32  \n",
      " 10  department_3           44428 non-null  int32  \n",
      " 11  department_4           44428 non-null  int32  \n",
      " 12  department_5           44428 non-null  int32  \n",
      " 13  department_6           44428 non-null  int32  \n",
      " 14  department_7           44428 non-null  int32  \n",
      " 15  department_8           44428 non-null  int32  \n",
      " 16  gender_0               44428 non-null  int32  \n",
      " 17  gender_1               44428 non-null  int32  \n",
      " 18  education_0            44428 non-null  uint8  \n",
      " 19  education_1            44428 non-null  uint8  \n",
      " 20  education_2            44428 non-null  uint8  \n",
      " 21  recruitment_channel_0  44428 non-null  int32  \n",
      " 22  recruitment_channel_1  44428 non-null  int32  \n",
      " 23  recruitment_channel_2  44428 non-null  int32  \n",
      " 24  region_1               44428 non-null  int32  \n",
      " 25  region_2               44428 non-null  int32  \n",
      " 26  region_3               44428 non-null  int32  \n",
      " 27  region_4               44428 non-null  int32  \n",
      " 28  region_5               44428 non-null  int32  \n",
      " 29  region_6               44428 non-null  int32  \n",
      " 30  region_7               44428 non-null  int32  \n",
      " 31  region_8               44428 non-null  int32  \n",
      " 32  region_9               44428 non-null  int32  \n",
      " 33  region_10              44428 non-null  int32  \n",
      " 34  region_11              44428 non-null  int32  \n",
      " 35  region_12              44428 non-null  int32  \n",
      " 36  region_13              44428 non-null  int32  \n",
      " 37  region_14              44428 non-null  int32  \n",
      " 38  region_15              44428 non-null  int32  \n",
      " 39  region_16              44428 non-null  int32  \n",
      " 40  region_17              44428 non-null  int32  \n",
      " 41  region_18              44428 non-null  int32  \n",
      " 42  region_19              44428 non-null  int32  \n",
      " 43  region_20              44428 non-null  int32  \n",
      " 44  region_21              44428 non-null  int32  \n",
      " 45  region_22              44428 non-null  int32  \n",
      " 46  region_23              44428 non-null  int32  \n",
      " 47  region_24              44428 non-null  int32  \n",
      " 48  region_25              44428 non-null  int32  \n",
      " 49  region_26              44428 non-null  int32  \n",
      " 50  region_27              44428 non-null  int32  \n",
      " 51  region_28              44428 non-null  int32  \n",
      " 52  region_29              44428 non-null  int32  \n",
      " 53  region_30              44428 non-null  int32  \n",
      " 54  region_31              44428 non-null  int32  \n",
      " 55  region_32              44428 non-null  int32  \n",
      " 56  region_33              44428 non-null  int32  \n",
      " 57  region_34              44428 non-null  int32  \n",
      "dtypes: float64(1), int32(48), int64(6), uint8(3)\n",
      "memory usage: 11.0 MB\n"
     ]
    }
   ],
   "source": [
    "X_input_cluster.info()"
   ]
  },
  {
   "cell_type": "code",
   "execution_count": 108,
   "metadata": {},
   "outputs": [
    {
     "data": {
      "text/html": [
       "<div>\n",
       "<style scoped>\n",
       "    .dataframe tbody tr th:only-of-type {\n",
       "        vertical-align: middle;\n",
       "    }\n",
       "\n",
       "    .dataframe tbody tr th {\n",
       "        vertical-align: top;\n",
       "    }\n",
       "\n",
       "    .dataframe thead th {\n",
       "        text-align: right;\n",
       "    }\n",
       "</style>\n",
       "<table border=\"1\" class=\"dataframe\">\n",
       "  <thead>\n",
       "    <tr style=\"text-align: right;\">\n",
       "      <th></th>\n",
       "      <th>no_of_trainings</th>\n",
       "      <th>age</th>\n",
       "      <th>previous_year_rating</th>\n",
       "      <th>length_of_service</th>\n",
       "      <th>KPIs_met &gt;80%</th>\n",
       "      <th>awards_won?</th>\n",
       "      <th>avg_training_score</th>\n",
       "      <th>department_0</th>\n",
       "      <th>department_1</th>\n",
       "      <th>department_2</th>\n",
       "      <th>...</th>\n",
       "      <th>region_25</th>\n",
       "      <th>region_26</th>\n",
       "      <th>region_27</th>\n",
       "      <th>region_28</th>\n",
       "      <th>region_29</th>\n",
       "      <th>region_30</th>\n",
       "      <th>region_31</th>\n",
       "      <th>region_32</th>\n",
       "      <th>region_33</th>\n",
       "      <th>region_34</th>\n",
       "    </tr>\n",
       "  </thead>\n",
       "  <tbody>\n",
       "    <tr>\n",
       "      <th>0</th>\n",
       "      <td>1</td>\n",
       "      <td>35</td>\n",
       "      <td>5.0</td>\n",
       "      <td>8</td>\n",
       "      <td>1</td>\n",
       "      <td>0</td>\n",
       "      <td>49</td>\n",
       "      <td>0</td>\n",
       "      <td>0</td>\n",
       "      <td>0</td>\n",
       "      <td>...</td>\n",
       "      <td>0</td>\n",
       "      <td>0</td>\n",
       "      <td>0</td>\n",
       "      <td>0</td>\n",
       "      <td>0</td>\n",
       "      <td>0</td>\n",
       "      <td>0</td>\n",
       "      <td>0</td>\n",
       "      <td>0</td>\n",
       "      <td>0</td>\n",
       "    </tr>\n",
       "    <tr>\n",
       "      <th>1</th>\n",
       "      <td>1</td>\n",
       "      <td>30</td>\n",
       "      <td>5.0</td>\n",
       "      <td>4</td>\n",
       "      <td>0</td>\n",
       "      <td>0</td>\n",
       "      <td>60</td>\n",
       "      <td>0</td>\n",
       "      <td>0</td>\n",
       "      <td>0</td>\n",
       "      <td>...</td>\n",
       "      <td>0</td>\n",
       "      <td>0</td>\n",
       "      <td>0</td>\n",
       "      <td>0</td>\n",
       "      <td>0</td>\n",
       "      <td>0</td>\n",
       "      <td>0</td>\n",
       "      <td>0</td>\n",
       "      <td>0</td>\n",
       "      <td>0</td>\n",
       "    </tr>\n",
       "    <tr>\n",
       "      <th>2</th>\n",
       "      <td>1</td>\n",
       "      <td>34</td>\n",
       "      <td>3.0</td>\n",
       "      <td>7</td>\n",
       "      <td>0</td>\n",
       "      <td>0</td>\n",
       "      <td>50</td>\n",
       "      <td>0</td>\n",
       "      <td>0</td>\n",
       "      <td>0</td>\n",
       "      <td>...</td>\n",
       "      <td>0</td>\n",
       "      <td>0</td>\n",
       "      <td>0</td>\n",
       "      <td>0</td>\n",
       "      <td>0</td>\n",
       "      <td>0</td>\n",
       "      <td>0</td>\n",
       "      <td>0</td>\n",
       "      <td>0</td>\n",
       "      <td>0</td>\n",
       "    </tr>\n",
       "    <tr>\n",
       "      <th>3</th>\n",
       "      <td>2</td>\n",
       "      <td>39</td>\n",
       "      <td>1.0</td>\n",
       "      <td>10</td>\n",
       "      <td>0</td>\n",
       "      <td>0</td>\n",
       "      <td>50</td>\n",
       "      <td>0</td>\n",
       "      <td>0</td>\n",
       "      <td>0</td>\n",
       "      <td>...</td>\n",
       "      <td>0</td>\n",
       "      <td>0</td>\n",
       "      <td>0</td>\n",
       "      <td>0</td>\n",
       "      <td>0</td>\n",
       "      <td>0</td>\n",
       "      <td>0</td>\n",
       "      <td>0</td>\n",
       "      <td>0</td>\n",
       "      <td>0</td>\n",
       "    </tr>\n",
       "    <tr>\n",
       "      <th>4</th>\n",
       "      <td>1</td>\n",
       "      <td>45</td>\n",
       "      <td>3.0</td>\n",
       "      <td>2</td>\n",
       "      <td>0</td>\n",
       "      <td>0</td>\n",
       "      <td>73</td>\n",
       "      <td>0</td>\n",
       "      <td>0</td>\n",
       "      <td>0</td>\n",
       "      <td>...</td>\n",
       "      <td>0</td>\n",
       "      <td>1</td>\n",
       "      <td>0</td>\n",
       "      <td>0</td>\n",
       "      <td>0</td>\n",
       "      <td>0</td>\n",
       "      <td>0</td>\n",
       "      <td>0</td>\n",
       "      <td>0</td>\n",
       "      <td>0</td>\n",
       "    </tr>\n",
       "  </tbody>\n",
       "</table>\n",
       "<p>5 rows × 58 columns</p>\n",
       "</div>"
      ],
      "text/plain": [
       "   no_of_trainings  age  previous_year_rating  length_of_service  \\\n",
       "0                1   35                   5.0                  8   \n",
       "1                1   30                   5.0                  4   \n",
       "2                1   34                   3.0                  7   \n",
       "3                2   39                   1.0                 10   \n",
       "4                1   45                   3.0                  2   \n",
       "\n",
       "   KPIs_met >80%  awards_won?  avg_training_score  department_0  department_1  \\\n",
       "0              1            0                  49             0             0   \n",
       "1              0            0                  60             0             0   \n",
       "2              0            0                  50             0             0   \n",
       "3              0            0                  50             0             0   \n",
       "4              0            0                  73             0             0   \n",
       "\n",
       "   department_2  ...  region_25  region_26  region_27  region_28  region_29  \\\n",
       "0             0  ...          0          0          0          0          0   \n",
       "1             0  ...          0          0          0          0          0   \n",
       "2             0  ...          0          0          0          0          0   \n",
       "3             0  ...          0          0          0          0          0   \n",
       "4             0  ...          0          1          0          0          0   \n",
       "\n",
       "   region_30  region_31  region_32  region_33  region_34  \n",
       "0          0          0          0          0          0  \n",
       "1          0          0          0          0          0  \n",
       "2          0          0          0          0          0  \n",
       "3          0          0          0          0          0  \n",
       "4          0          0          0          0          0  \n",
       "\n",
       "[5 rows x 58 columns]"
      ]
     },
     "execution_count": 108,
     "metadata": {},
     "output_type": "execute_result"
    }
   ],
   "source": [
    "X_input_cluster.head()"
   ]
  },
  {
   "cell_type": "code",
   "execution_count": 109,
   "metadata": {},
   "outputs": [
    {
     "data": {
      "text/plain": [
       "no_of_trainings          False\n",
       "age                      False\n",
       "previous_year_rating     False\n",
       "length_of_service        False\n",
       "KPIs_met >80%            False\n",
       "awards_won?              False\n",
       "avg_training_score       False\n",
       "department_0             False\n",
       "department_1             False\n",
       "department_2             False\n",
       "department_3             False\n",
       "department_4             False\n",
       "department_5             False\n",
       "department_6             False\n",
       "department_7             False\n",
       "department_8             False\n",
       "gender_0                 False\n",
       "gender_1                 False\n",
       "education_0              False\n",
       "education_1              False\n",
       "education_2              False\n",
       "recruitment_channel_0    False\n",
       "recruitment_channel_1    False\n",
       "recruitment_channel_2    False\n",
       "region_1                 False\n",
       "region_2                 False\n",
       "region_3                 False\n",
       "region_4                 False\n",
       "region_5                 False\n",
       "region_6                 False\n",
       "region_7                 False\n",
       "region_8                 False\n",
       "region_9                 False\n",
       "region_10                False\n",
       "region_11                False\n",
       "region_12                False\n",
       "region_13                False\n",
       "region_14                False\n",
       "region_15                False\n",
       "region_16                False\n",
       "region_17                False\n",
       "region_18                False\n",
       "region_19                False\n",
       "region_20                False\n",
       "region_21                False\n",
       "region_22                False\n",
       "region_23                False\n",
       "region_24                False\n",
       "region_25                False\n",
       "region_26                False\n",
       "region_27                False\n",
       "region_28                False\n",
       "region_29                False\n",
       "region_30                False\n",
       "region_31                False\n",
       "region_32                False\n",
       "region_33                False\n",
       "region_34                False\n",
       "dtype: bool"
      ]
     },
     "execution_count": 109,
     "metadata": {},
     "output_type": "execute_result"
    }
   ],
   "source": [
    "X_input_cluster.isnull().any()"
   ]
  },
  {
   "cell_type": "code",
   "execution_count": 110,
   "metadata": {},
   "outputs": [
    {
     "data": {
      "text/plain": [
       "0"
      ]
     },
     "execution_count": 110,
     "metadata": {},
     "output_type": "execute_result"
    }
   ],
   "source": [
    "X_input_cluster.isnull().sum().sum()"
   ]
  },
  {
   "cell_type": "code",
   "execution_count": 111,
   "metadata": {},
   "outputs": [],
   "source": [
    "#clustring\n",
    "from sklearn.cluster import KMeans\n",
    "#create cluster\n",
    "kmeans = KMeans(n_clusters=10)\n",
    "s=kmeans.fit(X_input_cluster)\n",
    "y_pred = s.predict(X_input_cluster)"
   ]
  },
  {
   "cell_type": "code",
   "execution_count": 112,
   "metadata": {},
   "outputs": [
    {
     "data": {
      "text/plain": [
       "array([1, 4, 1, ..., 6, 8, 7])"
      ]
     },
     "execution_count": 112,
     "metadata": {},
     "output_type": "execute_result"
    }
   ],
   "source": [
    "y_pred"
   ]
  },
  {
   "cell_type": "code",
   "execution_count": 113,
   "metadata": {},
   "outputs": [],
   "source": [
    "clustered_data=X_input_cluster.copy()"
   ]
  },
  {
   "cell_type": "code",
   "execution_count": 114,
   "metadata": {},
   "outputs": [],
   "source": [
    "clustered_data['Level']=y_pred"
   ]
  },
  {
   "cell_type": "code",
   "execution_count": 115,
   "metadata": {},
   "outputs": [
    {
     "data": {
      "text/plain": [
       "0    4738\n",
       "1    5870\n",
       "2    1978\n",
       "3    3704\n",
       "4    6290\n",
       "5    1709\n",
       "6    5008\n",
       "7    7176\n",
       "8    5918\n",
       "9    2037\n",
       "Name: Level, dtype: int64"
      ]
     },
     "execution_count": 115,
     "metadata": {},
     "output_type": "execute_result"
    }
   ],
   "source": [
    "pd.value_counts(clustered_data['Level']).sort_index()"
   ]
  },
  {
   "cell_type": "code",
   "execution_count": 116,
   "metadata": {},
   "outputs": [
    {
     "data": {
      "image/png": "[encoded data removed]",
      "text/plain": [
       "<Figure size 1152x432 with 1 Axes>"
      ]
     },
     "metadata": {
      "needs_background": "light"
     },
     "output_type": "display_data"
    }
   ],
   "source": [
    "plt.figure(figsize=(16,6))\n",
    "pd.value_counts(clustered_data['Level']).sort_index().plot.bar()\n",
    "plt.title(\"employee data\")\n",
    "plt.xlabel(\"\\n\\nLevel\")\n",
    "plt.ylabel(\"no of rows\")\n",
    "\n",
    "plt.xticks(rotation=0)\n",
    "plt.show()"
   ]
  },
  {
   "cell_type": "code",
   "execution_count": 117,
   "metadata": {},
   "outputs": [
    {
     "data": {
      "text/plain": [
       "count    44428.000000\n",
       "mean         0.323962\n",
       "std          0.467991\n",
       "min          0.000000\n",
       "25%          0.000000\n",
       "50%          0.000000\n",
       "75%          1.000000\n",
       "max          1.000000\n",
       "Name: KPIs_met >80%, dtype: float64"
      ]
     },
     "execution_count": 117,
     "metadata": {},
     "output_type": "execute_result"
    }
   ],
   "source": [
    "clustered_data['KPIs_met >80%'].describe()"
   ]
  },
  {
   "cell_type": "code",
   "execution_count": null,
   "metadata": {},
   "outputs": [],
   "source": []
  },
  {
   "cell_type": "code",
   "execution_count": 118,
   "metadata": {},
   "outputs": [
    {
     "data": {
      "text/plain": [
       "Index(['no_of_trainings', 'age', 'previous_year_rating', 'length_of_service',\n",
       "       'KPIs_met >80%', 'awards_won?', 'avg_training_score', 'department_0',\n",
       "       'department_1', 'department_2', 'department_3', 'department_4',\n",
       "       'department_5', 'department_6', 'department_7', 'department_8',\n",
       "       'gender_0', 'gender_1', 'education_0', 'education_1', 'education_2',\n",
       "       'recruitment_channel_0', 'recruitment_channel_1',\n",
       "       'recruitment_channel_2', 'region_1', 'region_2', 'region_3', 'region_4',\n",
       "       'region_5', 'region_6', 'region_7', 'region_8', 'region_9', 'region_10',\n",
       "       'region_11', 'region_12', 'region_13', 'region_14', 'region_15',\n",
       "       'region_16', 'region_17', 'region_18', 'region_19', 'region_20',\n",
       "       'region_21', 'region_22', 'region_23', 'region_24', 'region_25',\n",
       "       'region_26', 'region_27', 'region_28', 'region_29', 'region_30',\n",
       "       'region_31', 'region_32', 'region_33', 'region_34', 'Level'],\n",
       "      dtype='object')"
      ]
     },
     "execution_count": 118,
     "metadata": {},
     "output_type": "execute_result"
    }
   ],
   "source": [
    "clustered_data.columns"
   ]
  },
  {
   "cell_type": "code",
   "execution_count": 119,
   "metadata": {},
   "outputs": [
    {
     "name": "stdout",
     "output_type": "stream",
     "text": [
      "[1, 1, 1, 1, 1, 1, 1, 1, 1, 1]\n"
     ]
    },
    {
     "data": {
      "image/png": "[encoded data removed]",
      "text/plain": [
       "<Figure size 1008x360 with 1 Axes>"
      ]
     },
     "metadata": {
      "needs_background": "light"
     },
     "output_type": "display_data"
    },
    {
     "name": "stdout",
     "output_type": "stream",
     "text": [
      "[0.33832841 0.21942078 0.20626896 0.26592873 0.22019078 0.15506144\n",
      " 0.17352236 0.3115942  0.34690774 0.1526755 ]\n"
     ]
    },
    {
     "data": {
      "image/png": "[encoded data removed]",
      "text/plain": [
       "<Figure size 1008x360 with 1 Axes>"
      ]
     },
     "metadata": {
      "needs_background": "light"
     },
     "output_type": "display_data"
    },
    {
     "name": "stdout",
     "output_type": "stream",
     "text": [
      "[10, 10, 10, 6, 6, 5, 6, 7, 7, 6]\n"
     ]
    },
    {
     "data": {
      "image/png": "[encoded data removed]",
      "text/plain": [
       "<Figure size 1008x360 with 1 Axes>"
      ]
     },
     "metadata": {
      "needs_background": "light"
     },
     "output_type": "display_data"
    }
   ],
   "source": [
    "key_name='no_of_trainings'\n",
    "y_axis=[clustered_data[key_name][clustered_data['Level']==x].min()  for x in range(10) ]\n",
    "#y_axis=[clustered_data[key_name][clustered_data['Level']==0].min(),clustered_data[key_name][clustered_data['Level']==0].max()]\n",
    "print(y_axis)\n",
    "#x_axis=['minimum','maximum']\n",
    "x_axis=np.arange(10)\n",
    "plt.bar(x_axis,y_axis)\n",
    "plt.title(key_name+\"Minimum  Data\")\n",
    "plt.xlabel(\"\\n\\n \"+key_name)\n",
    "plt.ylabel(\"no of rows\")\n",
    "\n",
    "plt.xticks(rotation=0)\n",
    "plt.show()\n",
    "\n",
    "y_axis=np.array([clustered_data[key_name][clustered_data['Level']==x].mean()  for x in range(10) ])-clustered_data[key_name].min()\n",
    "#y_axis=[clustered_data[key_name][clustered_data['Level']==0].min(),clustered_data[key_name][clustered_data['Level']==0].max()]\n",
    "print(y_axis)\n",
    "#x_axis=['minimum','maximum']\n",
    "x_axis=np.arange(10)\n",
    "plt.bar(x_axis,y_axis)\n",
    "plt.title(key_name+\" Average  Data\")\n",
    "plt.xlabel(\"\\n\\n \"+key_name)\n",
    "plt.ylabel(\"no of rows\")\n",
    "\n",
    "plt.xticks(rotation=0)\n",
    "plt.show()\n",
    "\n",
    "\n",
    "\n",
    "y_axis=[clustered_data[key_name][clustered_data['Level']==x].max()  for x in range(10) ]\n",
    "#y_axis=[clustered_data[key_name][clustered_data['Level']==0].min(),clustered_data[key_name][clustered_data['Level']==0].max()]\n",
    "print(y_axis)\n",
    "#x_axis=['minimum','maximum']\n",
    "x_axis=np.arange(10)\n",
    "plt.bar(x_axis,y_axis)\n",
    "plt.title(key_name+\" Maximum Data\")\n",
    "plt.xlabel(\"\\n\\n \"+key_name)\n",
    "plt.ylabel(\"no of rows\")\n",
    "\n",
    "plt.xticks(rotation=0)\n",
    "plt.show()\n",
    "\n"
   ]
  },
  {
   "cell_type": "code",
   "execution_count": 120,
   "metadata": {},
   "outputs": [
    {
     "name": "stdout",
     "output_type": "stream",
     "text": [
      "[32.888771633600676, 38.04241908006814, 50.72750252780587, 38.35583153347732, 30.09570747217806, 50.589818607372735, 38.844249201277954, 29.787207357859533, 29.695167286245354, 50.150711831124205]\n"
     ]
    },
    {
     "data": {
      "image/png": "[encoded data removed]",
      "text/plain": [
       "<Figure size 1008x360 with 1 Axes>"
      ]
     },
     "metadata": {
      "needs_background": "light"
     },
     "output_type": "display_data"
    },
    {
     "name": "stdout",
     "output_type": "stream",
     "text": [
      "[44, 48, 60, 53, 36, 60, 49, 35, 35, 60]\n"
     ]
    },
    {
     "data": {
      "image/png": "[encoded data removed]",
      "text/plain": [
       "<Figure size 1008x360 with 1 Axes>"
      ]
     },
     "metadata": {
      "needs_background": "light"
     },
     "output_type": "display_data"
    }
   ],
   "source": [
    "key_name='age'\n",
    "y_axis=[clustered_data[key_name][clustered_data['Level']==x].mean()  for x in range(10) ]\n",
    "#y_axis=[clustered_data[key_name][clustered_data['Level']==0].min(),clustered_data[key_name][clustered_data['Level']==0].max()]\n",
    "print(y_axis)\n",
    "#x_axis=['minimum','maximum']\n",
    "x_axis=np.arange(10)\n",
    "plt.bar(x_axis,y_axis)\n",
    "plt.title(key_name+\"Maximum  Data\")\n",
    "plt.xlabel(\"\\n\\n \"+key_name)\n",
    "plt.ylabel(\"no of rows\")\n",
    "\n",
    "plt.xticks(rotation=0)\n",
    "plt.show()\n",
    "\n",
    "\n",
    "y_axis=[clustered_data[key_name][clustered_data['Level']==x].max()  for x in range(10) ]\n",
    "#y_axis=[clustered_data[key_name][clustered_data['Level']==0].min(),clustered_data[key_name][clustered_data['Level']==0].max()]\n",
    "print(y_axis)\n",
    "#x_axis=['minimum','maximum']\n",
    "x_axis=np.arange(10)\n",
    "plt.bar(x_axis,y_axis)\n",
    "plt.title(key_name+\"Minimum Data\")\n",
    "plt.xlabel(\"\\n\\n \"+key_name)\n",
    "plt.ylabel(\"no of rows\")\n",
    "\n",
    "plt.xticks(rotation=0)\n",
    "plt.show()\n",
    "\n"
   ]
  },
  {
   "cell_type": "code",
   "execution_count": 121,
   "metadata": {},
   "outputs": [
    {
     "name": "stdout",
     "output_type": "stream",
     "text": [
      "[3.1929084001688475, 3.105792163543441, 3.238624873609707, 3.248110151187905, 3.470429252782194, 3.2527794031597423, 3.58426517571885, 3.0815217391304346, 3.319533626225076, 3.2646048109965635]\n"
     ]
    },
    {
     "data": {
      "image/png": "[encoded data removed]",
      "text/plain": [
       "<Figure size 1008x360 with 1 Axes>"
      ]
     },
     "metadata": {
      "needs_background": "light"
     },
     "output_type": "display_data"
    }
   ],
   "source": [
    "key_name='previous_year_rating'\n",
    "\n",
    "y_axis=[clustered_data[key_name][clustered_data['Level']==x].mean()  for x in range(10) ]\n",
    "#y_axis=[clustered_data[key_name][clustered_data['Level']==0].min(),clustered_data[key_name][clustered_data['Level']==0].max()]\n",
    "print(y_axis)\n",
    "#x_axis=['minimum','maximum']\n",
    "x_axis=np.arange(10)\n",
    "plt.bar(x_axis,y_axis)\n",
    "plt.title(key_name+\"Average Data\")\n",
    "plt.xlabel(\"\\n\\n \"+key_name)\n",
    "plt.ylabel(\"no of rows\")\n",
    "\n",
    "plt.xticks(rotation=0)\n",
    "plt.show()\n",
    "\n"
   ]
  },
  {
   "cell_type": "code",
   "execution_count": 122,
   "metadata": {},
   "outputs": [
    {
     "name": "stdout",
     "output_type": "stream",
     "text": [
      "[64, 39, 64, 73, 55, 42, 55, 40, 74, 40]\n"
     ]
    },
    {
     "data": {
      "image/png": "[encoded data removed]",
      "text/plain": [
       "<Figure size 1008x360 with 1 Axes>"
      ]
     },
     "metadata": {
      "needs_background": "light"
     },
     "output_type": "display_data"
    },
    {
     "name": "stdout",
     "output_type": "stream",
     "text": [
      "[31.0599409  10.39437819 35.59807887 42.78293737 20.4799682  14.62902282\n",
      " 21.41932907 10.428233   43.47854005 14.7874325 ]\n"
     ]
    },
    {
     "data": {
      "image/png": "[encoded data removed]",
      "text/plain": [
       "<Figure size 1008x360 with 1 Axes>"
      ]
     },
     "metadata": {
      "needs_background": "light"
     },
     "output_type": "display_data"
    },
    {
     "name": "stdout",
     "output_type": "stream",
     "text": [
      "[76, 55, 91, 94, 67, 66, 70, 54, 94, 66]\n"
     ]
    },
    {
     "data": {
      "image/png": "[encoded data removed]",
      "text/plain": [
       "<Figure size 1008x360 with 1 Axes>"
      ]
     },
     "metadata": {
      "needs_background": "light"
     },
     "output_type": "display_data"
    }
   ],
   "source": [
    "key_name='avg_training_score'\n",
    "y_axis=[clustered_data[key_name][clustered_data['Level']==x].min()  for x in range(10) ]\n",
    "#y_axis=[clustered_data[key_name][clustered_data['Level']==0].min(),clustered_data[key_name][clustered_data['Level']==0].max()]\n",
    "print(y_axis)\n",
    "#x_axis=['minimum','maximum']\n",
    "x_axis=np.arange(10)\n",
    "plt.bar(x_axis,y_axis)\n",
    "plt.title(key_name+\"Maximum  Data\")\n",
    "plt.xlabel(\"\\n\\n \"+key_name)\n",
    "plt.ylabel(\"no of rows\")\n",
    "plt.xticks(rotation=0)\n",
    "plt.show()\n",
    "\n",
    "y_axis=np.array([clustered_data[key_name][clustered_data['Level']==x].mean()  for x in range(10) ])-clustered_data[key_name].min()\n",
    "#y_axis=[clustered_data[key_name][clustered_data['Level']==0].min(),clustered_data[key_name][clustered_data['Level']==0].max()]\n",
    "print(y_axis)\n",
    "#x_axis=['minimum','maximum']\n",
    "x_axis=np.arange(10)\n",
    "plt.bar(x_axis,y_axis)\n",
    "plt.title(key_name+\" Average  Data\")\n",
    "plt.xlabel(\"\\n\\n \"+key_name)\n",
    "plt.ylabel(\"no of rows\")\n",
    "plt.xticks(rotation=0)\n",
    "plt.show()\n",
    "\n",
    "\n",
    "\n",
    "y_axis=[clustered_data[key_name][clustered_data['Level']==x].max()  for x in range(10) ]\n",
    "#y_axis=[clustered_data[key_name][clustered_data['Level']==0].min(),clustered_data[key_name][clustered_data['Level']==0].max()]\n",
    "print(y_axis)\n",
    "#x_axis=['minimum','maximum']\n",
    "x_axis=np.arange(10)\n",
    "plt.bar(x_axis,y_axis)\n",
    "plt.title(key_name+\" Minimum Data\")\n",
    "plt.xlabel(\"\\n\\n \"+key_name)\n",
    "plt.ylabel(\"no of rows\")\n",
    "plt.xticks(rotation=0)\n",
    "plt.show()\n",
    "\n"
   ]
  },
  {
   "cell_type": "code",
   "execution_count": null,
   "metadata": {},
   "outputs": [],
   "source": []
  },
  {
   "cell_type": "code",
   "execution_count": 123,
   "metadata": {},
   "outputs": [
    {
     "data": {
      "text/html": [
       "<div>\n",
       "<style scoped>\n",
       "    .dataframe tbody tr th:only-of-type {\n",
       "        vertical-align: middle;\n",
       "    }\n",
       "\n",
       "    .dataframe tbody tr th {\n",
       "        vertical-align: top;\n",
       "    }\n",
       "\n",
       "    .dataframe thead th {\n",
       "        text-align: right;\n",
       "    }\n",
       "</style>\n",
       "<table border=\"1\" class=\"dataframe\">\n",
       "  <thead>\n",
       "    <tr style=\"text-align: right;\">\n",
       "      <th></th>\n",
       "      <th>no_of_trainings</th>\n",
       "      <th>age</th>\n",
       "      <th>previous_year_rating</th>\n",
       "      <th>length_of_service</th>\n",
       "      <th>KPIs_met &gt;80%</th>\n",
       "      <th>awards_won?</th>\n",
       "      <th>avg_training_score</th>\n",
       "      <th>department_0</th>\n",
       "      <th>department_1</th>\n",
       "      <th>department_2</th>\n",
       "      <th>...</th>\n",
       "      <th>region_25</th>\n",
       "      <th>region_26</th>\n",
       "      <th>region_27</th>\n",
       "      <th>region_28</th>\n",
       "      <th>region_29</th>\n",
       "      <th>region_30</th>\n",
       "      <th>region_31</th>\n",
       "      <th>region_32</th>\n",
       "      <th>region_33</th>\n",
       "      <th>region_34</th>\n",
       "    </tr>\n",
       "  </thead>\n",
       "  <tbody>\n",
       "    <tr>\n",
       "      <th>54807</th>\n",
       "      <td>1</td>\n",
       "      <td>27</td>\n",
       "      <td>1.0</td>\n",
       "      <td>5</td>\n",
       "      <td>0</td>\n",
       "      <td>0</td>\n",
       "      <td>49</td>\n",
       "      <td>0</td>\n",
       "      <td>0</td>\n",
       "      <td>1</td>\n",
       "      <td>...</td>\n",
       "      <td>0</td>\n",
       "      <td>0</td>\n",
       "      <td>0</td>\n",
       "      <td>0</td>\n",
       "      <td>0</td>\n",
       "      <td>0</td>\n",
       "      <td>0</td>\n",
       "      <td>0</td>\n",
       "      <td>0</td>\n",
       "      <td>0</td>\n",
       "    </tr>\n",
       "  </tbody>\n",
       "</table>\n",
       "<p>1 rows × 58 columns</p>\n",
       "</div>"
      ],
      "text/plain": [
       "       no_of_trainings  age  previous_year_rating  length_of_service  \\\n",
       "54807                1   27                   1.0                  5   \n",
       "\n",
       "       KPIs_met >80%  awards_won?  avg_training_score  department_0  \\\n",
       "54807              0            0                  49             0   \n",
       "\n",
       "       department_1  department_2  ...  region_25  region_26  region_27  \\\n",
       "54807             0             1  ...          0          0          0   \n",
       "\n",
       "       region_28  region_29  region_30  region_31  region_32  region_33  \\\n",
       "54807          0          0          0          0          0          0   \n",
       "\n",
       "       region_34  \n",
       "54807          0  \n",
       "\n",
       "[1 rows x 58 columns]"
      ]
     },
     "execution_count": 123,
     "metadata": {},
     "output_type": "execute_result"
    }
   ],
   "source": [
    "X_input_cluster.tail(1)"
   ]
  },
  {
   "cell_type": "code",
   "execution_count": 124,
   "metadata": {},
   "outputs": [
    {
     "name": "stdout",
     "output_type": "stream",
     "text": [
      "<class 'pandas.core.frame.DataFrame'>\n",
      "Int64Index: 44428 entries, 0 to 54807\n",
      "Data columns (total 59 columns):\n",
      " #   Column                 Non-Null Count  Dtype  \n",
      "---  ------                 --------------  -----  \n",
      " 0   no_of_trainings        44428 non-null  int64  \n",
      " 1   age                    44428 non-null  int64  \n",
      " 2   previous_year_rating   44428 non-null  float64\n",
      " 3   length_of_service      44428 non-null  int64  \n",
      " 4   KPIs_met >80%          44428 non-null  int64  \n",
      " 5   awards_won?            44428 non-null  int64  \n",
      " 6   avg_training_score     44428 non-null  int64  \n",
      " 7   department_0           44428 non-null  int32  \n",
      " 8   department_1           44428 non-null  int32  \n",
      " 9   department_2           44428 non-null  int32  \n",
      " 10  department_3           44428 non-null  int32  \n",
      " 11  department_4           44428 non-null  int32  \n",
      " 12  department_5           44428 non-null  int32  \n",
      " 13  department_6           44428 non-null  int32  \n",
      " 14  department_7           44428 non-null  int32  \n",
      " 15  department_8           44428 non-null  int32  \n",
      " 16  gender_0               44428 non-null  int32  \n",
      " 17  gender_1               44428 non-null  int32  \n",
      " 18  education_0            44428 non-null  uint8  \n",
      " 19  education_1            44428 non-null  uint8  \n",
      " 20  education_2            44428 non-null  uint8  \n",
      " 21  recruitment_channel_0  44428 non-null  int32  \n",
      " 22  recruitment_channel_1  44428 non-null  int32  \n",
      " 23  recruitment_channel_2  44428 non-null  int32  \n",
      " 24  region_1               44428 non-null  int32  \n",
      " 25  region_2               44428 non-null  int32  \n",
      " 26  region_3               44428 non-null  int32  \n",
      " 27  region_4               44428 non-null  int32  \n",
      " 28  region_5               44428 non-null  int32  \n",
      " 29  region_6               44428 non-null  int32  \n",
      " 30  region_7               44428 non-null  int32  \n",
      " 31  region_8               44428 non-null  int32  \n",
      " 32  region_9               44428 non-null  int32  \n",
      " 33  region_10              44428 non-null  int32  \n",
      " 34  region_11              44428 non-null  int32  \n",
      " 35  region_12              44428 non-null  int32  \n",
      " 36  region_13              44428 non-null  int32  \n",
      " 37  region_14              44428 non-null  int32  \n",
      " 38  region_15              44428 non-null  int32  \n",
      " 39  region_16              44428 non-null  int32  \n",
      " 40  region_17              44428 non-null  int32  \n",
      " 41  region_18              44428 non-null  int32  \n",
      " 42  region_19              44428 non-null  int32  \n",
      " 43  region_20              44428 non-null  int32  \n",
      " 44  region_21              44428 non-null  int32  \n",
      " 45  region_22              44428 non-null  int32  \n",
      " 46  region_23              44428 non-null  int32  \n",
      " 47  region_24              44428 non-null  int32  \n",
      " 48  region_25              44428 non-null  int32  \n",
      " 49  region_26              44428 non-null  int32  \n",
      " 50  region_27              44428 non-null  int32  \n",
      " 51  region_28              44428 non-null  int32  \n",
      " 52  region_29              44428 non-null  int32  \n",
      " 53  region_30              44428 non-null  int32  \n",
      " 54  region_31              44428 non-null  int32  \n",
      " 55  region_32              44428 non-null  int32  \n",
      " 56  region_33              44428 non-null  int32  \n",
      " 57  region_34              44428 non-null  int32  \n",
      " 58  Level                  44428 non-null  int32  \n",
      "dtypes: float64(1), int32(49), int64(6), uint8(3)\n",
      "memory usage: 11.1 MB\n"
     ]
    }
   ],
   "source": [
    "clustered_data.info()"
   ]
  },
  {
   "cell_type": "code",
   "execution_count": 125,
   "metadata": {},
   "outputs": [
    {
     "data": {
      "text/html": [
       "<div>\n",
       "<style scoped>\n",
       "    .dataframe tbody tr th:only-of-type {\n",
       "        vertical-align: middle;\n",
       "    }\n",
       "\n",
       "    .dataframe tbody tr th {\n",
       "        vertical-align: top;\n",
       "    }\n",
       "\n",
       "    .dataframe thead th {\n",
       "        text-align: right;\n",
       "    }\n",
       "</style>\n",
       "<table border=\"1\" class=\"dataframe\">\n",
       "  <thead>\n",
       "    <tr style=\"text-align: right;\">\n",
       "      <th></th>\n",
       "      <th>no_of_trainings</th>\n",
       "      <th>age</th>\n",
       "      <th>previous_year_rating</th>\n",
       "      <th>length_of_service</th>\n",
       "      <th>KPIs_met &gt;80%</th>\n",
       "      <th>awards_won?</th>\n",
       "      <th>avg_training_score</th>\n",
       "      <th>department_0</th>\n",
       "      <th>department_1</th>\n",
       "      <th>department_2</th>\n",
       "      <th>...</th>\n",
       "      <th>region_25</th>\n",
       "      <th>region_26</th>\n",
       "      <th>region_27</th>\n",
       "      <th>region_28</th>\n",
       "      <th>region_29</th>\n",
       "      <th>region_30</th>\n",
       "      <th>region_31</th>\n",
       "      <th>region_32</th>\n",
       "      <th>region_33</th>\n",
       "      <th>region_34</th>\n",
       "    </tr>\n",
       "  </thead>\n",
       "  <tbody>\n",
       "    <tr>\n",
       "      <th>0</th>\n",
       "      <td>1</td>\n",
       "      <td>35</td>\n",
       "      <td>5.0</td>\n",
       "      <td>8</td>\n",
       "      <td>1</td>\n",
       "      <td>0</td>\n",
       "      <td>49</td>\n",
       "      <td>0</td>\n",
       "      <td>0</td>\n",
       "      <td>0</td>\n",
       "      <td>...</td>\n",
       "      <td>0</td>\n",
       "      <td>0</td>\n",
       "      <td>0</td>\n",
       "      <td>0</td>\n",
       "      <td>0</td>\n",
       "      <td>0</td>\n",
       "      <td>0</td>\n",
       "      <td>0</td>\n",
       "      <td>0</td>\n",
       "      <td>0</td>\n",
       "    </tr>\n",
       "    <tr>\n",
       "      <th>1</th>\n",
       "      <td>1</td>\n",
       "      <td>30</td>\n",
       "      <td>5.0</td>\n",
       "      <td>4</td>\n",
       "      <td>0</td>\n",
       "      <td>0</td>\n",
       "      <td>60</td>\n",
       "      <td>0</td>\n",
       "      <td>0</td>\n",
       "      <td>0</td>\n",
       "      <td>...</td>\n",
       "      <td>0</td>\n",
       "      <td>0</td>\n",
       "      <td>0</td>\n",
       "      <td>0</td>\n",
       "      <td>0</td>\n",
       "      <td>0</td>\n",
       "      <td>0</td>\n",
       "      <td>0</td>\n",
       "      <td>0</td>\n",
       "      <td>0</td>\n",
       "    </tr>\n",
       "    <tr>\n",
       "      <th>2</th>\n",
       "      <td>1</td>\n",
       "      <td>34</td>\n",
       "      <td>3.0</td>\n",
       "      <td>7</td>\n",
       "      <td>0</td>\n",
       "      <td>0</td>\n",
       "      <td>50</td>\n",
       "      <td>0</td>\n",
       "      <td>0</td>\n",
       "      <td>0</td>\n",
       "      <td>...</td>\n",
       "      <td>0</td>\n",
       "      <td>0</td>\n",
       "      <td>0</td>\n",
       "      <td>0</td>\n",
       "      <td>0</td>\n",
       "      <td>0</td>\n",
       "      <td>0</td>\n",
       "      <td>0</td>\n",
       "      <td>0</td>\n",
       "      <td>0</td>\n",
       "    </tr>\n",
       "    <tr>\n",
       "      <th>3</th>\n",
       "      <td>2</td>\n",
       "      <td>39</td>\n",
       "      <td>1.0</td>\n",
       "      <td>10</td>\n",
       "      <td>0</td>\n",
       "      <td>0</td>\n",
       "      <td>50</td>\n",
       "      <td>0</td>\n",
       "      <td>0</td>\n",
       "      <td>0</td>\n",
       "      <td>...</td>\n",
       "      <td>0</td>\n",
       "      <td>0</td>\n",
       "      <td>0</td>\n",
       "      <td>0</td>\n",
       "      <td>0</td>\n",
       "      <td>0</td>\n",
       "      <td>0</td>\n",
       "      <td>0</td>\n",
       "      <td>0</td>\n",
       "      <td>0</td>\n",
       "    </tr>\n",
       "    <tr>\n",
       "      <th>4</th>\n",
       "      <td>1</td>\n",
       "      <td>45</td>\n",
       "      <td>3.0</td>\n",
       "      <td>2</td>\n",
       "      <td>0</td>\n",
       "      <td>0</td>\n",
       "      <td>73</td>\n",
       "      <td>0</td>\n",
       "      <td>0</td>\n",
       "      <td>0</td>\n",
       "      <td>...</td>\n",
       "      <td>0</td>\n",
       "      <td>1</td>\n",
       "      <td>0</td>\n",
       "      <td>0</td>\n",
       "      <td>0</td>\n",
       "      <td>0</td>\n",
       "      <td>0</td>\n",
       "      <td>0</td>\n",
       "      <td>0</td>\n",
       "      <td>0</td>\n",
       "    </tr>\n",
       "    <tr>\n",
       "      <th>...</th>\n",
       "      <td>...</td>\n",
       "      <td>...</td>\n",
       "      <td>...</td>\n",
       "      <td>...</td>\n",
       "      <td>...</td>\n",
       "      <td>...</td>\n",
       "      <td>...</td>\n",
       "      <td>...</td>\n",
       "      <td>...</td>\n",
       "      <td>...</td>\n",
       "      <td>...</td>\n",
       "      <td>...</td>\n",
       "      <td>...</td>\n",
       "      <td>...</td>\n",
       "      <td>...</td>\n",
       "      <td>...</td>\n",
       "      <td>...</td>\n",
       "      <td>...</td>\n",
       "      <td>...</td>\n",
       "      <td>...</td>\n",
       "      <td>...</td>\n",
       "    </tr>\n",
       "    <tr>\n",
       "      <th>54802</th>\n",
       "      <td>2</td>\n",
       "      <td>31</td>\n",
       "      <td>1.0</td>\n",
       "      <td>2</td>\n",
       "      <td>0</td>\n",
       "      <td>0</td>\n",
       "      <td>49</td>\n",
       "      <td>0</td>\n",
       "      <td>0</td>\n",
       "      <td>0</td>\n",
       "      <td>...</td>\n",
       "      <td>0</td>\n",
       "      <td>0</td>\n",
       "      <td>0</td>\n",
       "      <td>0</td>\n",
       "      <td>0</td>\n",
       "      <td>0</td>\n",
       "      <td>0</td>\n",
       "      <td>0</td>\n",
       "      <td>0</td>\n",
       "      <td>0</td>\n",
       "    </tr>\n",
       "    <tr>\n",
       "      <th>54803</th>\n",
       "      <td>1</td>\n",
       "      <td>48</td>\n",
       "      <td>3.0</td>\n",
       "      <td>17</td>\n",
       "      <td>0</td>\n",
       "      <td>0</td>\n",
       "      <td>78</td>\n",
       "      <td>0</td>\n",
       "      <td>0</td>\n",
       "      <td>0</td>\n",
       "      <td>...</td>\n",
       "      <td>0</td>\n",
       "      <td>0</td>\n",
       "      <td>0</td>\n",
       "      <td>0</td>\n",
       "      <td>0</td>\n",
       "      <td>0</td>\n",
       "      <td>0</td>\n",
       "      <td>0</td>\n",
       "      <td>0</td>\n",
       "      <td>0</td>\n",
       "    </tr>\n",
       "    <tr>\n",
       "      <th>54804</th>\n",
       "      <td>1</td>\n",
       "      <td>37</td>\n",
       "      <td>2.0</td>\n",
       "      <td>6</td>\n",
       "      <td>0</td>\n",
       "      <td>0</td>\n",
       "      <td>56</td>\n",
       "      <td>0</td>\n",
       "      <td>0</td>\n",
       "      <td>0</td>\n",
       "      <td>...</td>\n",
       "      <td>0</td>\n",
       "      <td>0</td>\n",
       "      <td>1</td>\n",
       "      <td>0</td>\n",
       "      <td>0</td>\n",
       "      <td>0</td>\n",
       "      <td>0</td>\n",
       "      <td>0</td>\n",
       "      <td>0</td>\n",
       "      <td>0</td>\n",
       "    </tr>\n",
       "    <tr>\n",
       "      <th>54805</th>\n",
       "      <td>1</td>\n",
       "      <td>27</td>\n",
       "      <td>5.0</td>\n",
       "      <td>3</td>\n",
       "      <td>1</td>\n",
       "      <td>0</td>\n",
       "      <td>79</td>\n",
       "      <td>1</td>\n",
       "      <td>0</td>\n",
       "      <td>0</td>\n",
       "      <td>...</td>\n",
       "      <td>0</td>\n",
       "      <td>0</td>\n",
       "      <td>0</td>\n",
       "      <td>0</td>\n",
       "      <td>0</td>\n",
       "      <td>0</td>\n",
       "      <td>0</td>\n",
       "      <td>0</td>\n",
       "      <td>0</td>\n",
       "      <td>0</td>\n",
       "    </tr>\n",
       "    <tr>\n",
       "      <th>54807</th>\n",
       "      <td>1</td>\n",
       "      <td>27</td>\n",
       "      <td>1.0</td>\n",
       "      <td>5</td>\n",
       "      <td>0</td>\n",
       "      <td>0</td>\n",
       "      <td>49</td>\n",
       "      <td>0</td>\n",
       "      <td>0</td>\n",
       "      <td>1</td>\n",
       "      <td>...</td>\n",
       "      <td>0</td>\n",
       "      <td>0</td>\n",
       "      <td>0</td>\n",
       "      <td>0</td>\n",
       "      <td>0</td>\n",
       "      <td>0</td>\n",
       "      <td>0</td>\n",
       "      <td>0</td>\n",
       "      <td>0</td>\n",
       "      <td>0</td>\n",
       "    </tr>\n",
       "  </tbody>\n",
       "</table>\n",
       "<p>44428 rows × 58 columns</p>\n",
       "</div>"
      ],
      "text/plain": [
       "       no_of_trainings  age  previous_year_rating  length_of_service  \\\n",
       "0                    1   35                   5.0                  8   \n",
       "1                    1   30                   5.0                  4   \n",
       "2                    1   34                   3.0                  7   \n",
       "3                    2   39                   1.0                 10   \n",
       "4                    1   45                   3.0                  2   \n",
       "...                ...  ...                   ...                ...   \n",
       "54802                2   31                   1.0                  2   \n",
       "54803                1   48                   3.0                 17   \n",
       "54804                1   37                   2.0                  6   \n",
       "54805                1   27                   5.0                  3   \n",
       "54807                1   27                   1.0                  5   \n",
       "\n",
       "       KPIs_met >80%  awards_won?  avg_training_score  department_0  \\\n",
       "0                  1            0                  49             0   \n",
       "1                  0            0                  60             0   \n",
       "2                  0            0                  50             0   \n",
       "3                  0            0                  50             0   \n",
       "4                  0            0                  73             0   \n",
       "...              ...          ...                 ...           ...   \n",
       "54802              0            0                  49             0   \n",
       "54803              0            0                  78             0   \n",
       "54804              0            0                  56             0   \n",
       "54805              1            0                  79             1   \n",
       "54807              0            0                  49             0   \n",
       "\n",
       "       department_1  department_2  ...  region_25  region_26  region_27  \\\n",
       "0                 0             0  ...          0          0          0   \n",
       "1                 0             0  ...          0          0          0   \n",
       "2                 0             0  ...          0          0          0   \n",
       "3                 0             0  ...          0          0          0   \n",
       "4                 0             0  ...          0          1          0   \n",
       "...             ...           ...  ...        ...        ...        ...   \n",
       "54802             0             0  ...          0          0          0   \n",
       "54803             0             0  ...          0          0          0   \n",
       "54804             0             0  ...          0          0          1   \n",
       "54805             0             0  ...          0          0          0   \n",
       "54807             0             1  ...          0          0          0   \n",
       "\n",
       "       region_28  region_29  region_30  region_31  region_32  region_33  \\\n",
       "0              0          0          0          0          0          0   \n",
       "1              0          0          0          0          0          0   \n",
       "2              0          0          0          0          0          0   \n",
       "3              0          0          0          0          0          0   \n",
       "4              0          0          0          0          0          0   \n",
       "...          ...        ...        ...        ...        ...        ...   \n",
       "54802          0          0          0          0          0          0   \n",
       "54803          0          0          0          0          0          0   \n",
       "54804          0          0          0          0          0          0   \n",
       "54805          0          0          0          0          0          0   \n",
       "54807          0          0          0          0          0          0   \n",
       "\n",
       "       region_34  \n",
       "0              0  \n",
       "1              0  \n",
       "2              0  \n",
       "3              0  \n",
       "4              0  \n",
       "...          ...  \n",
       "54802          0  \n",
       "54803          0  \n",
       "54804          0  \n",
       "54805          0  \n",
       "54807          0  \n",
       "\n",
       "[44428 rows x 58 columns]"
      ]
     },
     "execution_count": 125,
     "metadata": {},
     "output_type": "execute_result"
    }
   ],
   "source": [
    "X_input_cluster"
   ]
  },
  {
   "cell_type": "code",
   "execution_count": 126,
   "metadata": {},
   "outputs": [
    {
     "data": {
      "text/plain": [
       "array([1, 4, 1, ..., 6, 8, 7])"
      ]
     },
     "execution_count": 126,
     "metadata": {},
     "output_type": "execute_result"
    }
   ],
   "source": [
    "y_pred"
   ]
  },
  {
   "cell_type": "code",
   "execution_count": 127,
   "metadata": {},
   "outputs": [
    {
     "data": {
      "text/plain": [
       "(44428, 58)"
      ]
     },
     "execution_count": 127,
     "metadata": {},
     "output_type": "execute_result"
    }
   ],
   "source": [
    "X_input_cluster.shape"
   ]
  },
  {
   "cell_type": "code",
   "execution_count": 128,
   "metadata": {},
   "outputs": [],
   "source": [
    "X_train_cluster,X_test_cluster,y_train_cluster,y_test_cluster=train_test_split(X_input_cluster,y_pred,test_size=0.2251)"
   ]
  },
  {
   "cell_type": "code",
   "execution_count": 129,
   "metadata": {},
   "outputs": [
    {
     "data": {
      "text/plain": [
       "(34427, 58)"
      ]
     },
     "execution_count": 129,
     "metadata": {},
     "output_type": "execute_result"
    }
   ],
   "source": [
    "X_train_cluster.shape"
   ]
  },
  {
   "cell_type": "code",
   "execution_count": 130,
   "metadata": {},
   "outputs": [
    {
     "data": {
      "text/plain": [
       "(10001, 58)"
      ]
     },
     "execution_count": 130,
     "metadata": {},
     "output_type": "execute_result"
    }
   ],
   "source": [
    "X_test_cluster.shape"
   ]
  },
  {
   "cell_type": "code",
   "execution_count": 131,
   "metadata": {},
   "outputs": [
    {
     "name": "stdout",
     "output_type": "stream",
     "text": [
      "94.95050494950506\n"
     ]
    },
    {
     "name": "stderr",
     "output_type": "stream",
     "text": [
      "E:\\anaconda\\lib\\site-packages\\sklearn\\linear_model\\_logistic.py:764: ConvergenceWarning: lbfgs failed to converge (status=1):\n",
      "STOP: TOTAL NO. of ITERATIONS REACHED LIMIT.\n",
      "\n",
      "Increase the number of iterations (max_iter) or scale the data as shown in:\n",
      "    https://scikit-learn.org/stable/modules/preprocessing.html\n",
      "Please also refer to the documentation for alternative solver options:\n",
      "    https://scikit-learn.org/stable/modules/linear_model.html#logistic-regression\n",
      "  extra_warning_msg=_LOGISTIC_SOLVER_CONVERGENCE_MSG)\n"
     ]
    }
   ],
   "source": [
    "from sklearn.linear_model import LogisticRegression\n",
    "LR_cluster=LogisticRegression(random_state=0,max_iter=3000)\n",
    "LR_cluster.fit(X_train_cluster, y_train_cluster)\n",
    "p1_cluster=LR_cluster.score(X_test_cluster,y_test_cluster)*100\n",
    "print(p1_cluster)"
   ]
  },
  {
   "cell_type": "code",
   "execution_count": 132,
   "metadata": {},
   "outputs": [
    {
     "name": "stdout",
     "output_type": "stream",
     "text": [
      "51.61483851614839\n"
     ]
    }
   ],
   "source": [
    "from sklearn.ensemble import AdaBoostClassifier\n",
    "ADA_cluster=AdaBoostClassifier()\n",
    "ADA_cluster.fit(X_train_cluster, y_train_cluster)\n",
    "p2_cluster=ADA_cluster.score(X_test_cluster,y_test_cluster)*100\n",
    "print(p2_cluster)"
   ]
  },
  {
   "cell_type": "code",
   "execution_count": 133,
   "metadata": {},
   "outputs": [
    {
     "name": "stdout",
     "output_type": "stream",
     "text": [
      "96.69033096690332\n"
     ]
    }
   ],
   "source": [
    "from sklearn.ensemble import RandomForestClassifier\n",
    "RF_cluster=RandomForestClassifier(max_features='auto', n_estimators=200)\n",
    "RF_cluster.fit(X_train_cluster, y_train_cluster)\n",
    "p3_cluster=RF_cluster.score(X_test_cluster,y_test_cluster)*100\n",
    "print(p3_cluster)"
   ]
  },
  {
   "cell_type": "code",
   "execution_count": 134,
   "metadata": {},
   "outputs": [
    {
     "name": "stdout",
     "output_type": "stream",
     "text": [
      "98.92010798920109\n"
     ]
    }
   ],
   "source": [
    "from sklearn.tree import DecisionTreeClassifier\n",
    "DC_cluster=DecisionTreeClassifier()\n",
    "DC_cluster.fit(X_train_cluster, y_train_cluster)\n",
    "p4_cluster=DC_cluster.score(X_test_cluster,y_test_cluster)*100\n",
    "print(p4_cluster)"
   ]
  },
  {
   "cell_type": "code",
   "execution_count": 135,
   "metadata": {},
   "outputs": [
    {
     "name": "stdout",
     "output_type": "stream",
     "text": [
      "30.226977302269773\n"
     ]
    }
   ],
   "source": [
    "from sklearn.naive_bayes import GaussianNB\n",
    "GB_cluster=GaussianNB()\n",
    "GB_cluster.fit(X_train_cluster,y_train_cluster)\n",
    "p5_cluster=GB_cluster.score(X_test_cluster,y_test_cluster)*100\n",
    "print(p5_cluster)"
   ]
  },
  {
   "cell_type": "code",
   "execution_count": 136,
   "metadata": {},
   "outputs": [
    {
     "data": {
      "image/png": "[encoded data removed]",
      "text/plain": [
       "<Figure size 1080x432 with 1 Axes>"
      ]
     },
     "metadata": {
      "needs_background": "light"
     },
     "output_type": "display_data"
    }
   ],
   "source": [
    "a=[\"LogisticRegression\",\"AdaBoostClassifier\",\"RandomForestClassifier\",\"DecisionTreeClassifier\",\"GaussianNB\"]\n",
    "b=[p1_cluster,p2_cluster,p3_cluster,p4_cluster,p5_cluster]\n",
    "plt.figure(figsize=(15,6))\n",
    "plt.bar(a,b)\n",
    "plt.title(\"Accuracy Graph of level data\")\n",
    "plt.xlabel(\"Algorithm\")\n",
    "plt.ylabel(\"percentage\")\n",
    "plt.show()"
   ]
  },
  {
   "cell_type": "code",
   "execution_count": 139,
   "metadata": {},
   "outputs": [],
   "source": [
    "import pickle"
   ]
  },
  {
   "cell_type": "code",
   "execution_count": null,
   "metadata": {},
   "outputs": [],
   "source": [
    "'''with open(\"Employee_promotion_LR.pkl\",'wb') as f:\n",
    "    pickle.dump(LR,f)'''"
   ]
  },
  {
   "cell_type": "code",
   "execution_count": null,
   "metadata": {},
   "outputs": [],
   "source": [
    "'''with open(\"Employee_promotion_RF.pkl\",'wb') as f:\n",
    "    pickle.dump(RF,f)'''"
   ]
  },
  {
   "cell_type": "code",
   "execution_count": null,
   "metadata": {},
   "outputs": [],
   "source": [
    "'''with open(\"Employee_promotion_LR_cluster.pkl\",'wb') as f:\n",
    "    pickle.dump(LR_cluster,f)'''"
   ]
  },
  {
   "cell_type": "code",
   "execution_count": null,
   "metadata": {},
   "outputs": [],
   "source": [
    "'''with open(\"Employee_promotion_DC_cluster.pkl\",'wb') as f:\n",
    "    pickle.dump(DC_cluster,f)'''"
   ]
  },
  {
   "cell_type": "code",
   "execution_count": 138,
   "metadata": {},
   "outputs": [
    {
     "name": "stdout",
     "output_type": "stream",
     "text": [
      "Enter the no_of_trainings : 3\n",
      "Enter the age : 68\n",
      "enter the previous_year_rating : 4.5\n",
      "enter the length_of_service : 8\n",
      "enter the Key performance Index 0 for no 1 for yes :1\n",
      "Enter if the employee won awards 0 for no 1 for yes :0\n",
      "Enter the Average training score : 78\n",
      "enter the department \n",
      "0  for  Analytics\n",
      "1  for  Finance\n",
      "2  for  HR\n",
      "3  for  Legal\n",
      "4  for  Operations\n",
      "5  for  Procurement\n",
      "6  for  R&D\n",
      "7  for  Sales & Marketing\n",
      "8  for  Technology    :  2\n",
      "Enter the Gender 0 for female and 1 male : 1\n",
      "Enter the Eduaction Qualification \n",
      "0  for  Bachelor's\n",
      "1  for  Below Secondary\n",
      "2  for  Master's & above2\n",
      "Enter the recruitment channel \n",
      "0  for  other\n",
      "1  for  referred\n",
      "2  for  sourcing : 1\n",
      "Enter the region from 1 to :  25\n",
      "99.99 % Average, need to be improved\n"
     ]
    }
   ],
   "source": [
    "input_data=[0 for v in range(58)]\n",
    "input_data[0]=int(input(\"Enter the no_of_trainings : \"))\n",
    "input_data[1]=int(input(\"Enter the age : \"))\n",
    "input_data[2]=float(input(\"enter the previous_year_rating : \"))\n",
    "input_data[3]=int(input(\"enter the length_of_service : \"))\n",
    "input_data[4]=int(input(\"enter the Key performance Index 0 for no 1 for yes :\"))\n",
    "input_data[5]=int(input(\"Enter if the employee won awards 0 for no 1 for yes :\"))\n",
    "input_data[6]=int(input(\"Enter the Average training score : \"))\n",
    "\n",
    "department=int(input(\"\"\"enter the department \n",
    "0  for  Analytics\n",
    "1  for  Finance\n",
    "2  for  HR\n",
    "3  for  Legal\n",
    "4  for  Operations\n",
    "5  for  Procurement\n",
    "6  for  R&D\n",
    "7  for  Sales & Marketing\n",
    "8  for  Technology    :  \"\"\"))\n",
    "if department==0:\n",
    "    input_data[7]=1\n",
    "elif department==1:\n",
    "    input_data[8]=1\n",
    "elif department==2:\n",
    "    input_data[9]=1\n",
    "elif department==3:\n",
    "    input_data[10]=1\n",
    "elif department==4:\n",
    "    input_data[11]=1\n",
    "elif department==5:\n",
    "    input_data[12]=1\n",
    "elif department==6:\n",
    "    input_data[13]=1\n",
    "elif department==7:\n",
    "    input_data[14]=1\n",
    "elif department==8:\n",
    "    input_data[15]=1\n",
    "gender=int(input(\"Enter the Gender 0 for female and 1 male : \"))\n",
    "if gender==0:\n",
    "    input_data[16]=1\n",
    "elif gender==1:\n",
    "    input_data[17]=1\n",
    "education=int(input(\"\"\"Enter the Eduaction Qualification \n",
    "0  for  Bachelor's\n",
    "1  for  Below Secondary\n",
    "2  for  Master's & above\"\"\"))\n",
    "if education==0:\n",
    "    input_data[18]=1\n",
    "elif education==0:\n",
    "    input_data[19]=1\n",
    "elif education==0:\n",
    "    input_data[20]=1\n",
    "recruitment_channel=int(input(\"\"\"Enter the recruitment channel \n",
    "0  for  other\n",
    "1  for  referred\n",
    "2  for  sourcing : \"\"\"))\n",
    "\n",
    "if recruitment_channel==0:\n",
    "    input_data[21]=1\n",
    "elif recruitment_channel==1:\n",
    "    input_data[22]=1\n",
    "elif recruitment_channel==2:\n",
    "    input_data[23]=1\n",
    "    \n",
    "region=int(input(\"\"\"Enter the region from 1 to :  \"\"\"))    \n",
    "if region==1:\n",
    "    input_data[24]=1\n",
    "elif region==2:\n",
    "    input_data[25]=1\n",
    "elif region==3:\n",
    "    input_data[26]=1\n",
    "elif region==4:\n",
    "    input_data[27]=1\n",
    "elif region==5:\n",
    "    input_data[28]=1\n",
    "elif region==6:\n",
    "    input_data[29]=1\n",
    "elif region==7:\n",
    "    input_data[30]=1\n",
    "elif region==8:\n",
    "    input_data[31]=1\n",
    "elif region==9:\n",
    "    input_data[32]=1\n",
    "elif region==10:\n",
    "    input_data[33]=1\n",
    "elif region==11:\n",
    "    input_data[34]=1\n",
    "elif region==12:\n",
    "    input_data[35]=1\n",
    "elif region==13:\n",
    "    input_data[36]=1\n",
    "elif region==14:\n",
    "    input_data[37]=1\n",
    "elif region==15:\n",
    "    input_data[38]=1\n",
    "elif region==16:\n",
    "    input_data[39]=1\n",
    "elif region==17:\n",
    "    input_data[40]=1\n",
    "elif region==18:\n",
    "    input_data[41]=1\n",
    "elif region==19:\n",
    "    input_data[42]=1\n",
    "elif region==20:\n",
    "    input_data[43]=1\n",
    "elif region==21:\n",
    "    input_data[44]=1\n",
    "elif region==22:\n",
    "    input_data[45]=1\n",
    "elif region==23:\n",
    "    input_data[46]=1\n",
    "elif region==24:\n",
    "    input_data[47]=1\n",
    "elif region==25:\n",
    "    input_data[48]=1\n",
    "elif region==26:\n",
    "    input_data[49]=1\n",
    "elif region==27:\n",
    "    input_data[50]=1\n",
    "elif region==28:\n",
    "    input_data[51]=1\n",
    "elif region==29:\n",
    "    input_data[52]=1\n",
    "elif region==30:\n",
    "    input_data[53]=1\n",
    "elif region==31:\n",
    "    input_data[54]=1\n",
    "elif region==32:\n",
    "    input_data[55]=1\n",
    "elif region==33:\n",
    "    input_data[56]=1\n",
    "elif region==34:\n",
    "    input_data[57]=1\n",
    "    \n",
    "\n",
    "result=RF.predict([input_data])\n",
    "result_prob=RF.predict_proba([input_data])\n",
    "if result[0]==1:\n",
    "    print(str(max(result_prob[0])*100)[:5]+\" % Employee able to promote\")\n",
    "elif result[0]==0:\n",
    "    result_cluster=DC_cluster.predict([input_data])\n",
    "    result_percentage_cluster=LR_cluster.predict_proba([input_data])\n",
    "    final_cluster_percentage=[0,0,0,0]\n",
    "    final_cluster_percentage[0]=result_percentage_cluster[0][0]+result_percentage_cluster[0][1]\n",
    "    final_cluster_percentage[1]=result_percentage_cluster[0][2]+result_percentage_cluster[0][3] + result_percentage_cluster[0][4]+result_percentage_cluster[0][5]\n",
    "    final_cluster_percentage[2]=result_percentage_cluster[0][6]+result_percentage_cluster[0][7]\n",
    "    final_cluster_percentage[3]=result_percentage_cluster[0][8]+result_percentage_cluster[0][9]\n",
    "    \n",
    "    if result_cluster[0]==0 or result_cluster[0]==1:\n",
    "        final_result=\"Good\"\n",
    "        \n",
    "    elif result_cluster[0]==2 or result_cluster[0]==3 or result_cluster[0]==4 or result_cluster[0]==5:\n",
    "        final_result=\"Average, need to be improved\"\n",
    "        \n",
    "    elif result_cluster[0]==6 or result_cluster[0]==7:\n",
    "        final_result=\"Below average\"\n",
    "        \n",
    "    elif result_cluster[0]==8 or result_cluster[0]==9:\n",
    "        final_result=\"Under performing \"\n",
    "        \n",
    "    else:\n",
    "        final_cluster_percentage=[100]\n",
    "    print(str(max(final_cluster_percentage)*100)[:5]+\" % \"+final_result)\n",
    "    \n",
    "    \n"
   ]
  },
  {
   "cell_type": "code",
   "execution_count": null,
   "metadata": {},
   "outputs": [],
   "source": []
  },
  {
   "cell_type": "code",
   "execution_count": null,
   "metadata": {},
   "outputs": [],
   "source": []
  }
 ],
 "metadata": {
  "kernelspec": {
   "display_name": "Python 3",
   "language": "python",
   "name": "python3"
  },
  "language_info": {
   "codemirror_mode": {
    "name": "ipython",
    "version": 3
   },
   "file_extension": ".py",
   "mimetype": "text/x-python",
   "name": "python",
   "nbconvert_exporter": "python",
   "pygments_lexer": "ipython3",
   "version": "3.7.4"
  }
 },
 "nbformat": 4,
 "nbformat_minor": 4
}
