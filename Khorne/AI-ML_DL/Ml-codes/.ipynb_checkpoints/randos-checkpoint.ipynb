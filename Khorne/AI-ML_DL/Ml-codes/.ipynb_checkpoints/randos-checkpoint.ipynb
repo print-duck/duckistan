{
 "cells": [
  {
   "cell_type": "code",
   "execution_count": 29,
   "id": "58f2dcf1",
   "metadata": {},
   "outputs": [],
   "source": [
    "from numpy import random"
   ]
  },
  {
   "cell_type": "code",
   "execution_count": 30,
   "id": "7be0924b",
   "metadata": {},
   "outputs": [
    {
     "data": {
      "text/plain": [
       "94"
      ]
     },
     "execution_count": 30,
     "metadata": {},
     "output_type": "execute_result"
    }
   ],
   "source": [
    "random.randint(100)"
   ]
  },
  {
   "cell_type": "code",
   "execution_count": 31,
   "id": "ea6a0e1b",
   "metadata": {},
   "outputs": [
    {
     "data": {
      "text/plain": [
       "59"
      ]
     },
     "execution_count": 31,
     "metadata": {},
     "output_type": "execute_result"
    }
   ],
   "source": [
    "random.randint(50,101)"
   ]
  },
  {
   "cell_type": "code",
   "execution_count": 32,
   "id": "cb708272",
   "metadata": {},
   "outputs": [
    {
     "data": {
      "text/plain": [
       "0.23401971046838665"
      ]
     },
     "execution_count": 32,
     "metadata": {},
     "output_type": "execute_result"
    }
   ],
   "source": [
    "random.rand()"
   ]
  },
  {
   "cell_type": "code",
   "execution_count": 33,
   "id": "94385f06",
   "metadata": {},
   "outputs": [
    {
     "data": {
      "text/plain": [
       "array([0.00954769, 0.61801115, 0.27994072, 0.80338966, 0.00139132])"
      ]
     },
     "execution_count": 33,
     "metadata": {},
     "output_type": "execute_result"
    }
   ],
   "source": [
    "random.rand(5)"
   ]
  },
  {
   "cell_type": "code",
   "execution_count": 34,
   "id": "a750d1b0",
   "metadata": {},
   "outputs": [
    {
     "data": {
      "text/plain": [
       "array([73, 76, 94, 68, 54])"
      ]
     },
     "execution_count": 34,
     "metadata": {},
     "output_type": "execute_result"
    }
   ],
   "source": [
    "random.randint(50,101,size=5)"
   ]
  },
  {
   "cell_type": "code",
   "execution_count": 42,
   "id": "9f533df5",
   "metadata": {},
   "outputs": [
    {
     "data": {
      "text/plain": [
       "array([[69, 66],\n",
       "       [61, 53],\n",
       "       [55, 64],\n",
       "       [63, 84],\n",
       "       [93, 67]])"
      ]
     },
     "execution_count": 42,
     "metadata": {},
     "output_type": "execute_result"
    }
   ],
   "source": [
    "random.randint(50,101,size=(5,2))"
   ]
  },
  {
   "cell_type": "markdown",
   "id": "c79ca76b",
   "metadata": {},
   "source": [
    "Size Parameters: () \n",
    "\n",
    "(n)-- n items in an array.\n",
    "\n",
    "(n,m)-- In an Array of n arrays, with m items.\n",
    "\n",
    "(n,m,o)-- In an Array of n arrays, of m arrays, with o items.\n",
    "\n",
    "(n,m,o,p)--In an array of n arrays, of m arrays, of o arrays of p items."
   ]
  },
  {
   "cell_type": "code",
   "execution_count": 43,
   "id": "35672260",
   "metadata": {},
   "outputs": [],
   "source": [
    "r=random.randint(50,101,size=(2,5))"
   ]
  },
  {
   "cell_type": "code",
   "execution_count": 44,
   "id": "986e3f6e",
   "metadata": {
    "scrolled": true
   },
   "outputs": [
    {
     "data": {
      "text/plain": [
       "array([[93, 62, 65, 98, 75],\n",
       "       [82, 77, 98, 83, 67]])"
      ]
     },
     "execution_count": 44,
     "metadata": {},
     "output_type": "execute_result"
    }
   ],
   "source": [
    "r"
   ]
  },
  {
   "cell_type": "code",
   "execution_count": 45,
   "id": "98536370",
   "metadata": {
    "scrolled": true
   },
   "outputs": [
    {
     "data": {
      "text/plain": [
       "2"
      ]
     },
     "execution_count": 45,
     "metadata": {},
     "output_type": "execute_result"
    }
   ],
   "source": [
    "r.ndim"
   ]
  },
  {
   "cell_type": "code",
   "execution_count": 46,
   "id": "9456c4d8",
   "metadata": {},
   "outputs": [],
   "source": [
    "r=random.randint(50,101,size=(2,5,3,4))"
   ]
  },
  {
   "cell_type": "code",
   "execution_count": 47,
   "id": "2ca38b2d",
   "metadata": {
    "scrolled": false
   },
   "outputs": [
    {
     "data": {
      "text/plain": [
       "array([[[[ 97,  91,  58,  68],\n",
       "         [ 52,  80,  53,  52],\n",
       "         [ 60,  75,  90,  94]],\n",
       "\n",
       "        [[ 59,  76,  81,  90],\n",
       "         [ 97,  96,  89,  99],\n",
       "         [ 94,  89,  86,  85]],\n",
       "\n",
       "        [[ 77,  66,  51,  55],\n",
       "         [ 82,  81,  91,  71],\n",
       "         [ 90,  87,  63,  93]],\n",
       "\n",
       "        [[ 71,  54,  60,  78],\n",
       "         [ 59,  82,  78,  89],\n",
       "         [ 91,  52,  71,  89]],\n",
       "\n",
       "        [[ 89,  64,  74,  70],\n",
       "         [ 94,  92,  84,  58],\n",
       "         [ 70,  57,  76,  52]]],\n",
       "\n",
       "\n",
       "       [[[ 71,  95,  87,  81],\n",
       "         [ 76,  97,  85,  75],\n",
       "         [ 76,  84, 100,  63]],\n",
       "\n",
       "        [[ 67,  60,  59,  90],\n",
       "         [ 57,  95,  79,  79],\n",
       "         [ 93,  97,  68,  83]],\n",
       "\n",
       "        [[ 97,  53,  69,  91],\n",
       "         [ 61,  61,  80,  87],\n",
       "         [ 92,  59,  51,  64]],\n",
       "\n",
       "        [[ 53,  75,  88,  94],\n",
       "         [ 77,  73,  62,  78],\n",
       "         [ 88,  62,  60,  94]],\n",
       "\n",
       "        [[ 52,  68,  84,  89],\n",
       "         [ 54,  91,  87,  55],\n",
       "         [100,  61,  61,  78]]]])"
      ]
     },
     "execution_count": 47,
     "metadata": {},
     "output_type": "execute_result"
    }
   ],
   "source": [
    "r"
   ]
  },
  {
   "cell_type": "code",
   "execution_count": 48,
   "id": "564e9bc9",
   "metadata": {
    "scrolled": true
   },
   "outputs": [
    {
     "data": {
      "text/plain": [
       "4"
      ]
     },
     "execution_count": 48,
     "metadata": {},
     "output_type": "execute_result"
    }
   ],
   "source": [
    "r.ndim"
   ]
  },
  {
   "cell_type": "code",
   "execution_count": null,
   "id": "a40a7bc3",
   "metadata": {},
   "outputs": [],
   "source": []
  },
  {
   "cell_type": "code",
   "execution_count": null,
   "id": "d1468347",
   "metadata": {},
   "outputs": [],
   "source": []
  }
 ],
 "metadata": {
  "kernelspec": {
   "display_name": "Python 3 (ipykernel)",
   "language": "python",
   "name": "python3"
  },
  "language_info": {
   "codemirror_mode": {
    "name": "ipython",
    "version": 3
   },
   "file_extension": ".py",
   "mimetype": "text/x-python",
   "name": "python",
   "nbconvert_exporter": "python",
   "pygments_lexer": "ipython3",
   "version": "3.10.5"
  }
 },
 "nbformat": 4,
 "nbformat_minor": 5
}
