{
 "cells": [
  {
   "cell_type": "code",
   "execution_count": 2,
   "id": "cff36d52",
   "metadata": {},
   "outputs": [],
   "source": [
    "from numpy import random"
   ]
  },
  {
   "cell_type": "code",
   "execution_count": 40,
   "id": "a68c5249",
   "metadata": {},
   "outputs": [
    {
     "data": {
      "text/plain": [
       "25"
      ]
     },
     "execution_count": 40,
     "metadata": {},
     "output_type": "execute_result"
    }
   ],
   "source": [
    "random.randint(100)"
   ]
  },
  {
   "cell_type": "code",
   "execution_count": 88,
   "id": "33f4d5a6",
   "metadata": {},
   "outputs": [
    {
     "data": {
      "text/plain": [
       "100"
      ]
     },
     "execution_count": 88,
     "metadata": {},
     "output_type": "execute_result"
    }
   ],
   "source": [
    "random.randint(50,101)"
   ]
  },
  {
   "cell_type": "code",
   "execution_count": 119,
   "id": "e7ffe521",
   "metadata": {},
   "outputs": [
    {
     "data": {
      "text/plain": [
       "0.10753712205485466"
      ]
     },
     "execution_count": 119,
     "metadata": {},
     "output_type": "execute_result"
    }
   ],
   "source": [
    "random.rand()"
   ]
  },
  {
   "cell_type": "code",
   "execution_count": 127,
   "id": "99958bd8",
   "metadata": {},
   "outputs": [
    {
     "data": {
      "text/plain": [
       "array([0.46965439, 0.91166156, 0.34934523, 0.44149715, 0.6911382 ])"
      ]
     },
     "execution_count": 127,
     "metadata": {},
     "output_type": "execute_result"
    }
   ],
   "source": [
    "random.rand(5)"
   ]
  },
  {
   "cell_type": "code",
   "execution_count": 140,
   "id": "118dfb0b",
   "metadata": {},
   "outputs": [
    {
     "data": {
      "text/plain": [
       "array([57, 88, 73, 88, 84])"
      ]
     },
     "execution_count": 140,
     "metadata": {},
     "output_type": "execute_result"
    }
   ],
   "source": [
    "random.randint(50,101,size=5)"
   ]
  },
  {
   "cell_type": "code",
   "execution_count": 164,
   "id": "6b275ee9",
   "metadata": {},
   "outputs": [
    {
     "data": {
      "text/plain": [
       "array([[67, 75],\n",
       "       [72, 86],\n",
       "       [91, 84],\n",
       "       [93, 69],\n",
       "       [96, 92]])"
      ]
     },
     "execution_count": 164,
     "metadata": {},
     "output_type": "execute_result"
    }
   ],
   "source": [
    "random.randint(50,101,size=(5,2))"
   ]
  },
  {
   "cell_type": "code",
   "execution_count": 172,
   "id": "a7d777e6",
   "metadata": {},
   "outputs": [
    {
     "data": {
      "text/plain": [
       "array([[81, 55, 55, 90, 53],\n",
       "       [58, 99, 98, 74, 91]])"
      ]
     },
     "execution_count": 172,
     "metadata": {},
     "output_type": "execute_result"
    }
   ],
   "source": [
    "random.randint(50,101,size=(2,5))"
   ]
  },
  {
   "cell_type": "code",
   "execution_count": 177,
   "id": "47350e5b",
   "metadata": {},
   "outputs": [
    {
     "data": {
      "text/plain": [
       "array([[[[[61, 50],\n",
       "          [93, 99]],\n",
       "\n",
       "         [[99, 64],\n",
       "          [75, 62]]],\n",
       "\n",
       "\n",
       "        [[[59, 80],\n",
       "          [51, 51]],\n",
       "\n",
       "         [[89, 88],\n",
       "          [82, 68]]],\n",
       "\n",
       "\n",
       "        [[[60, 83],\n",
       "          [86, 82]],\n",
       "\n",
       "         [[97, 65],\n",
       "          [87, 58]]],\n",
       "\n",
       "\n",
       "        [[[98, 52],\n",
       "          [87, 96]],\n",
       "\n",
       "         [[81, 60],\n",
       "          [78, 89]]],\n",
       "\n",
       "\n",
       "        [[[65, 74],\n",
       "          [68, 81]],\n",
       "\n",
       "         [[70, 85],\n",
       "          [51, 58]]]],\n",
       "\n",
       "\n",
       "\n",
       "       [[[[72, 92],\n",
       "          [69, 60]],\n",
       "\n",
       "         [[73, 81],\n",
       "          [56, 85]]],\n",
       "\n",
       "\n",
       "        [[[57, 95],\n",
       "          [68, 50]],\n",
       "\n",
       "         [[72, 84],\n",
       "          [58, 99]]],\n",
       "\n",
       "\n",
       "        [[[54, 97],\n",
       "          [77, 94]],\n",
       "\n",
       "         [[53, 51],\n",
       "          [85, 56]]],\n",
       "\n",
       "\n",
       "        [[[79, 82],\n",
       "          [80, 93]],\n",
       "\n",
       "         [[52, 55],\n",
       "          [78, 55]]],\n",
       "\n",
       "\n",
       "        [[[85, 83],\n",
       "          [89, 68]],\n",
       "\n",
       "         [[84, 97],\n",
       "          [70, 69]]]]])"
      ]
     },
     "execution_count": 177,
     "metadata": {},
     "output_type": "execute_result"
    }
   ],
   "source": [
    "random.randint(50,101,size=(2,5,2,2,2))"
   ]
  },
  {
   "cell_type": "code",
   "execution_count": null,
   "id": "1162dc77",
   "metadata": {},
   "outputs": [],
   "source": [
    "b=['']"
   ]
  }
 ],
 "metadata": {
  "kernelspec": {
   "display_name": "Python 3 (ipykernel)",
   "language": "python",
   "name": "python3"
  },
  "language_info": {
   "codemirror_mode": {
    "name": "ipython",
    "version": 3
   },
   "file_extension": ".py",
   "mimetype": "text/x-python",
   "name": "python",
   "nbconvert_exporter": "python",
   "pygments_lexer": "ipython3",
   "version": "3.10.5"
  }
 },
 "nbformat": 4,
 "nbformat_minor": 5
}
