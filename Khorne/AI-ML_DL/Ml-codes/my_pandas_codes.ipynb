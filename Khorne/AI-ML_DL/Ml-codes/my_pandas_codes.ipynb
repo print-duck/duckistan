{
 "cells": [
  {
   "cell_type": "code",
   "execution_count": 2,
   "id": "5c87e414",
   "metadata": {},
   "outputs": [],
   "source": [
    "import numpy as np"
   ]
  },
  {
   "cell_type": "code",
   "execution_count": 3,
   "id": "f77822da",
   "metadata": {},
   "outputs": [],
   "source": [
    "#pandas is a python library to handle data sets"
   ]
  },
  {
   "cell_type": "code",
   "execution_count": 4,
   "id": "997dca8b",
   "metadata": {},
   "outputs": [],
   "source": [
    "#data cleaning, analysis, etc"
   ]
  },
  {
   "cell_type": "code",
   "execution_count": 5,
   "id": "330f5a72",
   "metadata": {},
   "outputs": [],
   "source": [
    "#a dataset problem, survey, details -tt"
   ]
  },
  {
   "cell_type": "code",
   "execution_count": 6,
   "id": "2816271e",
   "metadata": {},
   "outputs": [],
   "source": [
    "import pandas as pd"
   ]
  },
  {
   "cell_type": "code",
   "execution_count": 7,
   "id": "f9cb9b25",
   "metadata": {},
   "outputs": [],
   "source": [
    "#data framing"
   ]
  },
  {
   "cell_type": "code",
   "execution_count": null,
   "id": "dc04aa5e",
   "metadata": {},
   "outputs": [],
   "source": []
  }
 ],
 "metadata": {
  "kernelspec": {
   "display_name": "Python 3 (ipykernel)",
   "language": "python",
   "name": "python3"
  },
  "language_info": {
   "codemirror_mode": {
    "name": "ipython",
    "version": 3
   },
   "file_extension": ".py",
   "mimetype": "text/x-python",
   "name": "python",
   "nbconvert_exporter": "python",
   "pygments_lexer": "ipython3",
   "version": "3.10.5"
  }
 },
 "nbformat": 4,
 "nbformat_minor": 5
}
